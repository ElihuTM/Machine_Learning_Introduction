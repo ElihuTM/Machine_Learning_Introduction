{
 "metadata": {
  "language_info": {
   "codemirror_mode": {
    "name": "ipython",
    "version": 3
   },
   "file_extension": ".py",
   "mimetype": "text/x-python",
   "name": "python",
   "nbconvert_exporter": "python",
   "pygments_lexer": "ipython3",
   "version": "3.8.5-final"
  },
  "orig_nbformat": 2,
  "kernelspec": {
   "name": "python3",
   "display_name": "Python 3",
   "language": "python"
  }
 },
 "nbformat": 4,
 "nbformat_minor": 2,
 "cells": [
  {
   "source": [
    "# Join Datasets"
   ],
   "cell_type": "markdown",
   "metadata": {}
  },
  {
   "cell_type": "code",
   "execution_count": 1,
   "metadata": {},
   "outputs": [],
   "source": [
    "import pandas as pd\n",
    "import numpy as np\n",
    "import matplotlib.pyplot as plt\n",
    "import sklearn as skl\n",
    "import os"
   ]
  },
  {
   "cell_type": "code",
   "execution_count": 2,
   "metadata": {},
   "outputs": [],
   "source": [
    "mainpath = '/mnt/c/Users/ruben/OneDrive/Documentos/MachineLearning/udemy/Machine_Learning_Introduction/datasets'\n",
    "red_wine_model_filename = 'wine/winequality-red.csv'\n",
    "white_wine_model_filename = 'wine/winequality-white.csv'\n",
    "\n",
    "red_wine_model = os.path.join(mainpath, red_wine_model_filename)\n",
    "white_wine_model = os.path.join(mainpath, white_wine_model_filename)\n",
    "\n",
    "red_wine = pd.read_csv(red_wine_model, sep=';')\n",
    "white_wine = pd.read_csv(white_wine_model, sep=';')"
   ]
  },
  {
   "cell_type": "code",
   "execution_count": 3,
   "metadata": {},
   "outputs": [
    {
     "output_type": "execute_result",
     "data": {
      "text/plain": [
       "   fixed acidity  volatile acidity  citric acid  residual sugar  chlorides  \\\n",
       "0            7.4              0.70         0.00             1.9      0.076   \n",
       "1            7.8              0.88         0.00             2.6      0.098   \n",
       "2            7.8              0.76         0.04             2.3      0.092   \n",
       "3           11.2              0.28         0.56             1.9      0.075   \n",
       "4            7.4              0.70         0.00             1.9      0.076   \n",
       "\n",
       "   free sulfur dioxide  total sulfur dioxide  density    pH  sulphates  \\\n",
       "0                 11.0                  34.0   0.9978  3.51       0.56   \n",
       "1                 25.0                  67.0   0.9968  3.20       0.68   \n",
       "2                 15.0                  54.0   0.9970  3.26       0.65   \n",
       "3                 17.0                  60.0   0.9980  3.16       0.58   \n",
       "4                 11.0                  34.0   0.9978  3.51       0.56   \n",
       "\n",
       "   alcohol  quality  \n",
       "0      9.4        5  \n",
       "1      9.8        5  \n",
       "2      9.8        5  \n",
       "3      9.8        6  \n",
       "4      9.4        5  "
      ],
      "text/html": "<div>\n<style scoped>\n    .dataframe tbody tr th:only-of-type {\n        vertical-align: middle;\n    }\n\n    .dataframe tbody tr th {\n        vertical-align: top;\n    }\n\n    .dataframe thead th {\n        text-align: right;\n    }\n</style>\n<table border=\"1\" class=\"dataframe\">\n  <thead>\n    <tr style=\"text-align: right;\">\n      <th></th>\n      <th>fixed acidity</th>\n      <th>volatile acidity</th>\n      <th>citric acid</th>\n      <th>residual sugar</th>\n      <th>chlorides</th>\n      <th>free sulfur dioxide</th>\n      <th>total sulfur dioxide</th>\n      <th>density</th>\n      <th>pH</th>\n      <th>sulphates</th>\n      <th>alcohol</th>\n      <th>quality</th>\n    </tr>\n  </thead>\n  <tbody>\n    <tr>\n      <th>0</th>\n      <td>7.4</td>\n      <td>0.70</td>\n      <td>0.00</td>\n      <td>1.9</td>\n      <td>0.076</td>\n      <td>11.0</td>\n      <td>34.0</td>\n      <td>0.9978</td>\n      <td>3.51</td>\n      <td>0.56</td>\n      <td>9.4</td>\n      <td>5</td>\n    </tr>\n    <tr>\n      <th>1</th>\n      <td>7.8</td>\n      <td>0.88</td>\n      <td>0.00</td>\n      <td>2.6</td>\n      <td>0.098</td>\n      <td>25.0</td>\n      <td>67.0</td>\n      <td>0.9968</td>\n      <td>3.20</td>\n      <td>0.68</td>\n      <td>9.8</td>\n      <td>5</td>\n    </tr>\n    <tr>\n      <th>2</th>\n      <td>7.8</td>\n      <td>0.76</td>\n      <td>0.04</td>\n      <td>2.3</td>\n      <td>0.092</td>\n      <td>15.0</td>\n      <td>54.0</td>\n      <td>0.9970</td>\n      <td>3.26</td>\n      <td>0.65</td>\n      <td>9.8</td>\n      <td>5</td>\n    </tr>\n    <tr>\n      <th>3</th>\n      <td>11.2</td>\n      <td>0.28</td>\n      <td>0.56</td>\n      <td>1.9</td>\n      <td>0.075</td>\n      <td>17.0</td>\n      <td>60.0</td>\n      <td>0.9980</td>\n      <td>3.16</td>\n      <td>0.58</td>\n      <td>9.8</td>\n      <td>6</td>\n    </tr>\n    <tr>\n      <th>4</th>\n      <td>7.4</td>\n      <td>0.70</td>\n      <td>0.00</td>\n      <td>1.9</td>\n      <td>0.076</td>\n      <td>11.0</td>\n      <td>34.0</td>\n      <td>0.9978</td>\n      <td>3.51</td>\n      <td>0.56</td>\n      <td>9.4</td>\n      <td>5</td>\n    </tr>\n  </tbody>\n</table>\n</div>"
     },
     "metadata": {},
     "execution_count": 3
    }
   ],
   "source": [
    "red_wine.head()"
   ]
  },
  {
   "cell_type": "code",
   "execution_count": 4,
   "metadata": {},
   "outputs": [
    {
     "output_type": "execute_result",
     "data": {
      "text/plain": [
       "   fixed acidity  volatile acidity  citric acid  residual sugar  chlorides  \\\n",
       "0            7.0              0.27         0.36            20.7      0.045   \n",
       "1            6.3              0.30         0.34             1.6      0.049   \n",
       "2            8.1              0.28         0.40             6.9      0.050   \n",
       "3            7.2              0.23         0.32             8.5      0.058   \n",
       "4            7.2              0.23         0.32             8.5      0.058   \n",
       "\n",
       "   free sulfur dioxide  total sulfur dioxide  density    pH  sulphates  \\\n",
       "0                 45.0                 170.0   1.0010  3.00       0.45   \n",
       "1                 14.0                 132.0   0.9940  3.30       0.49   \n",
       "2                 30.0                  97.0   0.9951  3.26       0.44   \n",
       "3                 47.0                 186.0   0.9956  3.19       0.40   \n",
       "4                 47.0                 186.0   0.9956  3.19       0.40   \n",
       "\n",
       "   alcohol  quality  \n",
       "0      8.8        6  \n",
       "1      9.5        6  \n",
       "2     10.1        6  \n",
       "3      9.9        6  \n",
       "4      9.9        6  "
      ],
      "text/html": "<div>\n<style scoped>\n    .dataframe tbody tr th:only-of-type {\n        vertical-align: middle;\n    }\n\n    .dataframe tbody tr th {\n        vertical-align: top;\n    }\n\n    .dataframe thead th {\n        text-align: right;\n    }\n</style>\n<table border=\"1\" class=\"dataframe\">\n  <thead>\n    <tr style=\"text-align: right;\">\n      <th></th>\n      <th>fixed acidity</th>\n      <th>volatile acidity</th>\n      <th>citric acid</th>\n      <th>residual sugar</th>\n      <th>chlorides</th>\n      <th>free sulfur dioxide</th>\n      <th>total sulfur dioxide</th>\n      <th>density</th>\n      <th>pH</th>\n      <th>sulphates</th>\n      <th>alcohol</th>\n      <th>quality</th>\n    </tr>\n  </thead>\n  <tbody>\n    <tr>\n      <th>0</th>\n      <td>7.0</td>\n      <td>0.27</td>\n      <td>0.36</td>\n      <td>20.7</td>\n      <td>0.045</td>\n      <td>45.0</td>\n      <td>170.0</td>\n      <td>1.0010</td>\n      <td>3.00</td>\n      <td>0.45</td>\n      <td>8.8</td>\n      <td>6</td>\n    </tr>\n    <tr>\n      <th>1</th>\n      <td>6.3</td>\n      <td>0.30</td>\n      <td>0.34</td>\n      <td>1.6</td>\n      <td>0.049</td>\n      <td>14.0</td>\n      <td>132.0</td>\n      <td>0.9940</td>\n      <td>3.30</td>\n      <td>0.49</td>\n      <td>9.5</td>\n      <td>6</td>\n    </tr>\n    <tr>\n      <th>2</th>\n      <td>8.1</td>\n      <td>0.28</td>\n      <td>0.40</td>\n      <td>6.9</td>\n      <td>0.050</td>\n      <td>30.0</td>\n      <td>97.0</td>\n      <td>0.9951</td>\n      <td>3.26</td>\n      <td>0.44</td>\n      <td>10.1</td>\n      <td>6</td>\n    </tr>\n    <tr>\n      <th>3</th>\n      <td>7.2</td>\n      <td>0.23</td>\n      <td>0.32</td>\n      <td>8.5</td>\n      <td>0.058</td>\n      <td>47.0</td>\n      <td>186.0</td>\n      <td>0.9956</td>\n      <td>3.19</td>\n      <td>0.40</td>\n      <td>9.9</td>\n      <td>6</td>\n    </tr>\n    <tr>\n      <th>4</th>\n      <td>7.2</td>\n      <td>0.23</td>\n      <td>0.32</td>\n      <td>8.5</td>\n      <td>0.058</td>\n      <td>47.0</td>\n      <td>186.0</td>\n      <td>0.9956</td>\n      <td>3.19</td>\n      <td>0.40</td>\n      <td>9.9</td>\n      <td>6</td>\n    </tr>\n  </tbody>\n</table>\n</div>"
     },
     "metadata": {},
     "execution_count": 4
    }
   ],
   "source": [
    "white_wine.head()"
   ]
  },
  {
   "cell_type": "code",
   "execution_count": 5,
   "metadata": {},
   "outputs": [
    {
     "output_type": "execute_result",
     "data": {
      "text/plain": [
       "array(['fixed acidity', 'volatile acidity', 'citric acid',\n",
       "       'residual sugar', 'chlorides', 'free sulfur dioxide',\n",
       "       'total sulfur dioxide', 'density', 'pH', 'sulphates', 'alcohol',\n",
       "       'quality'], dtype=object)"
      ]
     },
     "metadata": {},
     "execution_count": 5
    }
   ],
   "source": [
    "red_wine.columns.values"
   ]
  },
  {
   "cell_type": "code",
   "execution_count": 6,
   "metadata": {},
   "outputs": [
    {
     "output_type": "execute_result",
     "data": {
      "text/plain": [
       "(array([ 37., 808., 969., 761., 765., 625., 427., 368., 110.,  28.]),\n",
       " array([ 8.  ,  8.62,  9.24,  9.86, 10.48, 11.1 , 11.72, 12.34, 12.96,\n",
       "        13.58, 14.2 ]),\n",
       " <BarContainer object of 10 artists>)"
      ]
     },
     "metadata": {},
     "execution_count": 6
    },
    {
     "output_type": "display_data",
     "data": {
      "text/plain": "<Figure size 432x288 with 1 Axes>",
      "image/svg+xml": "<?xml version=\"1.0\" encoding=\"utf-8\" standalone=\"no\"?>\n<!DOCTYPE svg PUBLIC \"-//W3C//DTD SVG 1.1//EN\"\n  \"http://www.w3.org/Graphics/SVG/1.1/DTD/svg11.dtd\">\n<!-- Created with matplotlib (https://matplotlib.org/) -->\n<svg height=\"248.588091pt\" version=\"1.1\" viewBox=\"0 0 381.65 248.588091\" width=\"381.65pt\" xmlns=\"http://www.w3.org/2000/svg\" xmlns:xlink=\"http://www.w3.org/1999/xlink\">\n <metadata>\n  <rdf:RDF xmlns:cc=\"http://creativecommons.org/ns#\" xmlns:dc=\"http://purl.org/dc/elements/1.1/\" xmlns:rdf=\"http://www.w3.org/1999/02/22-rdf-syntax-ns#\">\n   <cc:Work>\n    <dc:type rdf:resource=\"http://purl.org/dc/dcmitype/StillImage\"/>\n    <dc:date>2021-02-05T10:51:43.990193</dc:date>\n    <dc:format>image/svg+xml</dc:format>\n    <dc:creator>\n     <cc:Agent>\n      <dc:title>Matplotlib v3.3.4, https://matplotlib.org/</dc:title>\n     </cc:Agent>\n    </dc:creator>\n   </cc:Work>\n  </rdf:RDF>\n </metadata>\n <defs>\n  <style type=\"text/css\">*{stroke-linecap:butt;stroke-linejoin:round;}</style>\n </defs>\n <g id=\"figure_1\">\n  <g id=\"patch_1\">\n   <path d=\"M -0 248.588091 \nL 381.65 248.588091 \nL 381.65 0 \nL -0 0 \nz\n\" style=\"fill:none;\"/>\n  </g>\n  <g id=\"axes_1\">\n   <g id=\"patch_2\">\n    <path d=\"M 39.65 224.709966 \nL 374.45 224.709966 \nL 374.45 7.269966 \nL 39.65 7.269966 \nz\n\" style=\"fill:#ffffff;\"/>\n   </g>\n   <g id=\"patch_3\">\n    <path clip-path=\"url(#pac7db93e40)\" d=\"M 54.868182 224.709966 \nL 85.304545 224.709966 \nL 85.304545 216.802669 \nL 54.868182 216.802669 \nz\n\" style=\"fill:#1f77b4;\"/>\n   </g>\n   <g id=\"patch_4\">\n    <path clip-path=\"url(#pac7db93e40)\" d=\"M 85.304545 224.709966 \nL 115.740909 224.709966 \nL 115.740909 52.031682 \nL 85.304545 52.031682 \nz\n\" style=\"fill:#1f77b4;\"/>\n   </g>\n   <g id=\"patch_5\">\n    <path clip-path=\"url(#pac7db93e40)\" d=\"M 115.740909 224.709966 \nL 146.177273 224.709966 \nL 146.177273 17.624252 \nL 115.740909 17.624252 \nz\n\" style=\"fill:#1f77b4;\"/>\n   </g>\n   <g id=\"patch_6\">\n    <path clip-path=\"url(#pac7db93e40)\" d=\"M 146.177273 224.709966 \nL 176.613636 224.709966 \nL 176.613636 62.076087 \nL 146.177273 62.076087 \nz\n\" style=\"fill:#1f77b4;\"/>\n   </g>\n   <g id=\"patch_7\">\n    <path clip-path=\"url(#pac7db93e40)\" d=\"M 176.613636 224.709966 \nL 207.05 224.709966 \nL 207.05 61.221244 \nL 176.613636 61.221244 \nz\n\" style=\"fill:#1f77b4;\"/>\n   </g>\n   <g id=\"patch_8\">\n    <path clip-path=\"url(#pac7db93e40)\" d=\"M 207.05 224.709966 \nL 237.486364 224.709966 \nL 237.486364 91.140749 \nL 207.05 91.140749 \nz\n\" style=\"fill:#1f77b4;\"/>\n   </g>\n   <g id=\"patch_9\">\n    <path clip-path=\"url(#pac7db93e40)\" d=\"M 237.486364 224.709966 \nL 267.922727 224.709966 \nL 267.922727 133.455477 \nL 237.486364 133.455477 \nz\n\" style=\"fill:#1f77b4;\"/>\n   </g>\n   <g id=\"patch_10\">\n    <path clip-path=\"url(#pac7db93e40)\" d=\"M 267.922727 224.709966 \nL 298.359091 224.709966 \nL 298.359091 146.064411 \nL 267.922727 146.064411 \nz\n\" style=\"fill:#1f77b4;\"/>\n   </g>\n   <g id=\"patch_11\">\n    <path clip-path=\"url(#pac7db93e40)\" d=\"M 298.359091 224.709966 \nL 328.795455 224.709966 \nL 328.795455 201.201784 \nL 298.359091 201.201784 \nz\n\" style=\"fill:#1f77b4;\"/>\n   </g>\n   <g id=\"patch_12\">\n    <path clip-path=\"url(#pac7db93e40)\" d=\"M 328.795455 224.709966 \nL 359.231818 224.709966 \nL 359.231818 218.726065 \nL 328.795455 218.726065 \nz\n\" style=\"fill:#1f77b4;\"/>\n   </g>\n   <g id=\"matplotlib.axis_1\">\n    <g id=\"xtick_1\">\n     <g id=\"line2d_1\">\n      <defs>\n       <path d=\"M 0 0 \nL 0 3.5 \n\" id=\"ma245263b07\" style=\"stroke:#000000;stroke-width:0.8;\"/>\n      </defs>\n      <g>\n       <use style=\"stroke:#000000;stroke-width:0.8;\" x=\"54.868182\" xlink:href=\"#ma245263b07\" y=\"224.709966\"/>\n      </g>\n     </g>\n     <g id=\"text_1\">\n      <!-- 8 -->\n      <g transform=\"translate(51.686932 239.308404)scale(0.1 -0.1)\">\n       <defs>\n        <path d=\"M 31.78125 34.625 \nQ 24.75 34.625 20.71875 30.859375 \nQ 16.703125 27.09375 16.703125 20.515625 \nQ 16.703125 13.921875 20.71875 10.15625 \nQ 24.75 6.390625 31.78125 6.390625 \nQ 38.8125 6.390625 42.859375 10.171875 \nQ 46.921875 13.96875 46.921875 20.515625 \nQ 46.921875 27.09375 42.890625 30.859375 \nQ 38.875 34.625 31.78125 34.625 \nz\nM 21.921875 38.8125 \nQ 15.578125 40.375 12.03125 44.71875 \nQ 8.5 49.078125 8.5 55.328125 \nQ 8.5 64.0625 14.71875 69.140625 \nQ 20.953125 74.21875 31.78125 74.21875 \nQ 42.671875 74.21875 48.875 69.140625 \nQ 55.078125 64.0625 55.078125 55.328125 \nQ 55.078125 49.078125 51.53125 44.71875 \nQ 48 40.375 41.703125 38.8125 \nQ 48.828125 37.15625 52.796875 32.3125 \nQ 56.78125 27.484375 56.78125 20.515625 \nQ 56.78125 9.90625 50.3125 4.234375 \nQ 43.84375 -1.421875 31.78125 -1.421875 \nQ 19.734375 -1.421875 13.25 4.234375 \nQ 6.78125 9.90625 6.78125 20.515625 \nQ 6.78125 27.484375 10.78125 32.3125 \nQ 14.796875 37.15625 21.921875 38.8125 \nz\nM 18.3125 54.390625 \nQ 18.3125 48.734375 21.84375 45.5625 \nQ 25.390625 42.390625 31.78125 42.390625 \nQ 38.140625 42.390625 41.71875 45.5625 \nQ 45.3125 48.734375 45.3125 54.390625 \nQ 45.3125 60.0625 41.71875 63.234375 \nQ 38.140625 66.40625 31.78125 66.40625 \nQ 25.390625 66.40625 21.84375 63.234375 \nQ 18.3125 60.0625 18.3125 54.390625 \nz\n\" id=\"DejaVuSans-56\"/>\n       </defs>\n       <use xlink:href=\"#DejaVuSans-56\"/>\n      </g>\n     </g>\n    </g>\n    <g id=\"xtick_2\">\n     <g id=\"line2d_2\">\n      <g>\n       <use style=\"stroke:#000000;stroke-width:0.8;\" x=\"103.959091\" xlink:href=\"#ma245263b07\" y=\"224.709966\"/>\n      </g>\n     </g>\n     <g id=\"text_2\">\n      <!-- 9 -->\n      <g transform=\"translate(100.777841 239.308404)scale(0.1 -0.1)\">\n       <defs>\n        <path d=\"M 10.984375 1.515625 \nL 10.984375 10.5 \nQ 14.703125 8.734375 18.5 7.8125 \nQ 22.3125 6.890625 25.984375 6.890625 \nQ 35.75 6.890625 40.890625 13.453125 \nQ 46.046875 20.015625 46.78125 33.40625 \nQ 43.953125 29.203125 39.59375 26.953125 \nQ 35.25 24.703125 29.984375 24.703125 \nQ 19.046875 24.703125 12.671875 31.3125 \nQ 6.296875 37.9375 6.296875 49.421875 \nQ 6.296875 60.640625 12.9375 67.421875 \nQ 19.578125 74.21875 30.609375 74.21875 \nQ 43.265625 74.21875 49.921875 64.515625 \nQ 56.59375 54.828125 56.59375 36.375 \nQ 56.59375 19.140625 48.40625 8.859375 \nQ 40.234375 -1.421875 26.421875 -1.421875 \nQ 22.703125 -1.421875 18.890625 -0.6875 \nQ 15.09375 0.046875 10.984375 1.515625 \nz\nM 30.609375 32.421875 \nQ 37.25 32.421875 41.125 36.953125 \nQ 45.015625 41.5 45.015625 49.421875 \nQ 45.015625 57.28125 41.125 61.84375 \nQ 37.25 66.40625 30.609375 66.40625 \nQ 23.96875 66.40625 20.09375 61.84375 \nQ 16.21875 57.28125 16.21875 49.421875 \nQ 16.21875 41.5 20.09375 36.953125 \nQ 23.96875 32.421875 30.609375 32.421875 \nz\n\" id=\"DejaVuSans-57\"/>\n       </defs>\n       <use xlink:href=\"#DejaVuSans-57\"/>\n      </g>\n     </g>\n    </g>\n    <g id=\"xtick_3\">\n     <g id=\"line2d_3\">\n      <g>\n       <use style=\"stroke:#000000;stroke-width:0.8;\" x=\"153.05\" xlink:href=\"#ma245263b07\" y=\"224.709966\"/>\n      </g>\n     </g>\n     <g id=\"text_3\">\n      <!-- 10 -->\n      <g transform=\"translate(146.6875 239.308404)scale(0.1 -0.1)\">\n       <defs>\n        <path d=\"M 12.40625 8.296875 \nL 28.515625 8.296875 \nL 28.515625 63.921875 \nL 10.984375 60.40625 \nL 10.984375 69.390625 \nL 28.421875 72.90625 \nL 38.28125 72.90625 \nL 38.28125 8.296875 \nL 54.390625 8.296875 \nL 54.390625 0 \nL 12.40625 0 \nz\n\" id=\"DejaVuSans-49\"/>\n        <path d=\"M 31.78125 66.40625 \nQ 24.171875 66.40625 20.328125 58.90625 \nQ 16.5 51.421875 16.5 36.375 \nQ 16.5 21.390625 20.328125 13.890625 \nQ 24.171875 6.390625 31.78125 6.390625 \nQ 39.453125 6.390625 43.28125 13.890625 \nQ 47.125 21.390625 47.125 36.375 \nQ 47.125 51.421875 43.28125 58.90625 \nQ 39.453125 66.40625 31.78125 66.40625 \nz\nM 31.78125 74.21875 \nQ 44.046875 74.21875 50.515625 64.515625 \nQ 56.984375 54.828125 56.984375 36.375 \nQ 56.984375 17.96875 50.515625 8.265625 \nQ 44.046875 -1.421875 31.78125 -1.421875 \nQ 19.53125 -1.421875 13.0625 8.265625 \nQ 6.59375 17.96875 6.59375 36.375 \nQ 6.59375 54.828125 13.0625 64.515625 \nQ 19.53125 74.21875 31.78125 74.21875 \nz\n\" id=\"DejaVuSans-48\"/>\n       </defs>\n       <use xlink:href=\"#DejaVuSans-49\"/>\n       <use x=\"63.623047\" xlink:href=\"#DejaVuSans-48\"/>\n      </g>\n     </g>\n    </g>\n    <g id=\"xtick_4\">\n     <g id=\"line2d_4\">\n      <g>\n       <use style=\"stroke:#000000;stroke-width:0.8;\" x=\"202.140909\" xlink:href=\"#ma245263b07\" y=\"224.709966\"/>\n      </g>\n     </g>\n     <g id=\"text_4\">\n      <!-- 11 -->\n      <g transform=\"translate(195.778409 239.308404)scale(0.1 -0.1)\">\n       <use xlink:href=\"#DejaVuSans-49\"/>\n       <use x=\"63.623047\" xlink:href=\"#DejaVuSans-49\"/>\n      </g>\n     </g>\n    </g>\n    <g id=\"xtick_5\">\n     <g id=\"line2d_5\">\n      <g>\n       <use style=\"stroke:#000000;stroke-width:0.8;\" x=\"251.231818\" xlink:href=\"#ma245263b07\" y=\"224.709966\"/>\n      </g>\n     </g>\n     <g id=\"text_5\">\n      <!-- 12 -->\n      <g transform=\"translate(244.869318 239.308404)scale(0.1 -0.1)\">\n       <defs>\n        <path d=\"M 19.1875 8.296875 \nL 53.609375 8.296875 \nL 53.609375 0 \nL 7.328125 0 \nL 7.328125 8.296875 \nQ 12.9375 14.109375 22.625 23.890625 \nQ 32.328125 33.6875 34.8125 36.53125 \nQ 39.546875 41.84375 41.421875 45.53125 \nQ 43.3125 49.21875 43.3125 52.78125 \nQ 43.3125 58.59375 39.234375 62.25 \nQ 35.15625 65.921875 28.609375 65.921875 \nQ 23.96875 65.921875 18.8125 64.3125 \nQ 13.671875 62.703125 7.8125 59.421875 \nL 7.8125 69.390625 \nQ 13.765625 71.78125 18.9375 73 \nQ 24.125 74.21875 28.421875 74.21875 \nQ 39.75 74.21875 46.484375 68.546875 \nQ 53.21875 62.890625 53.21875 53.421875 \nQ 53.21875 48.921875 51.53125 44.890625 \nQ 49.859375 40.875 45.40625 35.40625 \nQ 44.1875 33.984375 37.640625 27.21875 \nQ 31.109375 20.453125 19.1875 8.296875 \nz\n\" id=\"DejaVuSans-50\"/>\n       </defs>\n       <use xlink:href=\"#DejaVuSans-49\"/>\n       <use x=\"63.623047\" xlink:href=\"#DejaVuSans-50\"/>\n      </g>\n     </g>\n    </g>\n    <g id=\"xtick_6\">\n     <g id=\"line2d_6\">\n      <g>\n       <use style=\"stroke:#000000;stroke-width:0.8;\" x=\"300.322727\" xlink:href=\"#ma245263b07\" y=\"224.709966\"/>\n      </g>\n     </g>\n     <g id=\"text_6\">\n      <!-- 13 -->\n      <g transform=\"translate(293.960227 239.308404)scale(0.1 -0.1)\">\n       <defs>\n        <path d=\"M 40.578125 39.3125 \nQ 47.65625 37.796875 51.625 33 \nQ 55.609375 28.21875 55.609375 21.1875 \nQ 55.609375 10.40625 48.1875 4.484375 \nQ 40.765625 -1.421875 27.09375 -1.421875 \nQ 22.515625 -1.421875 17.65625 -0.515625 \nQ 12.796875 0.390625 7.625 2.203125 \nL 7.625 11.71875 \nQ 11.71875 9.328125 16.59375 8.109375 \nQ 21.484375 6.890625 26.8125 6.890625 \nQ 36.078125 6.890625 40.9375 10.546875 \nQ 45.796875 14.203125 45.796875 21.1875 \nQ 45.796875 27.640625 41.28125 31.265625 \nQ 36.765625 34.90625 28.71875 34.90625 \nL 20.21875 34.90625 \nL 20.21875 43.015625 \nL 29.109375 43.015625 \nQ 36.375 43.015625 40.234375 45.921875 \nQ 44.09375 48.828125 44.09375 54.296875 \nQ 44.09375 59.90625 40.109375 62.90625 \nQ 36.140625 65.921875 28.71875 65.921875 \nQ 24.65625 65.921875 20.015625 65.03125 \nQ 15.375 64.15625 9.8125 62.3125 \nL 9.8125 71.09375 \nQ 15.4375 72.65625 20.34375 73.4375 \nQ 25.25 74.21875 29.59375 74.21875 \nQ 40.828125 74.21875 47.359375 69.109375 \nQ 53.90625 64.015625 53.90625 55.328125 \nQ 53.90625 49.265625 50.4375 45.09375 \nQ 46.96875 40.921875 40.578125 39.3125 \nz\n\" id=\"DejaVuSans-51\"/>\n       </defs>\n       <use xlink:href=\"#DejaVuSans-49\"/>\n       <use x=\"63.623047\" xlink:href=\"#DejaVuSans-51\"/>\n      </g>\n     </g>\n    </g>\n    <g id=\"xtick_7\">\n     <g id=\"line2d_7\">\n      <g>\n       <use style=\"stroke:#000000;stroke-width:0.8;\" x=\"349.413636\" xlink:href=\"#ma245263b07\" y=\"224.709966\"/>\n      </g>\n     </g>\n     <g id=\"text_7\">\n      <!-- 14 -->\n      <g transform=\"translate(343.051136 239.308404)scale(0.1 -0.1)\">\n       <defs>\n        <path d=\"M 37.796875 64.3125 \nL 12.890625 25.390625 \nL 37.796875 25.390625 \nz\nM 35.203125 72.90625 \nL 47.609375 72.90625 \nL 47.609375 25.390625 \nL 58.015625 25.390625 \nL 58.015625 17.1875 \nL 47.609375 17.1875 \nL 47.609375 0 \nL 37.796875 0 \nL 37.796875 17.1875 \nL 4.890625 17.1875 \nL 4.890625 26.703125 \nz\n\" id=\"DejaVuSans-52\"/>\n       </defs>\n       <use xlink:href=\"#DejaVuSans-49\"/>\n       <use x=\"63.623047\" xlink:href=\"#DejaVuSans-52\"/>\n      </g>\n     </g>\n    </g>\n   </g>\n   <g id=\"matplotlib.axis_2\">\n    <g id=\"ytick_1\">\n     <g id=\"line2d_8\">\n      <defs>\n       <path d=\"M 0 0 \nL -3.5 0 \n\" id=\"mf15dcaa55a\" style=\"stroke:#000000;stroke-width:0.8;\"/>\n      </defs>\n      <g>\n       <use style=\"stroke:#000000;stroke-width:0.8;\" x=\"39.65\" xlink:href=\"#mf15dcaa55a\" y=\"224.709966\"/>\n      </g>\n     </g>\n     <g id=\"text_8\">\n      <!-- 0 -->\n      <g transform=\"translate(26.2875 228.509185)scale(0.1 -0.1)\">\n       <use xlink:href=\"#DejaVuSans-48\"/>\n      </g>\n     </g>\n    </g>\n    <g id=\"ytick_2\">\n     <g id=\"line2d_9\">\n      <g>\n       <use style=\"stroke:#000000;stroke-width:0.8;\" x=\"39.65\" xlink:href=\"#mf15dcaa55a\" y=\"181.967817\"/>\n      </g>\n     </g>\n     <g id=\"text_9\">\n      <!-- 200 -->\n      <g transform=\"translate(13.5625 185.767035)scale(0.1 -0.1)\">\n       <use xlink:href=\"#DejaVuSans-50\"/>\n       <use x=\"63.623047\" xlink:href=\"#DejaVuSans-48\"/>\n       <use x=\"127.246094\" xlink:href=\"#DejaVuSans-48\"/>\n      </g>\n     </g>\n    </g>\n    <g id=\"ytick_3\">\n     <g id=\"line2d_10\">\n      <g>\n       <use style=\"stroke:#000000;stroke-width:0.8;\" x=\"39.65\" xlink:href=\"#mf15dcaa55a\" y=\"139.225667\"/>\n      </g>\n     </g>\n     <g id=\"text_10\">\n      <!-- 400 -->\n      <g transform=\"translate(13.5625 143.024886)scale(0.1 -0.1)\">\n       <use xlink:href=\"#DejaVuSans-52\"/>\n       <use x=\"63.623047\" xlink:href=\"#DejaVuSans-48\"/>\n       <use x=\"127.246094\" xlink:href=\"#DejaVuSans-48\"/>\n      </g>\n     </g>\n    </g>\n    <g id=\"ytick_4\">\n     <g id=\"line2d_11\">\n      <g>\n       <use style=\"stroke:#000000;stroke-width:0.8;\" x=\"39.65\" xlink:href=\"#mf15dcaa55a\" y=\"96.483518\"/>\n      </g>\n     </g>\n     <g id=\"text_11\">\n      <!-- 600 -->\n      <g transform=\"translate(13.5625 100.282736)scale(0.1 -0.1)\">\n       <defs>\n        <path d=\"M 33.015625 40.375 \nQ 26.375 40.375 22.484375 35.828125 \nQ 18.609375 31.296875 18.609375 23.390625 \nQ 18.609375 15.53125 22.484375 10.953125 \nQ 26.375 6.390625 33.015625 6.390625 \nQ 39.65625 6.390625 43.53125 10.953125 \nQ 47.40625 15.53125 47.40625 23.390625 \nQ 47.40625 31.296875 43.53125 35.828125 \nQ 39.65625 40.375 33.015625 40.375 \nz\nM 52.59375 71.296875 \nL 52.59375 62.3125 \nQ 48.875 64.0625 45.09375 64.984375 \nQ 41.3125 65.921875 37.59375 65.921875 \nQ 27.828125 65.921875 22.671875 59.328125 \nQ 17.53125 52.734375 16.796875 39.40625 \nQ 19.671875 43.65625 24.015625 45.921875 \nQ 28.375 48.1875 33.59375 48.1875 \nQ 44.578125 48.1875 50.953125 41.515625 \nQ 57.328125 34.859375 57.328125 23.390625 \nQ 57.328125 12.15625 50.6875 5.359375 \nQ 44.046875 -1.421875 33.015625 -1.421875 \nQ 20.359375 -1.421875 13.671875 8.265625 \nQ 6.984375 17.96875 6.984375 36.375 \nQ 6.984375 53.65625 15.1875 63.9375 \nQ 23.390625 74.21875 37.203125 74.21875 \nQ 40.921875 74.21875 44.703125 73.484375 \nQ 48.484375 72.75 52.59375 71.296875 \nz\n\" id=\"DejaVuSans-54\"/>\n       </defs>\n       <use xlink:href=\"#DejaVuSans-54\"/>\n       <use x=\"63.623047\" xlink:href=\"#DejaVuSans-48\"/>\n       <use x=\"127.246094\" xlink:href=\"#DejaVuSans-48\"/>\n      </g>\n     </g>\n    </g>\n    <g id=\"ytick_5\">\n     <g id=\"line2d_12\">\n      <g>\n       <use style=\"stroke:#000000;stroke-width:0.8;\" x=\"39.65\" xlink:href=\"#mf15dcaa55a\" y=\"53.741368\"/>\n      </g>\n     </g>\n     <g id=\"text_12\">\n      <!-- 800 -->\n      <g transform=\"translate(13.5625 57.540587)scale(0.1 -0.1)\">\n       <use xlink:href=\"#DejaVuSans-56\"/>\n       <use x=\"63.623047\" xlink:href=\"#DejaVuSans-48\"/>\n       <use x=\"127.246094\" xlink:href=\"#DejaVuSans-48\"/>\n      </g>\n     </g>\n    </g>\n    <g id=\"ytick_6\">\n     <g id=\"line2d_13\">\n      <g>\n       <use style=\"stroke:#000000;stroke-width:0.8;\" x=\"39.65\" xlink:href=\"#mf15dcaa55a\" y=\"10.999219\"/>\n      </g>\n     </g>\n     <g id=\"text_13\">\n      <!-- 1000 -->\n      <g transform=\"translate(7.2 14.798437)scale(0.1 -0.1)\">\n       <use xlink:href=\"#DejaVuSans-49\"/>\n       <use x=\"63.623047\" xlink:href=\"#DejaVuSans-48\"/>\n       <use x=\"127.246094\" xlink:href=\"#DejaVuSans-48\"/>\n       <use x=\"190.869141\" xlink:href=\"#DejaVuSans-48\"/>\n      </g>\n     </g>\n    </g>\n   </g>\n   <g id=\"patch_13\">\n    <path d=\"M 39.65 224.709966 \nL 39.65 7.269966 \n\" style=\"fill:none;stroke:#000000;stroke-linecap:square;stroke-linejoin:miter;stroke-width:0.8;\"/>\n   </g>\n   <g id=\"patch_14\">\n    <path d=\"M 374.45 224.709966 \nL 374.45 7.269966 \n\" style=\"fill:none;stroke:#000000;stroke-linecap:square;stroke-linejoin:miter;stroke-width:0.8;\"/>\n   </g>\n   <g id=\"patch_15\">\n    <path d=\"M 39.65 224.709966 \nL 374.45 224.709966 \n\" style=\"fill:none;stroke:#000000;stroke-linecap:square;stroke-linejoin:miter;stroke-width:0.8;\"/>\n   </g>\n   <g id=\"patch_16\">\n    <path d=\"M 39.65 7.269966 \nL 374.45 7.269966 \n\" style=\"fill:none;stroke:#000000;stroke-linecap:square;stroke-linejoin:miter;stroke-width:0.8;\"/>\n   </g>\n  </g>\n </g>\n <defs>\n  <clipPath id=\"pac7db93e40\">\n   <rect height=\"217.44\" width=\"334.8\" x=\"39.65\" y=\"7.269966\"/>\n  </clipPath>\n </defs>\n</svg>\n",
      "image/png": "[encoded data removed]"
     },
     "metadata": {
      "needs_background": "light"
     }
    }
   ],
   "source": [
    "plt.hist(white_wine['alcohol'])"
   ]
  },
  {
   "cell_type": "code",
   "execution_count": 7,
   "metadata": {},
   "outputs": [
    {
     "output_type": "stream",
     "name": "stdout",
     "text": [
      "1599\n4898\n"
     ]
    }
   ],
   "source": [
    "print(len(red_wine))\n",
    "print(len(white_wine))"
   ]
  },
  {
   "source": [
    "Tenemos dos tipos de ejes\n",
    "* axis = 0 -> horizontal\n",
    "* axis = 1 -> vertical"
   ],
   "cell_type": "markdown",
   "metadata": {}
  },
  {
   "cell_type": "code",
   "execution_count": 8,
   "metadata": {},
   "outputs": [
    {
     "output_type": "execute_result",
     "data": {
      "text/plain": [
       "(6497, 12)"
      ]
     },
     "metadata": {},
     "execution_count": 8
    }
   ],
   "source": [
    "wine_data = pd.concat([red_wine, white_wine], axis=0)\n",
    "wine_data.shape"
   ]
  },
  {
   "cell_type": "code",
   "execution_count": 9,
   "metadata": {},
   "outputs": [
    {
     "output_type": "execute_result",
     "data": {
      "text/plain": [
       "   fixed acidity  volatile acidity  citric acid  residual sugar  chlorides  \\\n",
       "0            7.4              0.70         0.00             1.9      0.076   \n",
       "1            7.8              0.88         0.00             2.6      0.098   \n",
       "2            7.8              0.76         0.04             2.3      0.092   \n",
       "3           11.2              0.28         0.56             1.9      0.075   \n",
       "4            7.4              0.70         0.00             1.9      0.076   \n",
       "\n",
       "   free sulfur dioxide  total sulfur dioxide  density    pH  sulphates  \\\n",
       "0                 11.0                  34.0   0.9978  3.51       0.56   \n",
       "1                 25.0                  67.0   0.9968  3.20       0.68   \n",
       "2                 15.0                  54.0   0.9970  3.26       0.65   \n",
       "3                 17.0                  60.0   0.9980  3.16       0.58   \n",
       "4                 11.0                  34.0   0.9978  3.51       0.56   \n",
       "\n",
       "   alcohol  quality  \n",
       "0      9.4        5  \n",
       "1      9.8        5  \n",
       "2      9.8        5  \n",
       "3      9.8        6  \n",
       "4      9.4        5  "
      ],
      "text/html": "<div>\n<style scoped>\n    .dataframe tbody tr th:only-of-type {\n        vertical-align: middle;\n    }\n\n    .dataframe tbody tr th {\n        vertical-align: top;\n    }\n\n    .dataframe thead th {\n        text-align: right;\n    }\n</style>\n<table border=\"1\" class=\"dataframe\">\n  <thead>\n    <tr style=\"text-align: right;\">\n      <th></th>\n      <th>fixed acidity</th>\n      <th>volatile acidity</th>\n      <th>citric acid</th>\n      <th>residual sugar</th>\n      <th>chlorides</th>\n      <th>free sulfur dioxide</th>\n      <th>total sulfur dioxide</th>\n      <th>density</th>\n      <th>pH</th>\n      <th>sulphates</th>\n      <th>alcohol</th>\n      <th>quality</th>\n    </tr>\n  </thead>\n  <tbody>\n    <tr>\n      <th>0</th>\n      <td>7.4</td>\n      <td>0.70</td>\n      <td>0.00</td>\n      <td>1.9</td>\n      <td>0.076</td>\n      <td>11.0</td>\n      <td>34.0</td>\n      <td>0.9978</td>\n      <td>3.51</td>\n      <td>0.56</td>\n      <td>9.4</td>\n      <td>5</td>\n    </tr>\n    <tr>\n      <th>1</th>\n      <td>7.8</td>\n      <td>0.88</td>\n      <td>0.00</td>\n      <td>2.6</td>\n      <td>0.098</td>\n      <td>25.0</td>\n      <td>67.0</td>\n      <td>0.9968</td>\n      <td>3.20</td>\n      <td>0.68</td>\n      <td>9.8</td>\n      <td>5</td>\n    </tr>\n    <tr>\n      <th>2</th>\n      <td>7.8</td>\n      <td>0.76</td>\n      <td>0.04</td>\n      <td>2.3</td>\n      <td>0.092</td>\n      <td>15.0</td>\n      <td>54.0</td>\n      <td>0.9970</td>\n      <td>3.26</td>\n      <td>0.65</td>\n      <td>9.8</td>\n      <td>5</td>\n    </tr>\n    <tr>\n      <th>3</th>\n      <td>11.2</td>\n      <td>0.28</td>\n      <td>0.56</td>\n      <td>1.9</td>\n      <td>0.075</td>\n      <td>17.0</td>\n      <td>60.0</td>\n      <td>0.9980</td>\n      <td>3.16</td>\n      <td>0.58</td>\n      <td>9.8</td>\n      <td>6</td>\n    </tr>\n    <tr>\n      <th>4</th>\n      <td>7.4</td>\n      <td>0.70</td>\n      <td>0.00</td>\n      <td>1.9</td>\n      <td>0.076</td>\n      <td>11.0</td>\n      <td>34.0</td>\n      <td>0.9978</td>\n      <td>3.51</td>\n      <td>0.56</td>\n      <td>9.4</td>\n      <td>5</td>\n    </tr>\n  </tbody>\n</table>\n</div>"
     },
     "metadata": {},
     "execution_count": 9
    }
   ],
   "source": [
    "wine_data.head()"
   ]
  },
  {
   "source": [
    "## Carga de datos distribuidos"
   ],
   "cell_type": "markdown",
   "metadata": {}
  },
  {
   "cell_type": "code",
   "execution_count": 10,
   "metadata": {},
   "outputs": [],
   "source": [
    "mainpath = '/mnt/c/Users/ruben/OneDrive/Documentos/MachineLearning/udemy/Machine_Learning_Introduction/datasets'\n",
    "filepath = 'distributed-data/001.csv'\n",
    "\n",
    "first_data = pd.read_csv(os.path.join(mainpath, filepath))"
   ]
  },
  {
   "cell_type": "code",
   "execution_count": 11,
   "metadata": {},
   "outputs": [
    {
     "output_type": "execute_result",
     "data": {
      "text/plain": [
       "         Date  sulfate  nitrate  ID\n",
       "0  2003-01-01      NaN      NaN   1\n",
       "1  2003-01-02      NaN      NaN   1\n",
       "2  2003-01-03      NaN      NaN   1\n",
       "3  2003-01-04      NaN      NaN   1\n",
       "4  2003-01-05      NaN      NaN   1"
      ],
      "text/html": "<div>\n<style scoped>\n    .dataframe tbody tr th:only-of-type {\n        vertical-align: middle;\n    }\n\n    .dataframe tbody tr th {\n        vertical-align: top;\n    }\n\n    .dataframe thead th {\n        text-align: right;\n    }\n</style>\n<table border=\"1\" class=\"dataframe\">\n  <thead>\n    <tr style=\"text-align: right;\">\n      <th></th>\n      <th>Date</th>\n      <th>sulfate</th>\n      <th>nitrate</th>\n      <th>ID</th>\n    </tr>\n  </thead>\n  <tbody>\n    <tr>\n      <th>0</th>\n      <td>2003-01-01</td>\n      <td>NaN</td>\n      <td>NaN</td>\n      <td>1</td>\n    </tr>\n    <tr>\n      <th>1</th>\n      <td>2003-01-02</td>\n      <td>NaN</td>\n      <td>NaN</td>\n      <td>1</td>\n    </tr>\n    <tr>\n      <th>2</th>\n      <td>2003-01-03</td>\n      <td>NaN</td>\n      <td>NaN</td>\n      <td>1</td>\n    </tr>\n    <tr>\n      <th>3</th>\n      <td>2003-01-04</td>\n      <td>NaN</td>\n      <td>NaN</td>\n      <td>1</td>\n    </tr>\n    <tr>\n      <th>4</th>\n      <td>2003-01-05</td>\n      <td>NaN</td>\n      <td>NaN</td>\n      <td>1</td>\n    </tr>\n  </tbody>\n</table>\n</div>"
     },
     "metadata": {},
     "execution_count": 11
    }
   ],
   "source": [
    "first_data.head()"
   ]
  },
  {
   "cell_type": "code",
   "execution_count": 12,
   "metadata": {},
   "outputs": [],
   "source": [
    "def add_number( path, index ):\n",
    "    zeros = ''\n",
    "    if index < 10:\n",
    "        zeros = '00'\n",
    "    elif index < 100:\n",
    "        zeros = '0'\n",
    "    \n",
    "    return path + zeros + str(index) + '.csv'"
   ]
  },
  {
   "cell_type": "code",
   "execution_count": 13,
   "metadata": {},
   "outputs": [
    {
     "output_type": "execute_result",
     "data": {
      "text/plain": [
       "'/mnt/c/Users/ruben/OneDrive/Documentos/MachineLearning/udemy/Machine_Learning_Introduction/datasets/distributed-data/'"
      ]
     },
     "metadata": {},
     "execution_count": 13
    }
   ],
   "source": [
    "path = os.path.join(mainpath, 'distributed-data/')\n",
    "path"
   ]
  },
  {
   "cell_type": "code",
   "execution_count": 14,
   "metadata": {},
   "outputs": [],
   "source": [
    "datasets = []\n",
    "for i in range(1,50):\n",
    "    current_file = add_number(path, i)\n",
    "    current_dataset = pd.read_csv(current_file)\n",
    "    datasets.append(current_dataset)\n",
    "\n"
   ]
  },
  {
   "cell_type": "code",
   "execution_count": 15,
   "metadata": {},
   "outputs": [],
   "source": [
    "data = pd.concat(datasets, axis=0)"
   ]
  },
  {
   "cell_type": "code",
   "execution_count": 16,
   "metadata": {},
   "outputs": [
    {
     "output_type": "execute_result",
     "data": {
      "text/plain": [
       "(120158, 4)"
      ]
     },
     "metadata": {},
     "execution_count": 16
    }
   ],
   "source": [
    "data.shape"
   ]
  },
  {
   "cell_type": "code",
   "execution_count": 17,
   "metadata": {},
   "outputs": [
    {
     "output_type": "execute_result",
     "data": {
      "text/plain": [
       "         Date  sulfate  nitrate  ID\n",
       "0  2003-01-01      NaN      NaN   1\n",
       "1  2003-01-02      NaN      NaN   1\n",
       "2  2003-01-03      NaN      NaN   1\n",
       "3  2003-01-04      NaN      NaN   1\n",
       "4  2003-01-05      NaN      NaN   1\n",
       "5  2003-01-06      NaN      NaN   1\n",
       "6  2003-01-07      NaN      NaN   1\n",
       "7  2003-01-08      NaN      NaN   1\n",
       "8  2003-01-09      NaN      NaN   1\n",
       "9  2003-01-10      NaN      NaN   1"
      ],
      "text/html": "<div>\n<style scoped>\n    .dataframe tbody tr th:only-of-type {\n        vertical-align: middle;\n    }\n\n    .dataframe tbody tr th {\n        vertical-align: top;\n    }\n\n    .dataframe thead th {\n        text-align: right;\n    }\n</style>\n<table border=\"1\" class=\"dataframe\">\n  <thead>\n    <tr style=\"text-align: right;\">\n      <th></th>\n      <th>Date</th>\n      <th>sulfate</th>\n      <th>nitrate</th>\n      <th>ID</th>\n    </tr>\n  </thead>\n  <tbody>\n    <tr>\n      <th>0</th>\n      <td>2003-01-01</td>\n      <td>NaN</td>\n      <td>NaN</td>\n      <td>1</td>\n    </tr>\n    <tr>\n      <th>1</th>\n      <td>2003-01-02</td>\n      <td>NaN</td>\n      <td>NaN</td>\n      <td>1</td>\n    </tr>\n    <tr>\n      <th>2</th>\n      <td>2003-01-03</td>\n      <td>NaN</td>\n      <td>NaN</td>\n      <td>1</td>\n    </tr>\n    <tr>\n      <th>3</th>\n      <td>2003-01-04</td>\n      <td>NaN</td>\n      <td>NaN</td>\n      <td>1</td>\n    </tr>\n    <tr>\n      <th>4</th>\n      <td>2003-01-05</td>\n      <td>NaN</td>\n      <td>NaN</td>\n      <td>1</td>\n    </tr>\n    <tr>\n      <th>5</th>\n      <td>2003-01-06</td>\n      <td>NaN</td>\n      <td>NaN</td>\n      <td>1</td>\n    </tr>\n    <tr>\n      <th>6</th>\n      <td>2003-01-07</td>\n      <td>NaN</td>\n      <td>NaN</td>\n      <td>1</td>\n    </tr>\n    <tr>\n      <th>7</th>\n      <td>2003-01-08</td>\n      <td>NaN</td>\n      <td>NaN</td>\n      <td>1</td>\n    </tr>\n    <tr>\n      <th>8</th>\n      <td>2003-01-09</td>\n      <td>NaN</td>\n      <td>NaN</td>\n      <td>1</td>\n    </tr>\n    <tr>\n      <th>9</th>\n      <td>2003-01-10</td>\n      <td>NaN</td>\n      <td>NaN</td>\n      <td>1</td>\n    </tr>\n  </tbody>\n</table>\n</div>"
     },
     "metadata": {},
     "execution_count": 17
    }
   ],
   "source": [
    "data.head(10)"
   ]
  },
  {
   "source": [
    "## Join"
   ],
   "cell_type": "markdown",
   "metadata": {}
  },
  {
   "cell_type": "code",
   "execution_count": 22,
   "metadata": {},
   "outputs": [],
   "source": [
    "filepath = 'datasets/athletes'\n",
    "data_main = pd.read_csv(os.path.join(filepath,'Medals.csv'), encoding='ISO-8859-1')"
   ]
  },
  {
   "cell_type": "code",
   "execution_count": 23,
   "metadata": {},
   "outputs": [
    {
     "output_type": "execute_result",
     "data": {
      "text/plain": [
       "            Athlete   Age  Year Closing Ceremony Date  Gold Medals  \\\n",
       "0    Michael Phelps  23.0  2008            08/24/2008            8   \n",
       "1    Michael Phelps  19.0  2004            08/29/2004            6   \n",
       "2    Michael Phelps  27.0  2012            08/12/2012            4   \n",
       "3  Natalie Coughlin  25.0  2008            08/24/2008            1   \n",
       "4     Aleksey Nemov  24.0  2000            10/01/2000            2   \n",
       "\n",
       "   Silver Medals  Bronze Medals  Total Medals  \n",
       "0              0              0             8  \n",
       "1              0              2             8  \n",
       "2              2              0             6  \n",
       "3              2              3             6  \n",
       "4              1              3             6  "
      ],
      "text/html": "<div>\n<style scoped>\n    .dataframe tbody tr th:only-of-type {\n        vertical-align: middle;\n    }\n\n    .dataframe tbody tr th {\n        vertical-align: top;\n    }\n\n    .dataframe thead th {\n        text-align: right;\n    }\n</style>\n<table border=\"1\" class=\"dataframe\">\n  <thead>\n    <tr style=\"text-align: right;\">\n      <th></th>\n      <th>Athlete</th>\n      <th>Age</th>\n      <th>Year</th>\n      <th>Closing Ceremony Date</th>\n      <th>Gold Medals</th>\n      <th>Silver Medals</th>\n      <th>Bronze Medals</th>\n      <th>Total Medals</th>\n    </tr>\n  </thead>\n  <tbody>\n    <tr>\n      <th>0</th>\n      <td>Michael Phelps</td>\n      <td>23.0</td>\n      <td>2008</td>\n      <td>08/24/2008</td>\n      <td>8</td>\n      <td>0</td>\n      <td>0</td>\n      <td>8</td>\n    </tr>\n    <tr>\n      <th>1</th>\n      <td>Michael Phelps</td>\n      <td>19.0</td>\n      <td>2004</td>\n      <td>08/29/2004</td>\n      <td>6</td>\n      <td>0</td>\n      <td>2</td>\n      <td>8</td>\n    </tr>\n    <tr>\n      <th>2</th>\n      <td>Michael Phelps</td>\n      <td>27.0</td>\n      <td>2012</td>\n      <td>08/12/2012</td>\n      <td>4</td>\n      <td>2</td>\n      <td>0</td>\n      <td>6</td>\n    </tr>\n    <tr>\n      <th>3</th>\n      <td>Natalie Coughlin</td>\n      <td>25.0</td>\n      <td>2008</td>\n      <td>08/24/2008</td>\n      <td>1</td>\n      <td>2</td>\n      <td>3</td>\n      <td>6</td>\n    </tr>\n    <tr>\n      <th>4</th>\n      <td>Aleksey Nemov</td>\n      <td>24.0</td>\n      <td>2000</td>\n      <td>10/01/2000</td>\n      <td>2</td>\n      <td>1</td>\n      <td>3</td>\n      <td>6</td>\n    </tr>\n  </tbody>\n</table>\n</div>"
     },
     "metadata": {},
     "execution_count": 23
    }
   ],
   "source": [
    "data_main.head()"
   ]
  },
  {
   "cell_type": "code",
   "execution_count": 27,
   "metadata": {},
   "outputs": [
    {
     "output_type": "execute_result",
     "data": {
      "text/plain": [
       "6956"
      ]
     },
     "metadata": {},
     "execution_count": 27
    }
   ],
   "source": [
    "data_filter = data_main['Athlete'].unique().tolist()\n",
    "len(data_filter)"
   ]
  },
  {
   "cell_type": "code",
   "execution_count": 33,
   "metadata": {},
   "outputs": [
    {
     "output_type": "execute_result",
     "data": {
      "text/plain": [
       "            Athlete        Country\n",
       "0    Michael Phelps  United States\n",
       "1  Natalie Coughlin  United States\n",
       "2     Aleksey Nemov         Russia\n",
       "3     Alicia Coutts      Australia\n",
       "4    Missy Franklin  United States"
      ],
      "text/html": "<div>\n<style scoped>\n    .dataframe tbody tr th:only-of-type {\n        vertical-align: middle;\n    }\n\n    .dataframe tbody tr th {\n        vertical-align: top;\n    }\n\n    .dataframe thead th {\n        text-align: right;\n    }\n</style>\n<table border=\"1\" class=\"dataframe\">\n  <thead>\n    <tr style=\"text-align: right;\">\n      <th></th>\n      <th>Athlete</th>\n      <th>Country</th>\n    </tr>\n  </thead>\n  <tbody>\n    <tr>\n      <th>0</th>\n      <td>Michael Phelps</td>\n      <td>United States</td>\n    </tr>\n    <tr>\n      <th>1</th>\n      <td>Natalie Coughlin</td>\n      <td>United States</td>\n    </tr>\n    <tr>\n      <th>2</th>\n      <td>Aleksey Nemov</td>\n      <td>Russia</td>\n    </tr>\n    <tr>\n      <th>3</th>\n      <td>Alicia Coutts</td>\n      <td>Australia</td>\n    </tr>\n    <tr>\n      <th>4</th>\n      <td>Missy Franklin</td>\n      <td>United States</td>\n    </tr>\n  </tbody>\n</table>\n</div>"
     },
     "metadata": {},
     "execution_count": 33
    }
   ],
   "source": [
    "data_country = pd.read_csv(os.path.join(filepath, 'Athelete_Country_Map.csv'), encoding='ISO-8859-1')\n",
    "data_country.head()"
   ]
  },
  {
   "cell_type": "code",
   "execution_count": 35,
   "metadata": {},
   "outputs": [
    {
     "output_type": "execute_result",
     "data": {
      "text/plain": [
       "            Athlete       Sport\n",
       "0    Michael Phelps    Swimming\n",
       "1  Natalie Coughlin    Swimming\n",
       "2     Aleksey Nemov  Gymnastics\n",
       "3     Alicia Coutts    Swimming\n",
       "4    Missy Franklin    Swimming"
      ],
      "text/html": "<div>\n<style scoped>\n    .dataframe tbody tr th:only-of-type {\n        vertical-align: middle;\n    }\n\n    .dataframe tbody tr th {\n        vertical-align: top;\n    }\n\n    .dataframe thead th {\n        text-align: right;\n    }\n</style>\n<table border=\"1\" class=\"dataframe\">\n  <thead>\n    <tr style=\"text-align: right;\">\n      <th></th>\n      <th>Athlete</th>\n      <th>Sport</th>\n    </tr>\n  </thead>\n  <tbody>\n    <tr>\n      <th>0</th>\n      <td>Michael Phelps</td>\n      <td>Swimming</td>\n    </tr>\n    <tr>\n      <th>1</th>\n      <td>Natalie Coughlin</td>\n      <td>Swimming</td>\n    </tr>\n    <tr>\n      <th>2</th>\n      <td>Aleksey Nemov</td>\n      <td>Gymnastics</td>\n    </tr>\n    <tr>\n      <th>3</th>\n      <td>Alicia Coutts</td>\n      <td>Swimming</td>\n    </tr>\n    <tr>\n      <th>4</th>\n      <td>Missy Franklin</td>\n      <td>Swimming</td>\n    </tr>\n  </tbody>\n</table>\n</div>"
     },
     "metadata": {},
     "execution_count": 35
    }
   ],
   "source": [
    "data_sports = pd.read_csv(os.path.join(filepath, 'Athelete_Sports_Map.csv'), encoding='ISO-8859-1')\n",
    "data_sports.head()"
   ]
  },
  {
   "cell_type": "code",
   "execution_count": 46,
   "metadata": {},
   "outputs": [
    {
     "output_type": "execute_result",
     "data": {
      "text/plain": [
       "            Athlete        Country\n",
       "0    Michael Phelps  United States\n",
       "1  Natalie Coughlin  United States\n",
       "2     Aleksey Nemov         Russia\n",
       "3     Alicia Coutts      Australia\n",
       "4    Missy Franklin  United States"
      ],
      "text/html": "<div>\n<style scoped>\n    .dataframe tbody tr th:only-of-type {\n        vertical-align: middle;\n    }\n\n    .dataframe tbody tr th {\n        vertical-align: top;\n    }\n\n    .dataframe thead th {\n        text-align: right;\n    }\n</style>\n<table border=\"1\" class=\"dataframe\">\n  <thead>\n    <tr style=\"text-align: right;\">\n      <th></th>\n      <th>Athlete</th>\n      <th>Country</th>\n    </tr>\n  </thead>\n  <tbody>\n    <tr>\n      <th>0</th>\n      <td>Michael Phelps</td>\n      <td>United States</td>\n    </tr>\n    <tr>\n      <th>1</th>\n      <td>Natalie Coughlin</td>\n      <td>United States</td>\n    </tr>\n    <tr>\n      <th>2</th>\n      <td>Aleksey Nemov</td>\n      <td>Russia</td>\n    </tr>\n    <tr>\n      <th>3</th>\n      <td>Alicia Coutts</td>\n      <td>Australia</td>\n    </tr>\n    <tr>\n      <th>4</th>\n      <td>Missy Franklin</td>\n      <td>United States</td>\n    </tr>\n  </tbody>\n</table>\n</div>"
     },
     "metadata": {},
     "execution_count": 46
    }
   ],
   "source": [
    "data_country = data_country.drop_duplicates(subset='Athlete')\n",
    "data_country.head()"
   ]
  },
  {
   "cell_type": "code",
   "execution_count": 47,
   "metadata": {},
   "outputs": [
    {
     "output_type": "execute_result",
     "data": {
      "text/plain": [
       "            Athlete   Age  Year Closing Ceremony Date  Gold Medals  \\\n",
       "0    Michael Phelps  23.0  2008            08/24/2008            8   \n",
       "1    Michael Phelps  19.0  2004            08/29/2004            6   \n",
       "2    Michael Phelps  27.0  2012            08/12/2012            4   \n",
       "3  Natalie Coughlin  25.0  2008            08/24/2008            1   \n",
       "4  Natalie Coughlin  21.0  2004            08/29/2004            2   \n",
       "\n",
       "   Silver Medals  Bronze Medals  Total Medals        Country  \n",
       "0              0              0             8  United States  \n",
       "1              0              2             8  United States  \n",
       "2              2              0             6  United States  \n",
       "3              2              3             6  United States  \n",
       "4              2              1             5  United States  "
      ],
      "text/html": "<div>\n<style scoped>\n    .dataframe tbody tr th:only-of-type {\n        vertical-align: middle;\n    }\n\n    .dataframe tbody tr th {\n        vertical-align: top;\n    }\n\n    .dataframe thead th {\n        text-align: right;\n    }\n</style>\n<table border=\"1\" class=\"dataframe\">\n  <thead>\n    <tr style=\"text-align: right;\">\n      <th></th>\n      <th>Athlete</th>\n      <th>Age</th>\n      <th>Year</th>\n      <th>Closing Ceremony Date</th>\n      <th>Gold Medals</th>\n      <th>Silver Medals</th>\n      <th>Bronze Medals</th>\n      <th>Total Medals</th>\n      <th>Country</th>\n    </tr>\n  </thead>\n  <tbody>\n    <tr>\n      <th>0</th>\n      <td>Michael Phelps</td>\n      <td>23.0</td>\n      <td>2008</td>\n      <td>08/24/2008</td>\n      <td>8</td>\n      <td>0</td>\n      <td>0</td>\n      <td>8</td>\n      <td>United States</td>\n    </tr>\n    <tr>\n      <th>1</th>\n      <td>Michael Phelps</td>\n      <td>19.0</td>\n      <td>2004</td>\n      <td>08/29/2004</td>\n      <td>6</td>\n      <td>0</td>\n      <td>2</td>\n      <td>8</td>\n      <td>United States</td>\n    </tr>\n    <tr>\n      <th>2</th>\n      <td>Michael Phelps</td>\n      <td>27.0</td>\n      <td>2012</td>\n      <td>08/12/2012</td>\n      <td>4</td>\n      <td>2</td>\n      <td>0</td>\n      <td>6</td>\n      <td>United States</td>\n    </tr>\n    <tr>\n      <th>3</th>\n      <td>Natalie Coughlin</td>\n      <td>25.0</td>\n      <td>2008</td>\n      <td>08/24/2008</td>\n      <td>1</td>\n      <td>2</td>\n      <td>3</td>\n      <td>6</td>\n      <td>United States</td>\n    </tr>\n    <tr>\n      <th>4</th>\n      <td>Natalie Coughlin</td>\n      <td>21.0</td>\n      <td>2004</td>\n      <td>08/29/2004</td>\n      <td>2</td>\n      <td>2</td>\n      <td>1</td>\n      <td>5</td>\n      <td>United States</td>\n    </tr>\n  </tbody>\n</table>\n</div>"
     },
     "metadata": {},
     "execution_count": 47
    }
   ],
   "source": [
    "data_main_country = pd.merge(left=data_main, right=data_country, left_on='Athlete', right_on='Athlete')\n",
    "data_main_country.head()"
   ]
  },
  {
   "cell_type": "code",
   "execution_count": 48,
   "metadata": {},
   "outputs": [
    {
     "output_type": "execute_result",
     "data": {
      "text/plain": [
       "(8618, 9)"
      ]
     },
     "metadata": {},
     "execution_count": 48
    }
   ],
   "source": [
    "data_main_country.shape"
   ]
  },
  {
   "cell_type": "code",
   "execution_count": 49,
   "metadata": {},
   "outputs": [
    {
     "output_type": "execute_result",
     "data": {
      "text/plain": [
       "                   Athlete   Age  Year Closing Ceremony Date  Gold Medals  \\\n",
       "8613      Olena Sadovnycha  32.0  2000            10/01/2000            0   \n",
       "8614      Kateryna Serdiuk  17.0  2000            10/01/2000            0   \n",
       "8615      Wietse van Alten  21.0  2000            10/01/2000            0   \n",
       "8616  Sandra Wagner-Sachse  31.0  2000            10/01/2000            0   \n",
       "8617             Rod White  23.0  2000            10/01/2000            0   \n",
       "\n",
       "      Silver Medals  Bronze Medals  Total Medals        Country  \n",
       "8613              1              0             1        Ukraine  \n",
       "8614              1              0             1        Ukraine  \n",
       "8615              0              1             1    Netherlands  \n",
       "8616              0              1             1        Germany  \n",
       "8617              0              1             1  United States  "
      ],
      "text/html": "<div>\n<style scoped>\n    .dataframe tbody tr th:only-of-type {\n        vertical-align: middle;\n    }\n\n    .dataframe tbody tr th {\n        vertical-align: top;\n    }\n\n    .dataframe thead th {\n        text-align: right;\n    }\n</style>\n<table border=\"1\" class=\"dataframe\">\n  <thead>\n    <tr style=\"text-align: right;\">\n      <th></th>\n      <th>Athlete</th>\n      <th>Age</th>\n      <th>Year</th>\n      <th>Closing Ceremony Date</th>\n      <th>Gold Medals</th>\n      <th>Silver Medals</th>\n      <th>Bronze Medals</th>\n      <th>Total Medals</th>\n      <th>Country</th>\n    </tr>\n  </thead>\n  <tbody>\n    <tr>\n      <th>8613</th>\n      <td>Olena Sadovnycha</td>\n      <td>32.0</td>\n      <td>2000</td>\n      <td>10/01/2000</td>\n      <td>0</td>\n      <td>1</td>\n      <td>0</td>\n      <td>1</td>\n      <td>Ukraine</td>\n    </tr>\n    <tr>\n      <th>8614</th>\n      <td>Kateryna Serdiuk</td>\n      <td>17.0</td>\n      <td>2000</td>\n      <td>10/01/2000</td>\n      <td>0</td>\n      <td>1</td>\n      <td>0</td>\n      <td>1</td>\n      <td>Ukraine</td>\n    </tr>\n    <tr>\n      <th>8615</th>\n      <td>Wietse van Alten</td>\n      <td>21.0</td>\n      <td>2000</td>\n      <td>10/01/2000</td>\n      <td>0</td>\n      <td>0</td>\n      <td>1</td>\n      <td>1</td>\n      <td>Netherlands</td>\n    </tr>\n    <tr>\n      <th>8616</th>\n      <td>Sandra Wagner-Sachse</td>\n      <td>31.0</td>\n      <td>2000</td>\n      <td>10/01/2000</td>\n      <td>0</td>\n      <td>0</td>\n      <td>1</td>\n      <td>1</td>\n      <td>Germany</td>\n    </tr>\n    <tr>\n      <th>8617</th>\n      <td>Rod White</td>\n      <td>23.0</td>\n      <td>2000</td>\n      <td>10/01/2000</td>\n      <td>0</td>\n      <td>0</td>\n      <td>1</td>\n      <td>1</td>\n      <td>United States</td>\n    </tr>\n  </tbody>\n</table>\n</div>"
     },
     "metadata": {},
     "execution_count": 49
    }
   ],
   "source": [
    "data_main_country.tail()"
   ]
  },
  {
   "cell_type": "code",
   "execution_count": 50,
   "metadata": {},
   "outputs": [
    {
     "output_type": "execute_result",
     "data": {
      "text/plain": [
       "               Athlete   Age  Year Closing Ceremony Date  Gold Medals  \\\n",
       "1491  Aleksandar Ciric  30.0  2008            08/24/2008            0   \n",
       "1492  Aleksandar Ciric  26.0  2004            08/29/2004            0   \n",
       "1493  Aleksandar Ciric  22.0  2000            10/01/2000            0   \n",
       "\n",
       "      Silver Medals  Bronze Medals  Total Medals Country  \n",
       "1491              0              1             1  Serbia  \n",
       "1492              1              0             1  Serbia  \n",
       "1493              0              1             1  Serbia  "
      ],
      "text/html": "<div>\n<style scoped>\n    .dataframe tbody tr th:only-of-type {\n        vertical-align: middle;\n    }\n\n    .dataframe tbody tr th {\n        vertical-align: top;\n    }\n\n    .dataframe thead th {\n        text-align: right;\n    }\n</style>\n<table border=\"1\" class=\"dataframe\">\n  <thead>\n    <tr style=\"text-align: right;\">\n      <th></th>\n      <th>Athlete</th>\n      <th>Age</th>\n      <th>Year</th>\n      <th>Closing Ceremony Date</th>\n      <th>Gold Medals</th>\n      <th>Silver Medals</th>\n      <th>Bronze Medals</th>\n      <th>Total Medals</th>\n      <th>Country</th>\n    </tr>\n  </thead>\n  <tbody>\n    <tr>\n      <th>1491</th>\n      <td>Aleksandar Ciric</td>\n      <td>30.0</td>\n      <td>2008</td>\n      <td>08/24/2008</td>\n      <td>0</td>\n      <td>0</td>\n      <td>1</td>\n      <td>1</td>\n      <td>Serbia</td>\n    </tr>\n    <tr>\n      <th>1492</th>\n      <td>Aleksandar Ciric</td>\n      <td>26.0</td>\n      <td>2004</td>\n      <td>08/29/2004</td>\n      <td>0</td>\n      <td>1</td>\n      <td>0</td>\n      <td>1</td>\n      <td>Serbia</td>\n    </tr>\n    <tr>\n      <th>1493</th>\n      <td>Aleksandar Ciric</td>\n      <td>22.0</td>\n      <td>2000</td>\n      <td>10/01/2000</td>\n      <td>0</td>\n      <td>0</td>\n      <td>1</td>\n      <td>1</td>\n      <td>Serbia</td>\n    </tr>\n  </tbody>\n</table>\n</div>"
     },
     "metadata": {},
     "execution_count": 50
    }
   ],
   "source": [
    "data_main_country[ data_main_country['Athlete'] == 'Aleksandar Ciric']"
   ]
  },
  {
   "cell_type": "code",
   "execution_count": 51,
   "metadata": {},
   "outputs": [
    {
     "output_type": "execute_result",
     "data": {
      "text/plain": [
       "6956"
      ]
     },
     "metadata": {},
     "execution_count": 51
    }
   ],
   "source": [
    "data_sports = data_sports.drop_duplicates(subset='Athlete')\n",
    "len(data_sports)"
   ]
  },
  {
   "cell_type": "code",
   "execution_count": 54,
   "metadata": {},
   "outputs": [
    {
     "output_type": "execute_result",
     "data": {
      "text/plain": [
       "            Athlete   Age  Year Closing Ceremony Date  Gold Medals  \\\n",
       "0    Michael Phelps  23.0  2008            08/24/2008            8   \n",
       "1    Michael Phelps  19.0  2004            08/29/2004            6   \n",
       "2    Michael Phelps  27.0  2012            08/12/2012            4   \n",
       "3  Natalie Coughlin  25.0  2008            08/24/2008            1   \n",
       "4  Natalie Coughlin  21.0  2004            08/29/2004            2   \n",
       "\n",
       "   Silver Medals  Bronze Medals  Total Medals        Country     Sport  \n",
       "0              0              0             8  United States  Swimming  \n",
       "1              0              2             8  United States  Swimming  \n",
       "2              2              0             6  United States  Swimming  \n",
       "3              2              3             6  United States  Swimming  \n",
       "4              2              1             5  United States  Swimming  "
      ],
      "text/html": "<div>\n<style scoped>\n    .dataframe tbody tr th:only-of-type {\n        vertical-align: middle;\n    }\n\n    .dataframe tbody tr th {\n        vertical-align: top;\n    }\n\n    .dataframe thead th {\n        text-align: right;\n    }\n</style>\n<table border=\"1\" class=\"dataframe\">\n  <thead>\n    <tr style=\"text-align: right;\">\n      <th></th>\n      <th>Athlete</th>\n      <th>Age</th>\n      <th>Year</th>\n      <th>Closing Ceremony Date</th>\n      <th>Gold Medals</th>\n      <th>Silver Medals</th>\n      <th>Bronze Medals</th>\n      <th>Total Medals</th>\n      <th>Country</th>\n      <th>Sport</th>\n    </tr>\n  </thead>\n  <tbody>\n    <tr>\n      <th>0</th>\n      <td>Michael Phelps</td>\n      <td>23.0</td>\n      <td>2008</td>\n      <td>08/24/2008</td>\n      <td>8</td>\n      <td>0</td>\n      <td>0</td>\n      <td>8</td>\n      <td>United States</td>\n      <td>Swimming</td>\n    </tr>\n    <tr>\n      <th>1</th>\n      <td>Michael Phelps</td>\n      <td>19.0</td>\n      <td>2004</td>\n      <td>08/29/2004</td>\n      <td>6</td>\n      <td>0</td>\n      <td>2</td>\n      <td>8</td>\n      <td>United States</td>\n      <td>Swimming</td>\n    </tr>\n    <tr>\n      <th>2</th>\n      <td>Michael Phelps</td>\n      <td>27.0</td>\n      <td>2012</td>\n      <td>08/12/2012</td>\n      <td>4</td>\n      <td>2</td>\n      <td>0</td>\n      <td>6</td>\n      <td>United States</td>\n      <td>Swimming</td>\n    </tr>\n    <tr>\n      <th>3</th>\n      <td>Natalie Coughlin</td>\n      <td>25.0</td>\n      <td>2008</td>\n      <td>08/24/2008</td>\n      <td>1</td>\n      <td>2</td>\n      <td>3</td>\n      <td>6</td>\n      <td>United States</td>\n      <td>Swimming</td>\n    </tr>\n    <tr>\n      <th>4</th>\n      <td>Natalie Coughlin</td>\n      <td>21.0</td>\n      <td>2004</td>\n      <td>08/29/2004</td>\n      <td>2</td>\n      <td>2</td>\n      <td>1</td>\n      <td>5</td>\n      <td>United States</td>\n      <td>Swimming</td>\n    </tr>\n  </tbody>\n</table>\n</div>"
     },
     "metadata": {},
     "execution_count": 54
    }
   ],
   "source": [
    "data_final = pd.merge(left=data_main_country, right=data_sports, left_on='Athlete', right_on='Athlete')\n",
    "data_final.head()"
   ]
  },
  {
   "source": [
    "## Tipos de Joins"
   ],
   "cell_type": "markdown",
   "metadata": {}
  },
  {
   "cell_type": "code",
   "execution_count": 55,
   "metadata": {},
   "outputs": [],
   "source": [
    "from IPython.display import Image"
   ]
  },
  {
   "cell_type": "code",
   "execution_count": 71,
   "metadata": {},
   "outputs": [],
   "source": [
    "deleted = np.random.choice(data_main['Athlete'], size=10, replace=False)"
   ]
  },
  {
   "cell_type": "code",
   "execution_count": 75,
   "metadata": {},
   "outputs": [
    {
     "output_type": "execute_result",
     "data": {
      "text/plain": [
       "            Athlete        Country\n",
       "1  Natalie Coughlin  United States\n",
       "2     Aleksey Nemov         Russia\n",
       "3     Alicia Coutts      Australia\n",
       "4    Missy Franklin  United States\n",
       "5       Ryan Lochte  United States"
      ],
      "text/html": "<div>\n<style scoped>\n    .dataframe tbody tr th:only-of-type {\n        vertical-align: middle;\n    }\n\n    .dataframe tbody tr th {\n        vertical-align: top;\n    }\n\n    .dataframe thead th {\n        text-align: right;\n    }\n</style>\n<table border=\"1\" class=\"dataframe\">\n  <thead>\n    <tr style=\"text-align: right;\">\n      <th></th>\n      <th>Athlete</th>\n      <th>Country</th>\n    </tr>\n  </thead>\n  <tbody>\n    <tr>\n      <th>1</th>\n      <td>Natalie Coughlin</td>\n      <td>United States</td>\n    </tr>\n    <tr>\n      <th>2</th>\n      <td>Aleksey Nemov</td>\n      <td>Russia</td>\n    </tr>\n    <tr>\n      <th>3</th>\n      <td>Alicia Coutts</td>\n      <td>Australia</td>\n    </tr>\n    <tr>\n      <th>4</th>\n      <td>Missy Franklin</td>\n      <td>United States</td>\n    </tr>\n    <tr>\n      <th>5</th>\n      <td>Ryan Lochte</td>\n      <td>United States</td>\n    </tr>\n  </tbody>\n</table>\n</div>"
     },
     "metadata": {},
     "execution_count": 75
    }
   ],
   "source": [
    "data_country = data_country[\n",
    "    (~data_country['Athlete'].isin(deleted)) & \n",
    "    (data_country['Athlete'] != 'Michael Phelps')\n",
    "]\n",
    "data_country.head()"
   ]
  },
  {
   "cell_type": "code",
   "execution_count": 76,
   "metadata": {},
   "outputs": [
    {
     "output_type": "execute_result",
     "data": {
      "text/plain": [
       "            Athlete       Sport\n",
       "0    Michael Phelps    Swimming\n",
       "1  Natalie Coughlin    Swimming\n",
       "2     Aleksey Nemov  Gymnastics\n",
       "3     Alicia Coutts    Swimming\n",
       "4    Missy Franklin    Swimming"
      ],
      "text/html": "<div>\n<style scoped>\n    .dataframe tbody tr th:only-of-type {\n        vertical-align: middle;\n    }\n\n    .dataframe tbody tr th {\n        vertical-align: top;\n    }\n\n    .dataframe thead th {\n        text-align: right;\n    }\n</style>\n<table border=\"1\" class=\"dataframe\">\n  <thead>\n    <tr style=\"text-align: right;\">\n      <th></th>\n      <th>Athlete</th>\n      <th>Sport</th>\n    </tr>\n  </thead>\n  <tbody>\n    <tr>\n      <th>0</th>\n      <td>Michael Phelps</td>\n      <td>Swimming</td>\n    </tr>\n    <tr>\n      <th>1</th>\n      <td>Natalie Coughlin</td>\n      <td>Swimming</td>\n    </tr>\n    <tr>\n      <th>2</th>\n      <td>Aleksey Nemov</td>\n      <td>Gymnastics</td>\n    </tr>\n    <tr>\n      <th>3</th>\n      <td>Alicia Coutts</td>\n      <td>Swimming</td>\n    </tr>\n    <tr>\n      <th>4</th>\n      <td>Missy Franklin</td>\n      <td>Swimming</td>\n    </tr>\n  </tbody>\n</table>\n</div>"
     },
     "metadata": {},
     "execution_count": 76
    }
   ],
   "source": [
    "deleted_sports = np.random.choice(data_main['Athlete'], size=10, replace=False)\n",
    "\n",
    "data_sports = data_sports[\n",
    "    (~data_sports['Athlete'].isin(deleted_sports))\n",
    "]\n",
    "data_sports.head()"
   ]
  },
  {
   "cell_type": "code",
   "execution_count": 78,
   "metadata": {},
   "outputs": [
    {
     "output_type": "execute_result",
     "data": {
      "text/plain": [
       "            Athlete   Age  Year Closing Ceremony Date  Gold Medals  \\\n",
       "0    Michael Phelps  23.0  2008            08/24/2008            8   \n",
       "1    Michael Phelps  19.0  2004            08/29/2004            6   \n",
       "2    Michael Phelps  27.0  2012            08/12/2012            4   \n",
       "3  Natalie Coughlin  25.0  2008            08/24/2008            1   \n",
       "4     Aleksey Nemov  24.0  2000            10/01/2000            2   \n",
       "\n",
       "   Silver Medals  Bronze Medals  Total Medals  \n",
       "0              0              0             8  \n",
       "1              0              2             8  \n",
       "2              2              0             6  \n",
       "3              2              3             6  \n",
       "4              1              3             6  "
      ],
      "text/html": "<div>\n<style scoped>\n    .dataframe tbody tr th:only-of-type {\n        vertical-align: middle;\n    }\n\n    .dataframe tbody tr th {\n        vertical-align: top;\n    }\n\n    .dataframe thead th {\n        text-align: right;\n    }\n</style>\n<table border=\"1\" class=\"dataframe\">\n  <thead>\n    <tr style=\"text-align: right;\">\n      <th></th>\n      <th>Athlete</th>\n      <th>Age</th>\n      <th>Year</th>\n      <th>Closing Ceremony Date</th>\n      <th>Gold Medals</th>\n      <th>Silver Medals</th>\n      <th>Bronze Medals</th>\n      <th>Total Medals</th>\n    </tr>\n  </thead>\n  <tbody>\n    <tr>\n      <th>0</th>\n      <td>Michael Phelps</td>\n      <td>23.0</td>\n      <td>2008</td>\n      <td>08/24/2008</td>\n      <td>8</td>\n      <td>0</td>\n      <td>0</td>\n      <td>8</td>\n    </tr>\n    <tr>\n      <th>1</th>\n      <td>Michael Phelps</td>\n      <td>19.0</td>\n      <td>2004</td>\n      <td>08/29/2004</td>\n      <td>6</td>\n      <td>0</td>\n      <td>2</td>\n      <td>8</td>\n    </tr>\n    <tr>\n      <th>2</th>\n      <td>Michael Phelps</td>\n      <td>27.0</td>\n      <td>2012</td>\n      <td>08/12/2012</td>\n      <td>4</td>\n      <td>2</td>\n      <td>0</td>\n      <td>6</td>\n    </tr>\n    <tr>\n      <th>3</th>\n      <td>Natalie Coughlin</td>\n      <td>25.0</td>\n      <td>2008</td>\n      <td>08/24/2008</td>\n      <td>1</td>\n      <td>2</td>\n      <td>3</td>\n      <td>6</td>\n    </tr>\n    <tr>\n      <th>4</th>\n      <td>Aleksey Nemov</td>\n      <td>24.0</td>\n      <td>2000</td>\n      <td>10/01/2000</td>\n      <td>2</td>\n      <td>1</td>\n      <td>3</td>\n      <td>6</td>\n    </tr>\n  </tbody>\n</table>\n</div>"
     },
     "metadata": {},
     "execution_count": 78
    }
   ],
   "source": [
    "deleted_main = np.random.choice(data_main['Athlete'], size=10, replace=False)\n",
    "\n",
    "data_main = data_main[\n",
    "    (~data_main['Athlete'].isin(deleted_main))\n",
    "]\n",
    "data_main.head()"
   ]
  },
  {
   "source": [
    "### Inner Join\n",
    "* Devuelve un data frame con las filas que tienen valor tanto en el primer tanto como en el segundo dataset que estamos uniendo\n",
    "* El número de filas será igual al número de filas comunes que tengan ambos datasets\n",
    "    * Si len(A) = 60, len(B) = 50 y len(AnB) = 30, entonces len(innerJoin) == 30\n",
    "* En términos de teoría de conjuntos, se tarta de la intersección de los dos conjuntos"
   ],
   "cell_type": "markdown",
   "metadata": {}
  },
  {
   "cell_type": "code",
   "execution_count": 62,
   "metadata": {},
   "outputs": [
    {
     "output_type": "execute_result",
     "data": {
      "image/png": "[encoded data removed]",
      "text/plain": [
       "<IPython.core.display.Image object>"
      ]
     },
     "metadata": {},
     "execution_count": 62
    }
   ],
   "source": [
    "Image(filename='resources/inner-join.png')"
   ]
  },
  {
   "cell_type": "code",
   "execution_count": 82,
   "metadata": {},
   "outputs": [
    {
     "output_type": "execute_result",
     "data": {
      "text/plain": [
       "            Athlete   Age  Year Closing Ceremony Date  Gold Medals  \\\n",
       "0  Natalie Coughlin  25.0  2008            08/24/2008            1   \n",
       "1  Natalie Coughlin  21.0  2004            08/29/2004            2   \n",
       "2  Natalie Coughlin  29.0  2012            08/12/2012            0   \n",
       "3     Aleksey Nemov  24.0  2000            10/01/2000            2   \n",
       "4     Alicia Coutts  24.0  2012            08/12/2012            1   \n",
       "\n",
       "   Silver Medals  Bronze Medals  Total Medals        Country  \n",
       "0              2              3             6  United States  \n",
       "1              2              1             5  United States  \n",
       "2              0              1             1  United States  \n",
       "3              1              3             6         Russia  \n",
       "4              3              1             5      Australia  "
      ],
      "text/html": "<div>\n<style scoped>\n    .dataframe tbody tr th:only-of-type {\n        vertical-align: middle;\n    }\n\n    .dataframe tbody tr th {\n        vertical-align: top;\n    }\n\n    .dataframe thead th {\n        text-align: right;\n    }\n</style>\n<table border=\"1\" class=\"dataframe\">\n  <thead>\n    <tr style=\"text-align: right;\">\n      <th></th>\n      <th>Athlete</th>\n      <th>Age</th>\n      <th>Year</th>\n      <th>Closing Ceremony Date</th>\n      <th>Gold Medals</th>\n      <th>Silver Medals</th>\n      <th>Bronze Medals</th>\n      <th>Total Medals</th>\n      <th>Country</th>\n    </tr>\n  </thead>\n  <tbody>\n    <tr>\n      <th>0</th>\n      <td>Natalie Coughlin</td>\n      <td>25.0</td>\n      <td>2008</td>\n      <td>08/24/2008</td>\n      <td>1</td>\n      <td>2</td>\n      <td>3</td>\n      <td>6</td>\n      <td>United States</td>\n    </tr>\n    <tr>\n      <th>1</th>\n      <td>Natalie Coughlin</td>\n      <td>21.0</td>\n      <td>2004</td>\n      <td>08/29/2004</td>\n      <td>2</td>\n      <td>2</td>\n      <td>1</td>\n      <td>5</td>\n      <td>United States</td>\n    </tr>\n    <tr>\n      <th>2</th>\n      <td>Natalie Coughlin</td>\n      <td>29.0</td>\n      <td>2012</td>\n      <td>08/12/2012</td>\n      <td>0</td>\n      <td>0</td>\n      <td>1</td>\n      <td>1</td>\n      <td>United States</td>\n    </tr>\n    <tr>\n      <th>3</th>\n      <td>Aleksey Nemov</td>\n      <td>24.0</td>\n      <td>2000</td>\n      <td>10/01/2000</td>\n      <td>2</td>\n      <td>1</td>\n      <td>3</td>\n      <td>6</td>\n      <td>Russia</td>\n    </tr>\n    <tr>\n      <th>4</th>\n      <td>Alicia Coutts</td>\n      <td>24.0</td>\n      <td>2012</td>\n      <td>08/12/2012</td>\n      <td>1</td>\n      <td>3</td>\n      <td>1</td>\n      <td>5</td>\n      <td>Australia</td>\n    </tr>\n  </tbody>\n</table>\n</div>"
     },
     "metadata": {},
     "execution_count": 82
    }
   ],
   "source": [
    "merged_inner = pd.merge(left=data_main, right=data_country,left_on='Athlete', right_on='Athlete',how='inner')\n",
    "merged_inner.head() # no se encuentra Michael Phelps"
   ]
  },
  {
   "source": [
    "### Left Join\n",
    "* Devuelve un data frame con las filas que tuvieran valor en el dataset de la izquierda, sin importar si tienen correspondencia en el de la derecha o no.\n",
    "* Las filas del data frame final que no correspondan a ninguna fila del data frame derecho tendrán NANs en las columnas del data frame derecho.\n",
    "    * Si len(A) = 60, len(B) = 50, entonces len(left join) = 60\n",
    "* En términos de teoría de conjuntos, se trata de A, adémas de la intersección"
   ],
   "cell_type": "markdown",
   "metadata": {}
  },
  {
   "cell_type": "code",
   "execution_count": 63,
   "metadata": {},
   "outputs": [
    {
     "output_type": "execute_result",
     "data": {
      "image/png": "[encoded data removed]",
      "text/plain": [
       "<IPython.core.display.Image object>"
      ]
     },
     "metadata": {},
     "execution_count": 63
    }
   ],
   "source": [
    "Image(filename='resources/left-join.png')"
   ]
  },
  {
   "cell_type": "code",
   "execution_count": 83,
   "metadata": {},
   "outputs": [
    {
     "output_type": "execute_result",
     "data": {
      "text/plain": [
       "            Athlete   Age  Year Closing Ceremony Date  Gold Medals  \\\n",
       "0    Michael Phelps  23.0  2008            08/24/2008            8   \n",
       "1    Michael Phelps  19.0  2004            08/29/2004            6   \n",
       "2    Michael Phelps  27.0  2012            08/12/2012            4   \n",
       "3  Natalie Coughlin  25.0  2008            08/24/2008            1   \n",
       "4     Aleksey Nemov  24.0  2000            10/01/2000            2   \n",
       "\n",
       "   Silver Medals  Bronze Medals  Total Medals        Country  \n",
       "0              0              0             8            NaN  \n",
       "1              0              2             8            NaN  \n",
       "2              2              0             6            NaN  \n",
       "3              2              3             6  United States  \n",
       "4              1              3             6         Russia  "
      ],
      "text/html": "<div>\n<style scoped>\n    .dataframe tbody tr th:only-of-type {\n        vertical-align: middle;\n    }\n\n    .dataframe tbody tr th {\n        vertical-align: top;\n    }\n\n    .dataframe thead th {\n        text-align: right;\n    }\n</style>\n<table border=\"1\" class=\"dataframe\">\n  <thead>\n    <tr style=\"text-align: right;\">\n      <th></th>\n      <th>Athlete</th>\n      <th>Age</th>\n      <th>Year</th>\n      <th>Closing Ceremony Date</th>\n      <th>Gold Medals</th>\n      <th>Silver Medals</th>\n      <th>Bronze Medals</th>\n      <th>Total Medals</th>\n      <th>Country</th>\n    </tr>\n  </thead>\n  <tbody>\n    <tr>\n      <th>0</th>\n      <td>Michael Phelps</td>\n      <td>23.0</td>\n      <td>2008</td>\n      <td>08/24/2008</td>\n      <td>8</td>\n      <td>0</td>\n      <td>0</td>\n      <td>8</td>\n      <td>NaN</td>\n    </tr>\n    <tr>\n      <th>1</th>\n      <td>Michael Phelps</td>\n      <td>19.0</td>\n      <td>2004</td>\n      <td>08/29/2004</td>\n      <td>6</td>\n      <td>0</td>\n      <td>2</td>\n      <td>8</td>\n      <td>NaN</td>\n    </tr>\n    <tr>\n      <th>2</th>\n      <td>Michael Phelps</td>\n      <td>27.0</td>\n      <td>2012</td>\n      <td>08/12/2012</td>\n      <td>4</td>\n      <td>2</td>\n      <td>0</td>\n      <td>6</td>\n      <td>NaN</td>\n    </tr>\n    <tr>\n      <th>3</th>\n      <td>Natalie Coughlin</td>\n      <td>25.0</td>\n      <td>2008</td>\n      <td>08/24/2008</td>\n      <td>1</td>\n      <td>2</td>\n      <td>3</td>\n      <td>6</td>\n      <td>United States</td>\n    </tr>\n    <tr>\n      <th>4</th>\n      <td>Aleksey Nemov</td>\n      <td>24.0</td>\n      <td>2000</td>\n      <td>10/01/2000</td>\n      <td>2</td>\n      <td>1</td>\n      <td>3</td>\n      <td>6</td>\n      <td>Russia</td>\n    </tr>\n  </tbody>\n</table>\n</div>"
     },
     "metadata": {},
     "execution_count": 83
    }
   ],
   "source": [
    "merged_left = pd.merge(left=data_main, right=data_country, left_on='Athlete', right_on='Athlete', how='left')\n",
    "merged_left.head() #Contiene Michael Phelps pero sin country"
   ]
  },
  {
   "source": [
    "### Right Join\n",
    "\n",
    "Lo mismo que Left Join, pero para la derecha"
   ],
   "cell_type": "markdown",
   "metadata": {}
  },
  {
   "cell_type": "code",
   "execution_count": 64,
   "metadata": {},
   "outputs": [
    {
     "output_type": "execute_result",
     "data": {
      "image/png": "[encoded data removed]",
      "text/plain": [
       "<IPython.core.display.Image object>"
      ]
     },
     "metadata": {},
     "execution_count": 64
    }
   ],
   "source": [
    "Image(filename='resources/right-join.png')"
   ]
  },
  {
   "cell_type": "code",
   "execution_count": 90,
   "metadata": {},
   "outputs": [
    {
     "output_type": "execute_result",
     "data": {
      "text/plain": [
       "                    Athlete  Age  Year Closing Ceremony Date  Gold Medals  \\\n",
       "934           Lee Seong-Jin  NaN   NaN                   NaN          NaN   \n",
       "2082              Wu Jingyu  NaN   NaN                   NaN          NaN   \n",
       "2974              Yi Siling  NaN   NaN                   NaN          NaN   \n",
       "3084        Harald Stenvaag  NaN   NaN                   NaN          NaN   \n",
       "4126        Lucija Polavder  NaN   NaN                   NaN          NaN   \n",
       "4617        Sergey Samsonov  NaN   NaN                   NaN          NaN   \n",
       "5059    Kari Aalvik Grimsbø  NaN   NaN                   NaN          NaN   \n",
       "6115  Hajnalka Kiraly-Picot  NaN   NaN                   NaN          NaN   \n",
       "6448    Aleksandr Vinokurov  NaN   NaN                   NaN          NaN   \n",
       "6535        Sérgio Paulinho  NaN   NaN                   NaN          NaN   \n",
       "\n",
       "      Silver Medals  Bronze Medals  Total Medals      Country  \n",
       "934             NaN            NaN           NaN  South Korea  \n",
       "2082            NaN            NaN           NaN        China  \n",
       "2974            NaN            NaN           NaN        China  \n",
       "3084            NaN            NaN           NaN       Norway  \n",
       "4126            NaN            NaN           NaN     Slovenia  \n",
       "4617            NaN            NaN           NaN       Russia  \n",
       "5059            NaN            NaN           NaN       Norway  \n",
       "6115            NaN            NaN           NaN       France  \n",
       "6448            NaN            NaN           NaN   Kazakhstan  \n",
       "6535            NaN            NaN           NaN     Portugal  "
      ],
      "text/html": "<div>\n<style scoped>\n    .dataframe tbody tr th:only-of-type {\n        vertical-align: middle;\n    }\n\n    .dataframe tbody tr th {\n        vertical-align: top;\n    }\n\n    .dataframe thead th {\n        text-align: right;\n    }\n</style>\n<table border=\"1\" class=\"dataframe\">\n  <thead>\n    <tr style=\"text-align: right;\">\n      <th></th>\n      <th>Athlete</th>\n      <th>Age</th>\n      <th>Year</th>\n      <th>Closing Ceremony Date</th>\n      <th>Gold Medals</th>\n      <th>Silver Medals</th>\n      <th>Bronze Medals</th>\n      <th>Total Medals</th>\n      <th>Country</th>\n    </tr>\n  </thead>\n  <tbody>\n    <tr>\n      <th>934</th>\n      <td>Lee Seong-Jin</td>\n      <td>NaN</td>\n      <td>NaN</td>\n      <td>NaN</td>\n      <td>NaN</td>\n      <td>NaN</td>\n      <td>NaN</td>\n      <td>NaN</td>\n      <td>South Korea</td>\n    </tr>\n    <tr>\n      <th>2082</th>\n      <td>Wu Jingyu</td>\n      <td>NaN</td>\n      <td>NaN</td>\n      <td>NaN</td>\n      <td>NaN</td>\n      <td>NaN</td>\n      <td>NaN</td>\n      <td>NaN</td>\n      <td>China</td>\n    </tr>\n    <tr>\n      <th>2974</th>\n      <td>Yi Siling</td>\n      <td>NaN</td>\n      <td>NaN</td>\n      <td>NaN</td>\n      <td>NaN</td>\n      <td>NaN</td>\n      <td>NaN</td>\n      <td>NaN</td>\n      <td>China</td>\n    </tr>\n    <tr>\n      <th>3084</th>\n      <td>Harald Stenvaag</td>\n      <td>NaN</td>\n      <td>NaN</td>\n      <td>NaN</td>\n      <td>NaN</td>\n      <td>NaN</td>\n      <td>NaN</td>\n      <td>NaN</td>\n      <td>Norway</td>\n    </tr>\n    <tr>\n      <th>4126</th>\n      <td>Lucija Polavder</td>\n      <td>NaN</td>\n      <td>NaN</td>\n      <td>NaN</td>\n      <td>NaN</td>\n      <td>NaN</td>\n      <td>NaN</td>\n      <td>NaN</td>\n      <td>Slovenia</td>\n    </tr>\n    <tr>\n      <th>4617</th>\n      <td>Sergey Samsonov</td>\n      <td>NaN</td>\n      <td>NaN</td>\n      <td>NaN</td>\n      <td>NaN</td>\n      <td>NaN</td>\n      <td>NaN</td>\n      <td>NaN</td>\n      <td>Russia</td>\n    </tr>\n    <tr>\n      <th>5059</th>\n      <td>Kari Aalvik Grimsbø</td>\n      <td>NaN</td>\n      <td>NaN</td>\n      <td>NaN</td>\n      <td>NaN</td>\n      <td>NaN</td>\n      <td>NaN</td>\n      <td>NaN</td>\n      <td>Norway</td>\n    </tr>\n    <tr>\n      <th>6115</th>\n      <td>Hajnalka Kiraly-Picot</td>\n      <td>NaN</td>\n      <td>NaN</td>\n      <td>NaN</td>\n      <td>NaN</td>\n      <td>NaN</td>\n      <td>NaN</td>\n      <td>NaN</td>\n      <td>France</td>\n    </tr>\n    <tr>\n      <th>6448</th>\n      <td>Aleksandr Vinokurov</td>\n      <td>NaN</td>\n      <td>NaN</td>\n      <td>NaN</td>\n      <td>NaN</td>\n      <td>NaN</td>\n      <td>NaN</td>\n      <td>NaN</td>\n      <td>Kazakhstan</td>\n    </tr>\n    <tr>\n      <th>6535</th>\n      <td>Sérgio Paulinho</td>\n      <td>NaN</td>\n      <td>NaN</td>\n      <td>NaN</td>\n      <td>NaN</td>\n      <td>NaN</td>\n      <td>NaN</td>\n      <td>NaN</td>\n      <td>Portugal</td>\n    </tr>\n  </tbody>\n</table>\n</div>"
     },
     "metadata": {},
     "execution_count": 90
    }
   ],
   "source": [
    "merged_right = pd.merge(left=data_main, right=data_country, left_on='Athlete', right_on='Athlete', how='right')\n",
    "merged_right[merged_right['Athlete'].isin(deleted_main)] #solo aparece la info de country"
   ]
  },
  {
   "cell_type": "code",
   "execution_count": 91,
   "metadata": {},
   "outputs": [
    {
     "output_type": "execute_result",
     "data": {
      "text/plain": [
       "                   Athlete   Age    Year Closing Ceremony Date  Gold Medals  \\\n",
       "8593      Olena Sadovnycha  32.0  2000.0            10/01/2000          0.0   \n",
       "8594      Kateryna Serdiuk  17.0  2000.0            10/01/2000          0.0   \n",
       "8595      Wietse van Alten  21.0  2000.0            10/01/2000          0.0   \n",
       "8596  Sandra Wagner-Sachse  31.0  2000.0            10/01/2000          0.0   \n",
       "8597             Rod White  23.0  2000.0            10/01/2000          0.0   \n",
       "\n",
       "      Silver Medals  Bronze Medals  Total Medals        Country  \n",
       "8593            1.0            0.0           1.0        Ukraine  \n",
       "8594            1.0            0.0           1.0        Ukraine  \n",
       "8595            0.0            1.0           1.0    Netherlands  \n",
       "8596            0.0            1.0           1.0        Germany  \n",
       "8597            0.0            1.0           1.0  United States  "
      ],
      "text/html": "<div>\n<style scoped>\n    .dataframe tbody tr th:only-of-type {\n        vertical-align: middle;\n    }\n\n    .dataframe tbody tr th {\n        vertical-align: top;\n    }\n\n    .dataframe thead th {\n        text-align: right;\n    }\n</style>\n<table border=\"1\" class=\"dataframe\">\n  <thead>\n    <tr style=\"text-align: right;\">\n      <th></th>\n      <th>Athlete</th>\n      <th>Age</th>\n      <th>Year</th>\n      <th>Closing Ceremony Date</th>\n      <th>Gold Medals</th>\n      <th>Silver Medals</th>\n      <th>Bronze Medals</th>\n      <th>Total Medals</th>\n      <th>Country</th>\n    </tr>\n  </thead>\n  <tbody>\n    <tr>\n      <th>8593</th>\n      <td>Olena Sadovnycha</td>\n      <td>32.0</td>\n      <td>2000.0</td>\n      <td>10/01/2000</td>\n      <td>0.0</td>\n      <td>1.0</td>\n      <td>0.0</td>\n      <td>1.0</td>\n      <td>Ukraine</td>\n    </tr>\n    <tr>\n      <th>8594</th>\n      <td>Kateryna Serdiuk</td>\n      <td>17.0</td>\n      <td>2000.0</td>\n      <td>10/01/2000</td>\n      <td>0.0</td>\n      <td>1.0</td>\n      <td>0.0</td>\n      <td>1.0</td>\n      <td>Ukraine</td>\n    </tr>\n    <tr>\n      <th>8595</th>\n      <td>Wietse van Alten</td>\n      <td>21.0</td>\n      <td>2000.0</td>\n      <td>10/01/2000</td>\n      <td>0.0</td>\n      <td>0.0</td>\n      <td>1.0</td>\n      <td>1.0</td>\n      <td>Netherlands</td>\n    </tr>\n    <tr>\n      <th>8596</th>\n      <td>Sandra Wagner-Sachse</td>\n      <td>31.0</td>\n      <td>2000.0</td>\n      <td>10/01/2000</td>\n      <td>0.0</td>\n      <td>0.0</td>\n      <td>1.0</td>\n      <td>1.0</td>\n      <td>Germany</td>\n    </tr>\n    <tr>\n      <th>8597</th>\n      <td>Rod White</td>\n      <td>23.0</td>\n      <td>2000.0</td>\n      <td>10/01/2000</td>\n      <td>0.0</td>\n      <td>0.0</td>\n      <td>1.0</td>\n      <td>1.0</td>\n      <td>United States</td>\n    </tr>\n  </tbody>\n</table>\n</div>"
     },
     "metadata": {},
     "execution_count": 91
    }
   ],
   "source": [
    "merged_right.tail()"
   ]
  },
  {
   "source": [
    "### Outer Join\n",
    "\n",
    "* Devuelve un data frame con todas las filas de ambos, reemplazando las ausencias de uno o de otro con NANs en la región específica.\n",
    "* Las filas del data frame final que no correspondan a ninguna fila del data frame derecho (o izquierdo), tendrán NANs en las columnas del data frame derecho (o izquierdo).\n",
    "    * Si len(A) = 60, len(B) = 50, len(AnB) = 30, Entonces len(Outer join) == 60 + 50 - 30 = 80\n",
    "* En términos de teoría de conjuntos, se tarta de la unión de conjuntos."
   ],
   "cell_type": "markdown",
   "metadata": {}
  },
  {
   "cell_type": "code",
   "execution_count": 65,
   "metadata": {},
   "outputs": [
    {
     "output_type": "execute_result",
     "data": {
      "image/png": "[encoded data removed]",
      "text/plain": [
       "<IPython.core.display.Image object>"
      ]
     },
     "metadata": {},
     "execution_count": 65
    }
   ],
   "source": [
    "Image(filename='resources/outer-join.png')"
   ]
  },
  {
   "cell_type": "code",
   "execution_count": 92,
   "metadata": {},
   "outputs": [
    {
     "output_type": "execute_result",
     "data": {
      "text/plain": [
       "            Athlete   Age    Year Closing Ceremony Date  Gold Medals  \\\n",
       "0    Michael Phelps  23.0  2008.0            08/24/2008          8.0   \n",
       "1    Michael Phelps  19.0  2004.0            08/29/2004          6.0   \n",
       "2    Michael Phelps  27.0  2012.0            08/12/2012          4.0   \n",
       "3  Natalie Coughlin  25.0  2008.0            08/24/2008          1.0   \n",
       "4  Natalie Coughlin  21.0  2004.0            08/29/2004          2.0   \n",
       "\n",
       "   Silver Medals  Bronze Medals  Total Medals        Country  \n",
       "0            0.0            0.0           8.0            NaN  \n",
       "1            0.0            2.0           8.0            NaN  \n",
       "2            2.0            0.0           6.0            NaN  \n",
       "3            2.0            3.0           6.0  United States  \n",
       "4            2.0            1.0           5.0  United States  "
      ],
      "text/html": "<div>\n<style scoped>\n    .dataframe tbody tr th:only-of-type {\n        vertical-align: middle;\n    }\n\n    .dataframe tbody tr th {\n        vertical-align: top;\n    }\n\n    .dataframe thead th {\n        text-align: right;\n    }\n</style>\n<table border=\"1\" class=\"dataframe\">\n  <thead>\n    <tr style=\"text-align: right;\">\n      <th></th>\n      <th>Athlete</th>\n      <th>Age</th>\n      <th>Year</th>\n      <th>Closing Ceremony Date</th>\n      <th>Gold Medals</th>\n      <th>Silver Medals</th>\n      <th>Bronze Medals</th>\n      <th>Total Medals</th>\n      <th>Country</th>\n    </tr>\n  </thead>\n  <tbody>\n    <tr>\n      <th>0</th>\n      <td>Michael Phelps</td>\n      <td>23.0</td>\n      <td>2008.0</td>\n      <td>08/24/2008</td>\n      <td>8.0</td>\n      <td>0.0</td>\n      <td>0.0</td>\n      <td>8.0</td>\n      <td>NaN</td>\n    </tr>\n    <tr>\n      <th>1</th>\n      <td>Michael Phelps</td>\n      <td>19.0</td>\n      <td>2004.0</td>\n      <td>08/29/2004</td>\n      <td>6.0</td>\n      <td>0.0</td>\n      <td>2.0</td>\n      <td>8.0</td>\n      <td>NaN</td>\n    </tr>\n    <tr>\n      <th>2</th>\n      <td>Michael Phelps</td>\n      <td>27.0</td>\n      <td>2012.0</td>\n      <td>08/12/2012</td>\n      <td>4.0</td>\n      <td>2.0</td>\n      <td>0.0</td>\n      <td>6.0</td>\n      <td>NaN</td>\n    </tr>\n    <tr>\n      <th>3</th>\n      <td>Natalie Coughlin</td>\n      <td>25.0</td>\n      <td>2008.0</td>\n      <td>08/24/2008</td>\n      <td>1.0</td>\n      <td>2.0</td>\n      <td>3.0</td>\n      <td>6.0</td>\n      <td>United States</td>\n    </tr>\n    <tr>\n      <th>4</th>\n      <td>Natalie Coughlin</td>\n      <td>21.0</td>\n      <td>2004.0</td>\n      <td>08/29/2004</td>\n      <td>2.0</td>\n      <td>2.0</td>\n      <td>1.0</td>\n      <td>5.0</td>\n      <td>United States</td>\n    </tr>\n  </tbody>\n</table>\n</div>"
     },
     "metadata": {},
     "execution_count": 92
    }
   ],
   "source": [
    "merged_outer = pd.merge(left=data_main, right=data_country, left_on='Athlete', right_on='Athlete', how='outer')\n",
    "merged_outer.head()"
   ]
  },
  {
   "cell_type": "code",
   "execution_count": 93,
   "metadata": {},
   "outputs": [
    {
     "output_type": "execute_result",
     "data": {
      "text/plain": [
       "                    Athlete  Age  Year Closing Ceremony Date  Gold Medals  \\\n",
       "8604          Lee Seong-Jin  NaN   NaN                   NaN          NaN   \n",
       "8605              Wu Jingyu  NaN   NaN                   NaN          NaN   \n",
       "8606              Yi Siling  NaN   NaN                   NaN          NaN   \n",
       "8607        Harald Stenvaag  NaN   NaN                   NaN          NaN   \n",
       "8608        Lucija Polavder  NaN   NaN                   NaN          NaN   \n",
       "8609        Sergey Samsonov  NaN   NaN                   NaN          NaN   \n",
       "8610    Kari Aalvik Grimsbø  NaN   NaN                   NaN          NaN   \n",
       "8611  Hajnalka Kiraly-Picot  NaN   NaN                   NaN          NaN   \n",
       "8612    Aleksandr Vinokurov  NaN   NaN                   NaN          NaN   \n",
       "8613        Sérgio Paulinho  NaN   NaN                   NaN          NaN   \n",
       "\n",
       "      Silver Medals  Bronze Medals  Total Medals      Country  \n",
       "8604            NaN            NaN           NaN  South Korea  \n",
       "8605            NaN            NaN           NaN        China  \n",
       "8606            NaN            NaN           NaN        China  \n",
       "8607            NaN            NaN           NaN       Norway  \n",
       "8608            NaN            NaN           NaN     Slovenia  \n",
       "8609            NaN            NaN           NaN       Russia  \n",
       "8610            NaN            NaN           NaN       Norway  \n",
       "8611            NaN            NaN           NaN       France  \n",
       "8612            NaN            NaN           NaN   Kazakhstan  \n",
       "8613            NaN            NaN           NaN     Portugal  "
      ],
      "text/html": "<div>\n<style scoped>\n    .dataframe tbody tr th:only-of-type {\n        vertical-align: middle;\n    }\n\n    .dataframe tbody tr th {\n        vertical-align: top;\n    }\n\n    .dataframe thead th {\n        text-align: right;\n    }\n</style>\n<table border=\"1\" class=\"dataframe\">\n  <thead>\n    <tr style=\"text-align: right;\">\n      <th></th>\n      <th>Athlete</th>\n      <th>Age</th>\n      <th>Year</th>\n      <th>Closing Ceremony Date</th>\n      <th>Gold Medals</th>\n      <th>Silver Medals</th>\n      <th>Bronze Medals</th>\n      <th>Total Medals</th>\n      <th>Country</th>\n    </tr>\n  </thead>\n  <tbody>\n    <tr>\n      <th>8604</th>\n      <td>Lee Seong-Jin</td>\n      <td>NaN</td>\n      <td>NaN</td>\n      <td>NaN</td>\n      <td>NaN</td>\n      <td>NaN</td>\n      <td>NaN</td>\n      <td>NaN</td>\n      <td>South Korea</td>\n    </tr>\n    <tr>\n      <th>8605</th>\n      <td>Wu Jingyu</td>\n      <td>NaN</td>\n      <td>NaN</td>\n      <td>NaN</td>\n      <td>NaN</td>\n      <td>NaN</td>\n      <td>NaN</td>\n      <td>NaN</td>\n      <td>China</td>\n    </tr>\n    <tr>\n      <th>8606</th>\n      <td>Yi Siling</td>\n      <td>NaN</td>\n      <td>NaN</td>\n      <td>NaN</td>\n      <td>NaN</td>\n      <td>NaN</td>\n      <td>NaN</td>\n      <td>NaN</td>\n      <td>China</td>\n    </tr>\n    <tr>\n      <th>8607</th>\n      <td>Harald Stenvaag</td>\n      <td>NaN</td>\n      <td>NaN</td>\n      <td>NaN</td>\n      <td>NaN</td>\n      <td>NaN</td>\n      <td>NaN</td>\n      <td>NaN</td>\n      <td>Norway</td>\n    </tr>\n    <tr>\n      <th>8608</th>\n      <td>Lucija Polavder</td>\n      <td>NaN</td>\n      <td>NaN</td>\n      <td>NaN</td>\n      <td>NaN</td>\n      <td>NaN</td>\n      <td>NaN</td>\n      <td>NaN</td>\n      <td>Slovenia</td>\n    </tr>\n    <tr>\n      <th>8609</th>\n      <td>Sergey Samsonov</td>\n      <td>NaN</td>\n      <td>NaN</td>\n      <td>NaN</td>\n      <td>NaN</td>\n      <td>NaN</td>\n      <td>NaN</td>\n      <td>NaN</td>\n      <td>Russia</td>\n    </tr>\n    <tr>\n      <th>8610</th>\n      <td>Kari Aalvik Grimsbø</td>\n      <td>NaN</td>\n      <td>NaN</td>\n      <td>NaN</td>\n      <td>NaN</td>\n      <td>NaN</td>\n      <td>NaN</td>\n      <td>NaN</td>\n      <td>Norway</td>\n    </tr>\n    <tr>\n      <th>8611</th>\n      <td>Hajnalka Kiraly-Picot</td>\n      <td>NaN</td>\n      <td>NaN</td>\n      <td>NaN</td>\n      <td>NaN</td>\n      <td>NaN</td>\n      <td>NaN</td>\n      <td>NaN</td>\n      <td>France</td>\n    </tr>\n    <tr>\n      <th>8612</th>\n      <td>Aleksandr Vinokurov</td>\n      <td>NaN</td>\n      <td>NaN</td>\n      <td>NaN</td>\n      <td>NaN</td>\n      <td>NaN</td>\n      <td>NaN</td>\n      <td>NaN</td>\n      <td>Kazakhstan</td>\n    </tr>\n    <tr>\n      <th>8613</th>\n      <td>Sérgio Paulinho</td>\n      <td>NaN</td>\n      <td>NaN</td>\n      <td>NaN</td>\n      <td>NaN</td>\n      <td>NaN</td>\n      <td>NaN</td>\n      <td>NaN</td>\n      <td>Portugal</td>\n    </tr>\n  </tbody>\n</table>\n</div>"
     },
     "metadata": {},
     "execution_count": 93
    }
   ],
   "source": [
    "merged_outer[merged_outer['Athlete'].isin(deleted_main)]"
   ]
  },
  {
   "cell_type": "code",
   "execution_count": null,
   "metadata": {},
   "outputs": [],
   "source": []
  }
 ]
}