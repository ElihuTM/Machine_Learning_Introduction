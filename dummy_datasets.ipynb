{
 "metadata": {
  "language_info": {
   "codemirror_mode": {
    "name": "ipython",
    "version": 3
   },
   "file_extension": ".py",
   "mimetype": "text/x-python",
   "name": "python",
   "nbconvert_exporter": "python",
   "pygments_lexer": "ipython3",
   "version": "3.8.6-final"
  },
  "orig_nbformat": 2,
  "kernelspec": {
   "name": "python3",
   "display_name": "Python 3.8.6 64-bit",
   "metadata": {
    "interpreter": {
     "hash": "24f3da953a5cc869466e686dbee479f48efb08729e70a1f69aec7882ebbcbeb2"
    }
   }
  }
 },
 "nbformat": 4,
 "nbformat_minor": 2,
 "cells": [
  {
   "source": [
    "# Generación de Dummy Datasets"
   ],
   "cell_type": "markdown",
   "metadata": {}
  },
  {
   "cell_type": "code",
   "execution_count": 45,
   "metadata": {},
   "outputs": [],
   "source": [
    "import pandas as pd\n",
    "import numpy as np\n",
    "import matplotlib.pyplot as plt"
   ]
  },
  {
   "cell_type": "code",
   "execution_count": 46,
   "metadata": {},
   "outputs": [],
   "source": [
    "mainpath = \"C:/Users/ruben/OneDrive/Documentos/MachineLearning/udemy/Machine_Learning_Introduction/datasets\"\n",
    "customer_churn_model_filename_csv = \"customer-churn-model/Customer Churn Model.txt\"\n",
    "customer_churn_model_csv = os.path.join(mainpath, customer_churn_model_filename_csv)\n",
    "data = pd.read_csv(customer_churn_model_csv)"
   ]
  },
  {
   "cell_type": "code",
   "execution_count": 47,
   "metadata": {},
   "outputs": [],
   "source": [
    "n = 100000\n",
    "dummy = pd.DataFrame(\n",
    "    {\n",
    "        'A' : np.random.randn(n),\n",
    "        'B' : 1.5 + 2.5 * np.random.randn(n),\n",
    "        'C' : np.random.uniform(5, 32, n),\n",
    "        'D' : np.random.chisquare(50, size=n)\n",
    "    }\n",
    ")"
   ]
  },
  {
   "cell_type": "code",
   "execution_count": 48,
   "metadata": {},
   "outputs": [
    {
     "output_type": "execute_result",
     "data": {
      "text/plain": [
       "          A         B          C          D\n",
       "0 -0.106857  1.551959  19.060164  55.857527\n",
       "1  0.486697  2.126794  31.738620  47.688889\n",
       "2  0.181868  1.582501  23.465687  66.058848\n",
       "3  0.747613 -0.458606  12.963690  54.577871\n",
       "4 -2.183000 -1.598527  24.823663  39.054768"
      ],
      "text/html": "<div>\n<style scoped>\n    .dataframe tbody tr th:only-of-type {\n        vertical-align: middle;\n    }\n\n    .dataframe tbody tr th {\n        vertical-align: top;\n    }\n\n    .dataframe thead th {\n        text-align: right;\n    }\n</style>\n<table border=\"1\" class=\"dataframe\">\n  <thead>\n    <tr style=\"text-align: right;\">\n      <th></th>\n      <th>A</th>\n      <th>B</th>\n      <th>C</th>\n      <th>D</th>\n    </tr>\n  </thead>\n  <tbody>\n    <tr>\n      <th>0</th>\n      <td>-0.106857</td>\n      <td>1.551959</td>\n      <td>19.060164</td>\n      <td>55.857527</td>\n    </tr>\n    <tr>\n      <th>1</th>\n      <td>0.486697</td>\n      <td>2.126794</td>\n      <td>31.738620</td>\n      <td>47.688889</td>\n    </tr>\n    <tr>\n      <th>2</th>\n      <td>0.181868</td>\n      <td>1.582501</td>\n      <td>23.465687</td>\n      <td>66.058848</td>\n    </tr>\n    <tr>\n      <th>3</th>\n      <td>0.747613</td>\n      <td>-0.458606</td>\n      <td>12.963690</td>\n      <td>54.577871</td>\n    </tr>\n    <tr>\n      <th>4</th>\n      <td>-2.183000</td>\n      <td>-1.598527</td>\n      <td>24.823663</td>\n      <td>39.054768</td>\n    </tr>\n  </tbody>\n</table>\n</div>"
     },
     "metadata": {},
     "execution_count": 48
    }
   ],
   "source": [
    "dummy.head()"
   ]
  },
  {
   "cell_type": "code",
   "execution_count": 49,
   "metadata": {},
   "outputs": [
    {
     "output_type": "execute_result",
     "data": {
      "text/plain": [
       "(array([3.2000e+01, 5.3900e+02, 4.2330e+03, 1.6709e+04, 3.1894e+04,\n",
       "        2.9696e+04, 1.3487e+04, 3.0860e+03, 3.0800e+02, 1.6000e+01]),\n",
       " array([-4.27510912, -3.40328297, -2.53145681, -1.65963066, -0.78780451,\n",
       "         0.08402164,  0.95584779,  1.82767395,  2.6995001 ,  3.57132625,\n",
       "         4.4431524 ]),\n",
       " <BarContainer object of 10 artists>)"
      ]
     },
     "metadata": {},
     "execution_count": 49
    },
    {
     "output_type": "display_data",
     "data": {
      "text/plain": "<Figure size 432x288 with 1 Axes>",
      "image/svg+xml": "<?xml version=\"1.0\" encoding=\"utf-8\" standalone=\"no\"?>\r\n<!DOCTYPE svg PUBLIC \"-//W3C//DTD SVG 1.1//EN\"\r\n  \"http://www.w3.org/Graphics/SVG/1.1/DTD/svg11.dtd\">\r\n<!-- Created with matplotlib (https://matplotlib.org/) -->\r\n<svg height=\"248.518125pt\" version=\"1.1\" viewBox=\"0 0 388.0125 248.518125\" width=\"388.0125pt\" xmlns=\"http://www.w3.org/2000/svg\" xmlns:xlink=\"http://www.w3.org/1999/xlink\">\r\n <metadata>\r\n  <rdf:RDF xmlns:cc=\"http://creativecommons.org/ns#\" xmlns:dc=\"http://purl.org/dc/elements/1.1/\" xmlns:rdf=\"http://www.w3.org/1999/02/22-rdf-syntax-ns#\">\r\n   <cc:Work>\r\n    <dc:type rdf:resource=\"http://purl.org/dc/dcmitype/StillImage\"/>\r\n    <dc:date>2021-02-02T11:36:36.356755</dc:date>\r\n    <dc:format>image/svg+xml</dc:format>\r\n    <dc:creator>\r\n     <cc:Agent>\r\n      <dc:title>Matplotlib v3.3.3, https://matplotlib.org/</dc:title>\r\n     </cc:Agent>\r\n    </dc:creator>\r\n   </cc:Work>\r\n  </rdf:RDF>\r\n </metadata>\r\n <defs>\r\n  <style type=\"text/css\">*{stroke-linecap:butt;stroke-linejoin:round;}</style>\r\n </defs>\r\n <g id=\"figure_1\">\r\n  <g id=\"patch_1\">\r\n   <path d=\"M 0 248.518125 \r\nL 388.0125 248.518125 \r\nL 388.0125 0 \r\nL 0 0 \r\nz\r\n\" style=\"fill:none;\"/>\r\n  </g>\r\n  <g id=\"axes_1\">\r\n   <g id=\"patch_2\">\r\n    <path d=\"M 46.0125 224.64 \r\nL 380.8125 224.64 \r\nL 380.8125 7.2 \r\nL 46.0125 7.2 \r\nz\r\n\" style=\"fill:#ffffff;\"/>\r\n   </g>\r\n   <g id=\"patch_3\">\r\n    <path clip-path=\"url(#p2f5ce6dfcc)\" d=\"M 61.230682 224.64 \r\nL 91.667045 224.64 \r\nL 91.667045 224.432226 \r\nL 61.230682 224.432226 \r\nz\r\n\" style=\"fill:#1f77b4;\"/>\r\n   </g>\r\n   <g id=\"patch_4\">\r\n    <path clip-path=\"url(#p2f5ce6dfcc)\" d=\"M 91.667045 224.64 \r\nL 122.103409 224.64 \r\nL 122.103409 221.140307 \r\nL 91.667045 221.140307 \r\nz\r\n\" style=\"fill:#1f77b4;\"/>\r\n   </g>\r\n   <g id=\"patch_5\">\r\n    <path clip-path=\"url(#p2f5ce6dfcc)\" d=\"M 122.103409 224.64 \r\nL 152.539773 224.64 \r\nL 152.539773 197.1554 \r\nL 122.103409 197.1554 \r\nz\r\n\" style=\"fill:#1f77b4;\"/>\r\n   </g>\r\n   <g id=\"patch_6\">\r\n    <path clip-path=\"url(#p2f5ce6dfcc)\" d=\"M 152.539773 224.64 \r\nL 182.976136 224.64 \r\nL 182.976136 116.149525 \r\nL 152.539773 116.149525 \r\nz\r\n\" style=\"fill:#1f77b4;\"/>\r\n   </g>\r\n   <g id=\"patch_7\">\r\n    <path clip-path=\"url(#p2f5ce6dfcc)\" d=\"M 182.976136 224.64 \r\nL 213.4125 224.64 \r\nL 213.4125 17.554286 \r\nL 182.976136 17.554286 \r\nz\r\n\" style=\"fill:#1f77b4;\"/>\r\n   </g>\r\n   <g id=\"patch_8\">\r\n    <path clip-path=\"url(#p2f5ce6dfcc)\" d=\"M 213.4125 224.64 \r\nL 243.848864 224.64 \r\nL 243.848864 31.82576 \r\nL 213.4125 31.82576 \r\nz\r\n\" style=\"fill:#1f77b4;\"/>\r\n   </g>\r\n   <g id=\"patch_9\">\r\n    <path clip-path=\"url(#p2f5ce6dfcc)\" d=\"M 243.848864 224.64 \r\nL 274.285227 224.64 \r\nL 274.285227 137.069766 \r\nL 243.848864 137.069766 \r\nz\r\n\" style=\"fill:#1f77b4;\"/>\r\n   </g>\r\n   <g id=\"patch_10\">\r\n    <path clip-path=\"url(#p2f5ce6dfcc)\" d=\"M 274.285227 224.64 \r\nL 304.721591 224.64 \r\nL 304.721591 204.602798 \r\nL 274.285227 204.602798 \r\nz\r\n\" style=\"fill:#1f77b4;\"/>\r\n   </g>\r\n   <g id=\"patch_11\">\r\n    <path clip-path=\"url(#p2f5ce6dfcc)\" d=\"M 304.721591 224.64 \r\nL 335.157955 224.64 \r\nL 335.157955 222.640176 \r\nL 304.721591 222.640176 \r\nz\r\n\" style=\"fill:#1f77b4;\"/>\r\n   </g>\r\n   <g id=\"patch_12\">\r\n    <path clip-path=\"url(#p2f5ce6dfcc)\" d=\"M 335.157955 224.64 \r\nL 365.594318 224.64 \r\nL 365.594318 224.536113 \r\nL 335.157955 224.536113 \r\nz\r\n\" style=\"fill:#1f77b4;\"/>\r\n   </g>\r\n   <g id=\"matplotlib.axis_1\">\r\n    <g id=\"xtick_1\">\r\n     <g id=\"line2d_1\">\r\n      <defs>\r\n       <path d=\"M 0 0 \r\nL 0 3.5 \r\n\" id=\"m96a12f2b18\" style=\"stroke:#000000;stroke-width:0.8;\"/>\r\n      </defs>\r\n      <g>\r\n       <use style=\"stroke:#000000;stroke-width:0.8;\" x=\"70.835029\" xlink:href=\"#m96a12f2b18\" y=\"224.64\"/>\r\n      </g>\r\n     </g>\r\n     <g id=\"text_1\">\r\n      <!-- −4 -->\r\n      <g transform=\"translate(63.463935 239.238437)scale(0.1 -0.1)\">\r\n       <defs>\r\n        <path d=\"M 10.59375 35.5 \r\nL 73.1875 35.5 \r\nL 73.1875 27.203125 \r\nL 10.59375 27.203125 \r\nz\r\n\" id=\"DejaVuSans-8722\"/>\r\n        <path d=\"M 37.796875 64.3125 \r\nL 12.890625 25.390625 \r\nL 37.796875 25.390625 \r\nz\r\nM 35.203125 72.90625 \r\nL 47.609375 72.90625 \r\nL 47.609375 25.390625 \r\nL 58.015625 25.390625 \r\nL 58.015625 17.1875 \r\nL 47.609375 17.1875 \r\nL 47.609375 0 \r\nL 37.796875 0 \r\nL 37.796875 17.1875 \r\nL 4.890625 17.1875 \r\nL 4.890625 26.703125 \r\nz\r\n\" id=\"DejaVuSans-52\"/>\r\n       </defs>\r\n       <use xlink:href=\"#DejaVuSans-8722\"/>\r\n       <use x=\"83.789062\" xlink:href=\"#DejaVuSans-52\"/>\r\n      </g>\r\n     </g>\r\n    </g>\r\n    <g id=\"xtick_2\">\r\n     <g id=\"line2d_2\">\r\n      <g>\r\n       <use style=\"stroke:#000000;stroke-width:0.8;\" x=\"140.657123\" xlink:href=\"#m96a12f2b18\" y=\"224.64\"/>\r\n      </g>\r\n     </g>\r\n     <g id=\"text_2\">\r\n      <!-- −2 -->\r\n      <g transform=\"translate(133.286029 239.238437)scale(0.1 -0.1)\">\r\n       <defs>\r\n        <path d=\"M 19.1875 8.296875 \r\nL 53.609375 8.296875 \r\nL 53.609375 0 \r\nL 7.328125 0 \r\nL 7.328125 8.296875 \r\nQ 12.9375 14.109375 22.625 23.890625 \r\nQ 32.328125 33.6875 34.8125 36.53125 \r\nQ 39.546875 41.84375 41.421875 45.53125 \r\nQ 43.3125 49.21875 43.3125 52.78125 \r\nQ 43.3125 58.59375 39.234375 62.25 \r\nQ 35.15625 65.921875 28.609375 65.921875 \r\nQ 23.96875 65.921875 18.8125 64.3125 \r\nQ 13.671875 62.703125 7.8125 59.421875 \r\nL 7.8125 69.390625 \r\nQ 13.765625 71.78125 18.9375 73 \r\nQ 24.125 74.21875 28.421875 74.21875 \r\nQ 39.75 74.21875 46.484375 68.546875 \r\nQ 53.21875 62.890625 53.21875 53.421875 \r\nQ 53.21875 48.921875 51.53125 44.890625 \r\nQ 49.859375 40.875 45.40625 35.40625 \r\nQ 44.1875 33.984375 37.640625 27.21875 \r\nQ 31.109375 20.453125 19.1875 8.296875 \r\nz\r\n\" id=\"DejaVuSans-50\"/>\r\n       </defs>\r\n       <use xlink:href=\"#DejaVuSans-8722\"/>\r\n       <use x=\"83.789062\" xlink:href=\"#DejaVuSans-50\"/>\r\n      </g>\r\n     </g>\r\n    </g>\r\n    <g id=\"xtick_3\">\r\n     <g id=\"line2d_3\">\r\n      <g>\r\n       <use style=\"stroke:#000000;stroke-width:0.8;\" x=\"210.479217\" xlink:href=\"#m96a12f2b18\" y=\"224.64\"/>\r\n      </g>\r\n     </g>\r\n     <g id=\"text_3\">\r\n      <!-- 0 -->\r\n      <g transform=\"translate(207.297967 239.238437)scale(0.1 -0.1)\">\r\n       <defs>\r\n        <path d=\"M 31.78125 66.40625 \r\nQ 24.171875 66.40625 20.328125 58.90625 \r\nQ 16.5 51.421875 16.5 36.375 \r\nQ 16.5 21.390625 20.328125 13.890625 \r\nQ 24.171875 6.390625 31.78125 6.390625 \r\nQ 39.453125 6.390625 43.28125 13.890625 \r\nQ 47.125 21.390625 47.125 36.375 \r\nQ 47.125 51.421875 43.28125 58.90625 \r\nQ 39.453125 66.40625 31.78125 66.40625 \r\nz\r\nM 31.78125 74.21875 \r\nQ 44.046875 74.21875 50.515625 64.515625 \r\nQ 56.984375 54.828125 56.984375 36.375 \r\nQ 56.984375 17.96875 50.515625 8.265625 \r\nQ 44.046875 -1.421875 31.78125 -1.421875 \r\nQ 19.53125 -1.421875 13.0625 8.265625 \r\nQ 6.59375 17.96875 6.59375 36.375 \r\nQ 6.59375 54.828125 13.0625 64.515625 \r\nQ 19.53125 74.21875 31.78125 74.21875 \r\nz\r\n\" id=\"DejaVuSans-48\"/>\r\n       </defs>\r\n       <use xlink:href=\"#DejaVuSans-48\"/>\r\n      </g>\r\n     </g>\r\n    </g>\r\n    <g id=\"xtick_4\">\r\n     <g id=\"line2d_4\">\r\n      <g>\r\n       <use style=\"stroke:#000000;stroke-width:0.8;\" x=\"280.30131\" xlink:href=\"#m96a12f2b18\" y=\"224.64\"/>\r\n      </g>\r\n     </g>\r\n     <g id=\"text_4\">\r\n      <!-- 2 -->\r\n      <g transform=\"translate(277.12006 239.238437)scale(0.1 -0.1)\">\r\n       <use xlink:href=\"#DejaVuSans-50\"/>\r\n      </g>\r\n     </g>\r\n    </g>\r\n    <g id=\"xtick_5\">\r\n     <g id=\"line2d_5\">\r\n      <g>\r\n       <use style=\"stroke:#000000;stroke-width:0.8;\" x=\"350.123404\" xlink:href=\"#m96a12f2b18\" y=\"224.64\"/>\r\n      </g>\r\n     </g>\r\n     <g id=\"text_5\">\r\n      <!-- 4 -->\r\n      <g transform=\"translate(346.942154 239.238437)scale(0.1 -0.1)\">\r\n       <use xlink:href=\"#DejaVuSans-52\"/>\r\n      </g>\r\n     </g>\r\n    </g>\r\n   </g>\r\n   <g id=\"matplotlib.axis_2\">\r\n    <g id=\"ytick_1\">\r\n     <g id=\"line2d_6\">\r\n      <defs>\r\n       <path d=\"M 0 0 \r\nL -3.5 0 \r\n\" id=\"m91ce08ecd7\" style=\"stroke:#000000;stroke-width:0.8;\"/>\r\n      </defs>\r\n      <g>\r\n       <use style=\"stroke:#000000;stroke-width:0.8;\" x=\"46.0125\" xlink:href=\"#m91ce08ecd7\" y=\"224.64\"/>\r\n      </g>\r\n     </g>\r\n     <g id=\"text_6\">\r\n      <!-- 0 -->\r\n      <g transform=\"translate(32.65 228.439219)scale(0.1 -0.1)\">\r\n       <use xlink:href=\"#DejaVuSans-48\"/>\r\n      </g>\r\n     </g>\r\n    </g>\r\n    <g id=\"ytick_2\">\r\n     <g id=\"line2d_7\">\r\n      <g>\r\n       <use style=\"stroke:#000000;stroke-width:0.8;\" x=\"46.0125\" xlink:href=\"#m91ce08ecd7\" y=\"192.175318\"/>\r\n      </g>\r\n     </g>\r\n     <g id=\"text_7\">\r\n      <!-- 5000 -->\r\n      <g transform=\"translate(13.5625 195.974537)scale(0.1 -0.1)\">\r\n       <defs>\r\n        <path d=\"M 10.796875 72.90625 \r\nL 49.515625 72.90625 \r\nL 49.515625 64.59375 \r\nL 19.828125 64.59375 \r\nL 19.828125 46.734375 \r\nQ 21.96875 47.46875 24.109375 47.828125 \r\nQ 26.265625 48.1875 28.421875 48.1875 \r\nQ 40.625 48.1875 47.75 41.5 \r\nQ 54.890625 34.8125 54.890625 23.390625 \r\nQ 54.890625 11.625 47.5625 5.09375 \r\nQ 40.234375 -1.421875 26.90625 -1.421875 \r\nQ 22.3125 -1.421875 17.546875 -0.640625 \r\nQ 12.796875 0.140625 7.71875 1.703125 \r\nL 7.71875 11.625 \r\nQ 12.109375 9.234375 16.796875 8.0625 \r\nQ 21.484375 6.890625 26.703125 6.890625 \r\nQ 35.15625 6.890625 40.078125 11.328125 \r\nQ 45.015625 15.765625 45.015625 23.390625 \r\nQ 45.015625 31 40.078125 35.4375 \r\nQ 35.15625 39.890625 26.703125 39.890625 \r\nQ 22.75 39.890625 18.8125 39.015625 \r\nQ 14.890625 38.140625 10.796875 36.28125 \r\nz\r\n\" id=\"DejaVuSans-53\"/>\r\n       </defs>\r\n       <use xlink:href=\"#DejaVuSans-53\"/>\r\n       <use x=\"63.623047\" xlink:href=\"#DejaVuSans-48\"/>\r\n       <use x=\"127.246094\" xlink:href=\"#DejaVuSans-48\"/>\r\n       <use x=\"190.869141\" xlink:href=\"#DejaVuSans-48\"/>\r\n      </g>\r\n     </g>\r\n    </g>\r\n    <g id=\"ytick_3\">\r\n     <g id=\"line2d_8\">\r\n      <g>\r\n       <use style=\"stroke:#000000;stroke-width:0.8;\" x=\"46.0125\" xlink:href=\"#m91ce08ecd7\" y=\"159.710636\"/>\r\n      </g>\r\n     </g>\r\n     <g id=\"text_8\">\r\n      <!-- 10000 -->\r\n      <g transform=\"translate(7.2 163.509855)scale(0.1 -0.1)\">\r\n       <defs>\r\n        <path d=\"M 12.40625 8.296875 \r\nL 28.515625 8.296875 \r\nL 28.515625 63.921875 \r\nL 10.984375 60.40625 \r\nL 10.984375 69.390625 \r\nL 28.421875 72.90625 \r\nL 38.28125 72.90625 \r\nL 38.28125 8.296875 \r\nL 54.390625 8.296875 \r\nL 54.390625 0 \r\nL 12.40625 0 \r\nz\r\n\" id=\"DejaVuSans-49\"/>\r\n       </defs>\r\n       <use xlink:href=\"#DejaVuSans-49\"/>\r\n       <use x=\"63.623047\" xlink:href=\"#DejaVuSans-48\"/>\r\n       <use x=\"127.246094\" xlink:href=\"#DejaVuSans-48\"/>\r\n       <use x=\"190.869141\" xlink:href=\"#DejaVuSans-48\"/>\r\n       <use x=\"254.492188\" xlink:href=\"#DejaVuSans-48\"/>\r\n      </g>\r\n     </g>\r\n    </g>\r\n    <g id=\"ytick_4\">\r\n     <g id=\"line2d_9\">\r\n      <g>\r\n       <use style=\"stroke:#000000;stroke-width:0.8;\" x=\"46.0125\" xlink:href=\"#m91ce08ecd7\" y=\"127.245954\"/>\r\n      </g>\r\n     </g>\r\n     <g id=\"text_9\">\r\n      <!-- 15000 -->\r\n      <g transform=\"translate(7.2 131.045172)scale(0.1 -0.1)\">\r\n       <use xlink:href=\"#DejaVuSans-49\"/>\r\n       <use x=\"63.623047\" xlink:href=\"#DejaVuSans-53\"/>\r\n       <use x=\"127.246094\" xlink:href=\"#DejaVuSans-48\"/>\r\n       <use x=\"190.869141\" xlink:href=\"#DejaVuSans-48\"/>\r\n       <use x=\"254.492188\" xlink:href=\"#DejaVuSans-48\"/>\r\n      </g>\r\n     </g>\r\n    </g>\r\n    <g id=\"ytick_5\">\r\n     <g id=\"line2d_10\">\r\n      <g>\r\n       <use style=\"stroke:#000000;stroke-width:0.8;\" x=\"46.0125\" xlink:href=\"#m91ce08ecd7\" y=\"94.781272\"/>\r\n      </g>\r\n     </g>\r\n     <g id=\"text_10\">\r\n      <!-- 20000 -->\r\n      <g transform=\"translate(7.2 98.58049)scale(0.1 -0.1)\">\r\n       <use xlink:href=\"#DejaVuSans-50\"/>\r\n       <use x=\"63.623047\" xlink:href=\"#DejaVuSans-48\"/>\r\n       <use x=\"127.246094\" xlink:href=\"#DejaVuSans-48\"/>\r\n       <use x=\"190.869141\" xlink:href=\"#DejaVuSans-48\"/>\r\n       <use x=\"254.492188\" xlink:href=\"#DejaVuSans-48\"/>\r\n      </g>\r\n     </g>\r\n    </g>\r\n    <g id=\"ytick_6\">\r\n     <g id=\"line2d_11\">\r\n      <g>\r\n       <use style=\"stroke:#000000;stroke-width:0.8;\" x=\"46.0125\" xlink:href=\"#m91ce08ecd7\" y=\"62.316589\"/>\r\n      </g>\r\n     </g>\r\n     <g id=\"text_11\">\r\n      <!-- 25000 -->\r\n      <g transform=\"translate(7.2 66.115808)scale(0.1 -0.1)\">\r\n       <use xlink:href=\"#DejaVuSans-50\"/>\r\n       <use x=\"63.623047\" xlink:href=\"#DejaVuSans-53\"/>\r\n       <use x=\"127.246094\" xlink:href=\"#DejaVuSans-48\"/>\r\n       <use x=\"190.869141\" xlink:href=\"#DejaVuSans-48\"/>\r\n       <use x=\"254.492188\" xlink:href=\"#DejaVuSans-48\"/>\r\n      </g>\r\n     </g>\r\n    </g>\r\n    <g id=\"ytick_7\">\r\n     <g id=\"line2d_12\">\r\n      <g>\r\n       <use style=\"stroke:#000000;stroke-width:0.8;\" x=\"46.0125\" xlink:href=\"#m91ce08ecd7\" y=\"29.851907\"/>\r\n      </g>\r\n     </g>\r\n     <g id=\"text_12\">\r\n      <!-- 30000 -->\r\n      <g transform=\"translate(7.2 33.651126)scale(0.1 -0.1)\">\r\n       <defs>\r\n        <path d=\"M 40.578125 39.3125 \r\nQ 47.65625 37.796875 51.625 33 \r\nQ 55.609375 28.21875 55.609375 21.1875 \r\nQ 55.609375 10.40625 48.1875 4.484375 \r\nQ 40.765625 -1.421875 27.09375 -1.421875 \r\nQ 22.515625 -1.421875 17.65625 -0.515625 \r\nQ 12.796875 0.390625 7.625 2.203125 \r\nL 7.625 11.71875 \r\nQ 11.71875 9.328125 16.59375 8.109375 \r\nQ 21.484375 6.890625 26.8125 6.890625 \r\nQ 36.078125 6.890625 40.9375 10.546875 \r\nQ 45.796875 14.203125 45.796875 21.1875 \r\nQ 45.796875 27.640625 41.28125 31.265625 \r\nQ 36.765625 34.90625 28.71875 34.90625 \r\nL 20.21875 34.90625 \r\nL 20.21875 43.015625 \r\nL 29.109375 43.015625 \r\nQ 36.375 43.015625 40.234375 45.921875 \r\nQ 44.09375 48.828125 44.09375 54.296875 \r\nQ 44.09375 59.90625 40.109375 62.90625 \r\nQ 36.140625 65.921875 28.71875 65.921875 \r\nQ 24.65625 65.921875 20.015625 65.03125 \r\nQ 15.375 64.15625 9.8125 62.3125 \r\nL 9.8125 71.09375 \r\nQ 15.4375 72.65625 20.34375 73.4375 \r\nQ 25.25 74.21875 29.59375 74.21875 \r\nQ 40.828125 74.21875 47.359375 69.109375 \r\nQ 53.90625 64.015625 53.90625 55.328125 \r\nQ 53.90625 49.265625 50.4375 45.09375 \r\nQ 46.96875 40.921875 40.578125 39.3125 \r\nz\r\n\" id=\"DejaVuSans-51\"/>\r\n       </defs>\r\n       <use xlink:href=\"#DejaVuSans-51\"/>\r\n       <use x=\"63.623047\" xlink:href=\"#DejaVuSans-48\"/>\r\n       <use x=\"127.246094\" xlink:href=\"#DejaVuSans-48\"/>\r\n       <use x=\"190.869141\" xlink:href=\"#DejaVuSans-48\"/>\r\n       <use x=\"254.492188\" xlink:href=\"#DejaVuSans-48\"/>\r\n      </g>\r\n     </g>\r\n    </g>\r\n   </g>\r\n   <g id=\"patch_13\">\r\n    <path d=\"M 46.0125 224.64 \r\nL 46.0125 7.2 \r\n\" style=\"fill:none;stroke:#000000;stroke-linecap:square;stroke-linejoin:miter;stroke-width:0.8;\"/>\r\n   </g>\r\n   <g id=\"patch_14\">\r\n    <path d=\"M 380.8125 224.64 \r\nL 380.8125 7.2 \r\n\" style=\"fill:none;stroke:#000000;stroke-linecap:square;stroke-linejoin:miter;stroke-width:0.8;\"/>\r\n   </g>\r\n   <g id=\"patch_15\">\r\n    <path d=\"M 46.0125 224.64 \r\nL 380.8125 224.64 \r\n\" style=\"fill:none;stroke:#000000;stroke-linecap:square;stroke-linejoin:miter;stroke-width:0.8;\"/>\r\n   </g>\r\n   <g id=\"patch_16\">\r\n    <path d=\"M 46.0125 7.2 \r\nL 380.8125 7.2 \r\n\" style=\"fill:none;stroke:#000000;stroke-linecap:square;stroke-linejoin:miter;stroke-width:0.8;\"/>\r\n   </g>\r\n  </g>\r\n </g>\r\n <defs>\r\n  <clipPath id=\"p2f5ce6dfcc\">\r\n   <rect height=\"217.44\" width=\"334.8\" x=\"46.0125\" y=\"7.2\"/>\r\n  </clipPath>\r\n </defs>\r\n</svg>\r\n",
      "image/png": "[encoded data removed]"
     },
     "metadata": {
      "needs_background": "light"
     }
    }
   ],
   "source": [
    "plt.hist(dummy['A'])"
   ]
  },
  {
   "cell_type": "code",
   "execution_count": 50,
   "metadata": {},
   "outputs": [
    {
     "output_type": "execute_result",
     "data": {
      "text/plain": [
       "(array([4.8000e+01, 6.6700e+02, 4.8460e+03, 1.7870e+04, 3.1671e+04,\n",
       "        2.8757e+04, 1.2879e+04, 2.9330e+03, 3.1000e+02, 1.9000e+01]),\n",
       " array([-8.88139509, -6.74260083, -4.60380657, -2.4650123 , -0.32621804,\n",
       "         1.81257622,  3.95137049,  6.09016475,  8.22895901, 10.36775327,\n",
       "        12.50654754]),\n",
       " <BarContainer object of 10 artists>)"
      ]
     },
     "metadata": {},
     "execution_count": 50
    },
    {
     "output_type": "display_data",
     "data": {
      "text/plain": "<Figure size 432x288 with 1 Axes>",
      "image/svg+xml": "<?xml version=\"1.0\" encoding=\"utf-8\" standalone=\"no\"?>\r\n<!DOCTYPE svg PUBLIC \"-//W3C//DTD SVG 1.1//EN\"\r\n  \"http://www.w3.org/Graphics/SVG/1.1/DTD/svg11.dtd\">\r\n<!-- Created with matplotlib (https://matplotlib.org/) -->\r\n<svg height=\"248.518125pt\" version=\"1.1\" viewBox=\"0 0 388.0125 248.518125\" width=\"388.0125pt\" xmlns=\"http://www.w3.org/2000/svg\" xmlns:xlink=\"http://www.w3.org/1999/xlink\">\r\n <metadata>\r\n  <rdf:RDF xmlns:cc=\"http://creativecommons.org/ns#\" xmlns:dc=\"http://purl.org/dc/elements/1.1/\" xmlns:rdf=\"http://www.w3.org/1999/02/22-rdf-syntax-ns#\">\r\n   <cc:Work>\r\n    <dc:type rdf:resource=\"http://purl.org/dc/dcmitype/StillImage\"/>\r\n    <dc:date>2021-02-02T11:36:36.580159</dc:date>\r\n    <dc:format>image/svg+xml</dc:format>\r\n    <dc:creator>\r\n     <cc:Agent>\r\n      <dc:title>Matplotlib v3.3.3, https://matplotlib.org/</dc:title>\r\n     </cc:Agent>\r\n    </dc:creator>\r\n   </cc:Work>\r\n  </rdf:RDF>\r\n </metadata>\r\n <defs>\r\n  <style type=\"text/css\">*{stroke-linecap:butt;stroke-linejoin:round;}</style>\r\n </defs>\r\n <g id=\"figure_1\">\r\n  <g id=\"patch_1\">\r\n   <path d=\"M 0 248.518125 \r\nL 388.0125 248.518125 \r\nL 388.0125 0 \r\nL 0 0 \r\nz\r\n\" style=\"fill:none;\"/>\r\n  </g>\r\n  <g id=\"axes_1\">\r\n   <g id=\"patch_2\">\r\n    <path d=\"M 46.0125 224.64 \r\nL 380.8125 224.64 \r\nL 380.8125 7.2 \r\nL 46.0125 7.2 \r\nz\r\n\" style=\"fill:#ffffff;\"/>\r\n   </g>\r\n   <g id=\"patch_3\">\r\n    <path clip-path=\"url(#p1fe344dbc6)\" d=\"M 61.230682 224.64 \r\nL 91.667045 224.64 \r\nL 91.667045 224.326145 \r\nL 61.230682 224.326145 \r\nz\r\n\" style=\"fill:#1f77b4;\"/>\r\n   </g>\r\n   <g id=\"patch_4\">\r\n    <path clip-path=\"url(#p1fe344dbc6)\" d=\"M 91.667045 224.64 \r\nL 122.103409 224.64 \r\nL 122.103409 220.278718 \r\nL 91.667045 220.278718 \r\nz\r\n\" style=\"fill:#1f77b4;\"/>\r\n   </g>\r\n   <g id=\"patch_5\">\r\n    <path clip-path=\"url(#p1fe344dbc6)\" d=\"M 122.103409 224.64 \r\nL 152.539773 224.64 \r\nL 152.539773 192.953682 \r\nL 122.103409 192.953682 \r\nz\r\n\" style=\"fill:#1f77b4;\"/>\r\n   </g>\r\n   <g id=\"patch_6\">\r\n    <path clip-path=\"url(#p1fe344dbc6)\" d=\"M 152.539773 224.64 \r\nL 182.976136 224.64 \r\nL 182.976136 107.794251 \r\nL 152.539773 107.794251 \r\nz\r\n\" style=\"fill:#1f77b4;\"/>\r\n   </g>\r\n   <g id=\"patch_7\">\r\n    <path clip-path=\"url(#p1fe344dbc6)\" d=\"M 182.976136 224.64 \r\nL 213.4125 224.64 \r\nL 213.4125 17.554286 \r\nL 182.976136 17.554286 \r\nz\r\n\" style=\"fill:#1f77b4;\"/>\r\n   </g>\r\n   <g id=\"patch_8\">\r\n    <path clip-path=\"url(#p1fe344dbc6)\" d=\"M 213.4125 224.64 \r\nL 243.848864 224.64 \r\nL 243.848864 36.607924 \r\nL 213.4125 36.607924 \r\nz\r\n\" style=\"fill:#1f77b4;\"/>\r\n   </g>\r\n   <g id=\"patch_9\">\r\n    <path clip-path=\"url(#p1fe344dbc6)\" d=\"M 243.848864 224.64 \r\nL 274.285227 224.64 \r\nL 274.285227 140.428674 \r\nL 243.848864 140.428674 \r\nz\r\n\" style=\"fill:#1f77b4;\"/>\r\n   </g>\r\n   <g id=\"patch_10\">\r\n    <path clip-path=\"url(#p1fe344dbc6)\" d=\"M 274.285227 224.64 \r\nL 304.721591 224.64 \r\nL 304.721591 205.462127 \r\nL 274.285227 205.462127 \r\nz\r\n\" style=\"fill:#1f77b4;\"/>\r\n   </g>\r\n   <g id=\"patch_11\">\r\n    <path clip-path=\"url(#p1fe344dbc6)\" d=\"M 304.721591 224.64 \r\nL 335.157955 224.64 \r\nL 335.157955 222.613017 \r\nL 304.721591 222.613017 \r\nz\r\n\" style=\"fill:#1f77b4;\"/>\r\n   </g>\r\n   <g id=\"patch_12\">\r\n    <path clip-path=\"url(#p1fe344dbc6)\" d=\"M 335.157955 224.64 \r\nL 365.594318 224.64 \r\nL 365.594318 224.515766 \r\nL 335.157955 224.515766 \r\nz\r\n\" style=\"fill:#1f77b4;\"/>\r\n   </g>\r\n   <g id=\"matplotlib.axis_1\">\r\n    <g id=\"xtick_1\">\r\n     <g id=\"line2d_1\">\r\n      <defs>\r\n       <path d=\"M 0 0 \r\nL 0 3.5 \r\n\" id=\"mf3845ebc65\" style=\"stroke:#000000;stroke-width:0.8;\"/>\r\n      </defs>\r\n      <g>\r\n       <use style=\"stroke:#000000;stroke-width:0.8;\" x=\"116.465332\" xlink:href=\"#mf3845ebc65\" y=\"224.64\"/>\r\n      </g>\r\n     </g>\r\n     <g id=\"text_1\">\r\n      <!-- −5 -->\r\n      <g transform=\"translate(109.094238 239.238437)scale(0.1 -0.1)\">\r\n       <defs>\r\n        <path d=\"M 10.59375 35.5 \r\nL 73.1875 35.5 \r\nL 73.1875 27.203125 \r\nL 10.59375 27.203125 \r\nz\r\n\" id=\"DejaVuSans-8722\"/>\r\n        <path d=\"M 10.796875 72.90625 \r\nL 49.515625 72.90625 \r\nL 49.515625 64.59375 \r\nL 19.828125 64.59375 \r\nL 19.828125 46.734375 \r\nQ 21.96875 47.46875 24.109375 47.828125 \r\nQ 26.265625 48.1875 28.421875 48.1875 \r\nQ 40.625 48.1875 47.75 41.5 \r\nQ 54.890625 34.8125 54.890625 23.390625 \r\nQ 54.890625 11.625 47.5625 5.09375 \r\nQ 40.234375 -1.421875 26.90625 -1.421875 \r\nQ 22.3125 -1.421875 17.546875 -0.640625 \r\nQ 12.796875 0.140625 7.71875 1.703125 \r\nL 7.71875 11.625 \r\nQ 12.109375 9.234375 16.796875 8.0625 \r\nQ 21.484375 6.890625 26.703125 6.890625 \r\nQ 35.15625 6.890625 40.078125 11.328125 \r\nQ 45.015625 15.765625 45.015625 23.390625 \r\nQ 45.015625 31 40.078125 35.4375 \r\nQ 35.15625 39.890625 26.703125 39.890625 \r\nQ 22.75 39.890625 18.8125 39.015625 \r\nQ 14.890625 38.140625 10.796875 36.28125 \r\nz\r\n\" id=\"DejaVuSans-53\"/>\r\n       </defs>\r\n       <use xlink:href=\"#DejaVuSans-8722\"/>\r\n       <use x=\"83.789062\" xlink:href=\"#DejaVuSans-53\"/>\r\n      </g>\r\n     </g>\r\n    </g>\r\n    <g id=\"xtick_2\">\r\n     <g id=\"line2d_2\">\r\n      <g>\r\n       <use style=\"stroke:#000000;stroke-width:0.8;\" x=\"187.618421\" xlink:href=\"#mf3845ebc65\" y=\"224.64\"/>\r\n      </g>\r\n     </g>\r\n     <g id=\"text_2\">\r\n      <!-- 0 -->\r\n      <g transform=\"translate(184.437171 239.238437)scale(0.1 -0.1)\">\r\n       <defs>\r\n        <path d=\"M 31.78125 66.40625 \r\nQ 24.171875 66.40625 20.328125 58.90625 \r\nQ 16.5 51.421875 16.5 36.375 \r\nQ 16.5 21.390625 20.328125 13.890625 \r\nQ 24.171875 6.390625 31.78125 6.390625 \r\nQ 39.453125 6.390625 43.28125 13.890625 \r\nQ 47.125 21.390625 47.125 36.375 \r\nQ 47.125 51.421875 43.28125 58.90625 \r\nQ 39.453125 66.40625 31.78125 66.40625 \r\nz\r\nM 31.78125 74.21875 \r\nQ 44.046875 74.21875 50.515625 64.515625 \r\nQ 56.984375 54.828125 56.984375 36.375 \r\nQ 56.984375 17.96875 50.515625 8.265625 \r\nQ 44.046875 -1.421875 31.78125 -1.421875 \r\nQ 19.53125 -1.421875 13.0625 8.265625 \r\nQ 6.59375 17.96875 6.59375 36.375 \r\nQ 6.59375 54.828125 13.0625 64.515625 \r\nQ 19.53125 74.21875 31.78125 74.21875 \r\nz\r\n\" id=\"DejaVuSans-48\"/>\r\n       </defs>\r\n       <use xlink:href=\"#DejaVuSans-48\"/>\r\n      </g>\r\n     </g>\r\n    </g>\r\n    <g id=\"xtick_3\">\r\n     <g id=\"line2d_3\">\r\n      <g>\r\n       <use style=\"stroke:#000000;stroke-width:0.8;\" x=\"258.771509\" xlink:href=\"#mf3845ebc65\" y=\"224.64\"/>\r\n      </g>\r\n     </g>\r\n     <g id=\"text_3\">\r\n      <!-- 5 -->\r\n      <g transform=\"translate(255.590259 239.238437)scale(0.1 -0.1)\">\r\n       <use xlink:href=\"#DejaVuSans-53\"/>\r\n      </g>\r\n     </g>\r\n    </g>\r\n    <g id=\"xtick_4\">\r\n     <g id=\"line2d_4\">\r\n      <g>\r\n       <use style=\"stroke:#000000;stroke-width:0.8;\" x=\"329.924598\" xlink:href=\"#mf3845ebc65\" y=\"224.64\"/>\r\n      </g>\r\n     </g>\r\n     <g id=\"text_4\">\r\n      <!-- 10 -->\r\n      <g transform=\"translate(323.562098 239.238437)scale(0.1 -0.1)\">\r\n       <defs>\r\n        <path d=\"M 12.40625 8.296875 \r\nL 28.515625 8.296875 \r\nL 28.515625 63.921875 \r\nL 10.984375 60.40625 \r\nL 10.984375 69.390625 \r\nL 28.421875 72.90625 \r\nL 38.28125 72.90625 \r\nL 38.28125 8.296875 \r\nL 54.390625 8.296875 \r\nL 54.390625 0 \r\nL 12.40625 0 \r\nz\r\n\" id=\"DejaVuSans-49\"/>\r\n       </defs>\r\n       <use xlink:href=\"#DejaVuSans-49\"/>\r\n       <use x=\"63.623047\" xlink:href=\"#DejaVuSans-48\"/>\r\n      </g>\r\n     </g>\r\n    </g>\r\n   </g>\r\n   <g id=\"matplotlib.axis_2\">\r\n    <g id=\"ytick_1\">\r\n     <g id=\"line2d_5\">\r\n      <defs>\r\n       <path d=\"M 0 0 \r\nL -3.5 0 \r\n\" id=\"m1f0ccd5bdc\" style=\"stroke:#000000;stroke-width:0.8;\"/>\r\n      </defs>\r\n      <g>\r\n       <use style=\"stroke:#000000;stroke-width:0.8;\" x=\"46.0125\" xlink:href=\"#m1f0ccd5bdc\" y=\"224.64\"/>\r\n      </g>\r\n     </g>\r\n     <g id=\"text_5\">\r\n      <!-- 0 -->\r\n      <g transform=\"translate(32.65 228.439219)scale(0.1 -0.1)\">\r\n       <use xlink:href=\"#DejaVuSans-48\"/>\r\n      </g>\r\n     </g>\r\n    </g>\r\n    <g id=\"ytick_2\">\r\n     <g id=\"line2d_6\">\r\n      <g>\r\n       <use style=\"stroke:#000000;stroke-width:0.8;\" x=\"46.0125\" xlink:href=\"#m1f0ccd5bdc\" y=\"191.946729\"/>\r\n      </g>\r\n     </g>\r\n     <g id=\"text_6\">\r\n      <!-- 5000 -->\r\n      <g transform=\"translate(13.5625 195.745948)scale(0.1 -0.1)\">\r\n       <use xlink:href=\"#DejaVuSans-53\"/>\r\n       <use x=\"63.623047\" xlink:href=\"#DejaVuSans-48\"/>\r\n       <use x=\"127.246094\" xlink:href=\"#DejaVuSans-48\"/>\r\n       <use x=\"190.869141\" xlink:href=\"#DejaVuSans-48\"/>\r\n      </g>\r\n     </g>\r\n    </g>\r\n    <g id=\"ytick_3\">\r\n     <g id=\"line2d_7\">\r\n      <g>\r\n       <use style=\"stroke:#000000;stroke-width:0.8;\" x=\"46.0125\" xlink:href=\"#m1f0ccd5bdc\" y=\"159.253459\"/>\r\n      </g>\r\n     </g>\r\n     <g id=\"text_7\">\r\n      <!-- 10000 -->\r\n      <g transform=\"translate(7.2 163.052678)scale(0.1 -0.1)\">\r\n       <use xlink:href=\"#DejaVuSans-49\"/>\r\n       <use x=\"63.623047\" xlink:href=\"#DejaVuSans-48\"/>\r\n       <use x=\"127.246094\" xlink:href=\"#DejaVuSans-48\"/>\r\n       <use x=\"190.869141\" xlink:href=\"#DejaVuSans-48\"/>\r\n       <use x=\"254.492188\" xlink:href=\"#DejaVuSans-48\"/>\r\n      </g>\r\n     </g>\r\n    </g>\r\n    <g id=\"ytick_4\">\r\n     <g id=\"line2d_8\">\r\n      <g>\r\n       <use style=\"stroke:#000000;stroke-width:0.8;\" x=\"46.0125\" xlink:href=\"#m1f0ccd5bdc\" y=\"126.560188\"/>\r\n      </g>\r\n     </g>\r\n     <g id=\"text_8\">\r\n      <!-- 15000 -->\r\n      <g transform=\"translate(7.2 130.359407)scale(0.1 -0.1)\">\r\n       <use xlink:href=\"#DejaVuSans-49\"/>\r\n       <use x=\"63.623047\" xlink:href=\"#DejaVuSans-53\"/>\r\n       <use x=\"127.246094\" xlink:href=\"#DejaVuSans-48\"/>\r\n       <use x=\"190.869141\" xlink:href=\"#DejaVuSans-48\"/>\r\n       <use x=\"254.492188\" xlink:href=\"#DejaVuSans-48\"/>\r\n      </g>\r\n     </g>\r\n    </g>\r\n    <g id=\"ytick_5\">\r\n     <g id=\"line2d_9\">\r\n      <g>\r\n       <use style=\"stroke:#000000;stroke-width:0.8;\" x=\"46.0125\" xlink:href=\"#m1f0ccd5bdc\" y=\"93.866918\"/>\r\n      </g>\r\n     </g>\r\n     <g id=\"text_9\">\r\n      <!-- 20000 -->\r\n      <g transform=\"translate(7.2 97.666137)scale(0.1 -0.1)\">\r\n       <defs>\r\n        <path d=\"M 19.1875 8.296875 \r\nL 53.609375 8.296875 \r\nL 53.609375 0 \r\nL 7.328125 0 \r\nL 7.328125 8.296875 \r\nQ 12.9375 14.109375 22.625 23.890625 \r\nQ 32.328125 33.6875 34.8125 36.53125 \r\nQ 39.546875 41.84375 41.421875 45.53125 \r\nQ 43.3125 49.21875 43.3125 52.78125 \r\nQ 43.3125 58.59375 39.234375 62.25 \r\nQ 35.15625 65.921875 28.609375 65.921875 \r\nQ 23.96875 65.921875 18.8125 64.3125 \r\nQ 13.671875 62.703125 7.8125 59.421875 \r\nL 7.8125 69.390625 \r\nQ 13.765625 71.78125 18.9375 73 \r\nQ 24.125 74.21875 28.421875 74.21875 \r\nQ 39.75 74.21875 46.484375 68.546875 \r\nQ 53.21875 62.890625 53.21875 53.421875 \r\nQ 53.21875 48.921875 51.53125 44.890625 \r\nQ 49.859375 40.875 45.40625 35.40625 \r\nQ 44.1875 33.984375 37.640625 27.21875 \r\nQ 31.109375 20.453125 19.1875 8.296875 \r\nz\r\n\" id=\"DejaVuSans-50\"/>\r\n       </defs>\r\n       <use xlink:href=\"#DejaVuSans-50\"/>\r\n       <use x=\"63.623047\" xlink:href=\"#DejaVuSans-48\"/>\r\n       <use x=\"127.246094\" xlink:href=\"#DejaVuSans-48\"/>\r\n       <use x=\"190.869141\" xlink:href=\"#DejaVuSans-48\"/>\r\n       <use x=\"254.492188\" xlink:href=\"#DejaVuSans-48\"/>\r\n      </g>\r\n     </g>\r\n    </g>\r\n    <g id=\"ytick_6\">\r\n     <g id=\"line2d_10\">\r\n      <g>\r\n       <use style=\"stroke:#000000;stroke-width:0.8;\" x=\"46.0125\" xlink:href=\"#m1f0ccd5bdc\" y=\"61.173647\"/>\r\n      </g>\r\n     </g>\r\n     <g id=\"text_10\">\r\n      <!-- 25000 -->\r\n      <g transform=\"translate(7.2 64.972866)scale(0.1 -0.1)\">\r\n       <use xlink:href=\"#DejaVuSans-50\"/>\r\n       <use x=\"63.623047\" xlink:href=\"#DejaVuSans-53\"/>\r\n       <use x=\"127.246094\" xlink:href=\"#DejaVuSans-48\"/>\r\n       <use x=\"190.869141\" xlink:href=\"#DejaVuSans-48\"/>\r\n       <use x=\"254.492188\" xlink:href=\"#DejaVuSans-48\"/>\r\n      </g>\r\n     </g>\r\n    </g>\r\n    <g id=\"ytick_7\">\r\n     <g id=\"line2d_11\">\r\n      <g>\r\n       <use style=\"stroke:#000000;stroke-width:0.8;\" x=\"46.0125\" xlink:href=\"#m1f0ccd5bdc\" y=\"28.480377\"/>\r\n      </g>\r\n     </g>\r\n     <g id=\"text_11\">\r\n      <!-- 30000 -->\r\n      <g transform=\"translate(7.2 32.279595)scale(0.1 -0.1)\">\r\n       <defs>\r\n        <path d=\"M 40.578125 39.3125 \r\nQ 47.65625 37.796875 51.625 33 \r\nQ 55.609375 28.21875 55.609375 21.1875 \r\nQ 55.609375 10.40625 48.1875 4.484375 \r\nQ 40.765625 -1.421875 27.09375 -1.421875 \r\nQ 22.515625 -1.421875 17.65625 -0.515625 \r\nQ 12.796875 0.390625 7.625 2.203125 \r\nL 7.625 11.71875 \r\nQ 11.71875 9.328125 16.59375 8.109375 \r\nQ 21.484375 6.890625 26.8125 6.890625 \r\nQ 36.078125 6.890625 40.9375 10.546875 \r\nQ 45.796875 14.203125 45.796875 21.1875 \r\nQ 45.796875 27.640625 41.28125 31.265625 \r\nQ 36.765625 34.90625 28.71875 34.90625 \r\nL 20.21875 34.90625 \r\nL 20.21875 43.015625 \r\nL 29.109375 43.015625 \r\nQ 36.375 43.015625 40.234375 45.921875 \r\nQ 44.09375 48.828125 44.09375 54.296875 \r\nQ 44.09375 59.90625 40.109375 62.90625 \r\nQ 36.140625 65.921875 28.71875 65.921875 \r\nQ 24.65625 65.921875 20.015625 65.03125 \r\nQ 15.375 64.15625 9.8125 62.3125 \r\nL 9.8125 71.09375 \r\nQ 15.4375 72.65625 20.34375 73.4375 \r\nQ 25.25 74.21875 29.59375 74.21875 \r\nQ 40.828125 74.21875 47.359375 69.109375 \r\nQ 53.90625 64.015625 53.90625 55.328125 \r\nQ 53.90625 49.265625 50.4375 45.09375 \r\nQ 46.96875 40.921875 40.578125 39.3125 \r\nz\r\n\" id=\"DejaVuSans-51\"/>\r\n       </defs>\r\n       <use xlink:href=\"#DejaVuSans-51\"/>\r\n       <use x=\"63.623047\" xlink:href=\"#DejaVuSans-48\"/>\r\n       <use x=\"127.246094\" xlink:href=\"#DejaVuSans-48\"/>\r\n       <use x=\"190.869141\" xlink:href=\"#DejaVuSans-48\"/>\r\n       <use x=\"254.492188\" xlink:href=\"#DejaVuSans-48\"/>\r\n      </g>\r\n     </g>\r\n    </g>\r\n   </g>\r\n   <g id=\"patch_13\">\r\n    <path d=\"M 46.0125 224.64 \r\nL 46.0125 7.2 \r\n\" style=\"fill:none;stroke:#000000;stroke-linecap:square;stroke-linejoin:miter;stroke-width:0.8;\"/>\r\n   </g>\r\n   <g id=\"patch_14\">\r\n    <path d=\"M 380.8125 224.64 \r\nL 380.8125 7.2 \r\n\" style=\"fill:none;stroke:#000000;stroke-linecap:square;stroke-linejoin:miter;stroke-width:0.8;\"/>\r\n   </g>\r\n   <g id=\"patch_15\">\r\n    <path d=\"M 46.0125 224.64 \r\nL 380.8125 224.64 \r\n\" style=\"fill:none;stroke:#000000;stroke-linecap:square;stroke-linejoin:miter;stroke-width:0.8;\"/>\r\n   </g>\r\n   <g id=\"patch_16\">\r\n    <path d=\"M 46.0125 7.2 \r\nL 380.8125 7.2 \r\n\" style=\"fill:none;stroke:#000000;stroke-linecap:square;stroke-linejoin:miter;stroke-width:0.8;\"/>\r\n   </g>\r\n  </g>\r\n </g>\r\n <defs>\r\n  <clipPath id=\"p1fe344dbc6\">\r\n   <rect height=\"217.44\" width=\"334.8\" x=\"46.0125\" y=\"7.2\"/>\r\n  </clipPath>\r\n </defs>\r\n</svg>\r\n",
      "image/png": "[encoded data removed]"
     },
     "metadata": {
      "needs_background": "light"
     }
    }
   ],
   "source": [
    "plt.hist(dummy['B'])"
   ]
  },
  {
   "cell_type": "code",
   "execution_count": 51,
   "metadata": {},
   "outputs": [
    {
     "output_type": "execute_result",
     "data": {
      "text/plain": [
       "(array([ 9940., 10008., 10048.,  9897., 10060., 10084., 10027., 10148.,\n",
       "         9741., 10047.]),\n",
       " array([ 5.00023595,  7.70019328, 10.40015062, 13.10010795, 15.80006528,\n",
       "        18.50002261, 21.19997994, 23.89993728, 26.59989461, 29.29985194,\n",
       "        31.99980927]),\n",
       " <BarContainer object of 10 artists>)"
      ]
     },
     "metadata": {},
     "execution_count": 51
    },
    {
     "output_type": "display_data",
     "data": {
      "text/plain": "<Figure size 432x288 with 1 Axes>",
      "image/svg+xml": "<?xml version=\"1.0\" encoding=\"utf-8\" standalone=\"no\"?>\r\n<!DOCTYPE svg PUBLIC \"-//W3C//DTD SVG 1.1//EN\"\r\n  \"http://www.w3.org/Graphics/SVG/1.1/DTD/svg11.dtd\">\r\n<!-- Created with matplotlib (https://matplotlib.org/) -->\r\n<svg height=\"248.518125pt\" version=\"1.1\" viewBox=\"0 0 388.0125 248.518125\" width=\"388.0125pt\" xmlns=\"http://www.w3.org/2000/svg\" xmlns:xlink=\"http://www.w3.org/1999/xlink\">\r\n <metadata>\r\n  <rdf:RDF xmlns:cc=\"http://creativecommons.org/ns#\" xmlns:dc=\"http://purl.org/dc/elements/1.1/\" xmlns:rdf=\"http://www.w3.org/1999/02/22-rdf-syntax-ns#\">\r\n   <cc:Work>\r\n    <dc:type rdf:resource=\"http://purl.org/dc/dcmitype/StillImage\"/>\r\n    <dc:date>2021-02-02T11:36:36.805555</dc:date>\r\n    <dc:format>image/svg+xml</dc:format>\r\n    <dc:creator>\r\n     <cc:Agent>\r\n      <dc:title>Matplotlib v3.3.3, https://matplotlib.org/</dc:title>\r\n     </cc:Agent>\r\n    </dc:creator>\r\n   </cc:Work>\r\n  </rdf:RDF>\r\n </metadata>\r\n <defs>\r\n  <style type=\"text/css\">*{stroke-linecap:butt;stroke-linejoin:round;}</style>\r\n </defs>\r\n <g id=\"figure_1\">\r\n  <g id=\"patch_1\">\r\n   <path d=\"M 0 248.518125 \r\nL 388.0125 248.518125 \r\nL 388.0125 0 \r\nL 0 0 \r\nz\r\n\" style=\"fill:none;\"/>\r\n  </g>\r\n  <g id=\"axes_1\">\r\n   <g id=\"patch_2\">\r\n    <path d=\"M 46.0125 224.64 \r\nL 380.8125 224.64 \r\nL 380.8125 7.2 \r\nL 46.0125 7.2 \r\nz\r\n\" style=\"fill:#ffffff;\"/>\r\n   </g>\r\n   <g id=\"patch_3\">\r\n    <path clip-path=\"url(#pa731e7d192)\" d=\"M 61.230682 224.64 \r\nL 91.667045 224.64 \r\nL 91.667045 21.798849 \r\nL 61.230682 21.798849 \r\nz\r\n\" style=\"fill:#1f77b4;\"/>\r\n   </g>\r\n   <g id=\"patch_4\">\r\n    <path clip-path=\"url(#pa731e7d192)\" d=\"M 91.667045 224.64 \r\nL 122.103409 224.64 \r\nL 122.103409 20.411203 \r\nL 91.667045 20.411203 \r\nz\r\n\" style=\"fill:#1f77b4;\"/>\r\n   </g>\r\n   <g id=\"patch_5\">\r\n    <path clip-path=\"url(#pa731e7d192)\" d=\"M 122.103409 224.64 \r\nL 152.539773 224.64 \r\nL 152.539773 19.594941 \r\nL 122.103409 19.594941 \r\nz\r\n\" style=\"fill:#1f77b4;\"/>\r\n   </g>\r\n   <g id=\"patch_6\">\r\n    <path clip-path=\"url(#pa731e7d192)\" d=\"M 152.539773 224.64 \r\nL 182.976136 224.64 \r\nL 182.976136 22.676331 \r\nL 152.539773 22.676331 \r\nz\r\n\" style=\"fill:#1f77b4;\"/>\r\n   </g>\r\n   <g id=\"patch_7\">\r\n    <path clip-path=\"url(#pa731e7d192)\" d=\"M 182.976136 224.64 \r\nL 213.4125 224.64 \r\nL 213.4125 19.350063 \r\nL 182.976136 19.350063 \r\nz\r\n\" style=\"fill:#1f77b4;\"/>\r\n   </g>\r\n   <g id=\"patch_8\">\r\n    <path clip-path=\"url(#pa731e7d192)\" d=\"M 213.4125 224.64 \r\nL 243.848864 224.64 \r\nL 243.848864 18.860305 \r\nL 213.4125 18.860305 \r\nz\r\n\" style=\"fill:#1f77b4;\"/>\r\n   </g>\r\n   <g id=\"patch_9\">\r\n    <path clip-path=\"url(#pa731e7d192)\" d=\"M 243.848864 224.64 \r\nL 274.285227 224.64 \r\nL 274.285227 20.023479 \r\nL 243.848864 20.023479 \r\nz\r\n\" style=\"fill:#1f77b4;\"/>\r\n   </g>\r\n   <g id=\"patch_10\">\r\n    <path clip-path=\"url(#pa731e7d192)\" d=\"M 274.285227 224.64 \r\nL 304.721591 224.64 \r\nL 304.721591 17.554286 \r\nL 274.285227 17.554286 \r\nz\r\n\" style=\"fill:#1f77b4;\"/>\r\n   </g>\r\n   <g id=\"patch_11\">\r\n    <path clip-path=\"url(#pa731e7d192)\" d=\"M 304.721591 224.64 \r\nL 335.157955 224.64 \r\nL 335.157955 25.859753 \r\nL 304.721591 25.859753 \r\nz\r\n\" style=\"fill:#1f77b4;\"/>\r\n   </g>\r\n   <g id=\"patch_12\">\r\n    <path clip-path=\"url(#pa731e7d192)\" d=\"M 335.157955 224.64 \r\nL 365.594318 224.64 \r\nL 365.594318 19.615348 \r\nL 335.157955 19.615348 \r\nz\r\n\" style=\"fill:#1f77b4;\"/>\r\n   </g>\r\n   <g id=\"matplotlib.axis_1\">\r\n    <g id=\"xtick_1\">\r\n     <g id=\"line2d_1\">\r\n      <defs>\r\n       <path d=\"M 0 0 \r\nL 0 3.5 \r\n\" id=\"m7a58a157ee\" style=\"stroke:#000000;stroke-width:0.8;\"/>\r\n      </defs>\r\n      <g>\r\n       <use style=\"stroke:#000000;stroke-width:0.8;\" x=\"61.228022\" xlink:href=\"#m7a58a157ee\" y=\"224.64\"/>\r\n      </g>\r\n     </g>\r\n     <g id=\"text_1\">\r\n      <!-- 5 -->\r\n      <g transform=\"translate(58.046772 239.238438)scale(0.1 -0.1)\">\r\n       <defs>\r\n        <path d=\"M 10.796875 72.90625 \r\nL 49.515625 72.90625 \r\nL 49.515625 64.59375 \r\nL 19.828125 64.59375 \r\nL 19.828125 46.734375 \r\nQ 21.96875 47.46875 24.109375 47.828125 \r\nQ 26.265625 48.1875 28.421875 48.1875 \r\nQ 40.625 48.1875 47.75 41.5 \r\nQ 54.890625 34.8125 54.890625 23.390625 \r\nQ 54.890625 11.625 47.5625 5.09375 \r\nQ 40.234375 -1.421875 26.90625 -1.421875 \r\nQ 22.3125 -1.421875 17.546875 -0.640625 \r\nQ 12.796875 0.140625 7.71875 1.703125 \r\nL 7.71875 11.625 \r\nQ 12.109375 9.234375 16.796875 8.0625 \r\nQ 21.484375 6.890625 26.703125 6.890625 \r\nQ 35.15625 6.890625 40.078125 11.328125 \r\nQ 45.015625 15.765625 45.015625 23.390625 \r\nQ 45.015625 31 40.078125 35.4375 \r\nQ 35.15625 39.890625 26.703125 39.890625 \r\nQ 22.75 39.890625 18.8125 39.015625 \r\nQ 14.890625 38.140625 10.796875 36.28125 \r\nz\r\n\" id=\"DejaVuSans-53\"/>\r\n       </defs>\r\n       <use xlink:href=\"#DejaVuSans-53\"/>\r\n      </g>\r\n     </g>\r\n    </g>\r\n    <g id=\"xtick_2\">\r\n     <g id=\"line2d_2\">\r\n      <g>\r\n       <use style=\"stroke:#000000;stroke-width:0.8;\" x=\"117.592549\" xlink:href=\"#m7a58a157ee\" y=\"224.64\"/>\r\n      </g>\r\n     </g>\r\n     <g id=\"text_2\">\r\n      <!-- 10 -->\r\n      <g transform=\"translate(111.230049 239.238438)scale(0.1 -0.1)\">\r\n       <defs>\r\n        <path d=\"M 12.40625 8.296875 \r\nL 28.515625 8.296875 \r\nL 28.515625 63.921875 \r\nL 10.984375 60.40625 \r\nL 10.984375 69.390625 \r\nL 28.421875 72.90625 \r\nL 38.28125 72.90625 \r\nL 38.28125 8.296875 \r\nL 54.390625 8.296875 \r\nL 54.390625 0 \r\nL 12.40625 0 \r\nz\r\n\" id=\"DejaVuSans-49\"/>\r\n        <path d=\"M 31.78125 66.40625 \r\nQ 24.171875 66.40625 20.328125 58.90625 \r\nQ 16.5 51.421875 16.5 36.375 \r\nQ 16.5 21.390625 20.328125 13.890625 \r\nQ 24.171875 6.390625 31.78125 6.390625 \r\nQ 39.453125 6.390625 43.28125 13.890625 \r\nQ 47.125 21.390625 47.125 36.375 \r\nQ 47.125 51.421875 43.28125 58.90625 \r\nQ 39.453125 66.40625 31.78125 66.40625 \r\nz\r\nM 31.78125 74.21875 \r\nQ 44.046875 74.21875 50.515625 64.515625 \r\nQ 56.984375 54.828125 56.984375 36.375 \r\nQ 56.984375 17.96875 50.515625 8.265625 \r\nQ 44.046875 -1.421875 31.78125 -1.421875 \r\nQ 19.53125 -1.421875 13.0625 8.265625 \r\nQ 6.59375 17.96875 6.59375 36.375 \r\nQ 6.59375 54.828125 13.0625 64.515625 \r\nQ 19.53125 74.21875 31.78125 74.21875 \r\nz\r\n\" id=\"DejaVuSans-48\"/>\r\n       </defs>\r\n       <use xlink:href=\"#DejaVuSans-49\"/>\r\n       <use x=\"63.623047\" xlink:href=\"#DejaVuSans-48\"/>\r\n      </g>\r\n     </g>\r\n    </g>\r\n    <g id=\"xtick_3\">\r\n     <g id=\"line2d_3\">\r\n      <g>\r\n       <use style=\"stroke:#000000;stroke-width:0.8;\" x=\"173.957076\" xlink:href=\"#m7a58a157ee\" y=\"224.64\"/>\r\n      </g>\r\n     </g>\r\n     <g id=\"text_3\">\r\n      <!-- 15 -->\r\n      <g transform=\"translate(167.594576 239.238438)scale(0.1 -0.1)\">\r\n       <use xlink:href=\"#DejaVuSans-49\"/>\r\n       <use x=\"63.623047\" xlink:href=\"#DejaVuSans-53\"/>\r\n      </g>\r\n     </g>\r\n    </g>\r\n    <g id=\"xtick_4\">\r\n     <g id=\"line2d_4\">\r\n      <g>\r\n       <use style=\"stroke:#000000;stroke-width:0.8;\" x=\"230.321603\" xlink:href=\"#m7a58a157ee\" y=\"224.64\"/>\r\n      </g>\r\n     </g>\r\n     <g id=\"text_4\">\r\n      <!-- 20 -->\r\n      <g transform=\"translate(223.959103 239.238438)scale(0.1 -0.1)\">\r\n       <defs>\r\n        <path d=\"M 19.1875 8.296875 \r\nL 53.609375 8.296875 \r\nL 53.609375 0 \r\nL 7.328125 0 \r\nL 7.328125 8.296875 \r\nQ 12.9375 14.109375 22.625 23.890625 \r\nQ 32.328125 33.6875 34.8125 36.53125 \r\nQ 39.546875 41.84375 41.421875 45.53125 \r\nQ 43.3125 49.21875 43.3125 52.78125 \r\nQ 43.3125 58.59375 39.234375 62.25 \r\nQ 35.15625 65.921875 28.609375 65.921875 \r\nQ 23.96875 65.921875 18.8125 64.3125 \r\nQ 13.671875 62.703125 7.8125 59.421875 \r\nL 7.8125 69.390625 \r\nQ 13.765625 71.78125 18.9375 73 \r\nQ 24.125 74.21875 28.421875 74.21875 \r\nQ 39.75 74.21875 46.484375 68.546875 \r\nQ 53.21875 62.890625 53.21875 53.421875 \r\nQ 53.21875 48.921875 51.53125 44.890625 \r\nQ 49.859375 40.875 45.40625 35.40625 \r\nQ 44.1875 33.984375 37.640625 27.21875 \r\nQ 31.109375 20.453125 19.1875 8.296875 \r\nz\r\n\" id=\"DejaVuSans-50\"/>\r\n       </defs>\r\n       <use xlink:href=\"#DejaVuSans-50\"/>\r\n       <use x=\"63.623047\" xlink:href=\"#DejaVuSans-48\"/>\r\n      </g>\r\n     </g>\r\n    </g>\r\n    <g id=\"xtick_5\">\r\n     <g id=\"line2d_5\">\r\n      <g>\r\n       <use style=\"stroke:#000000;stroke-width:0.8;\" x=\"286.68613\" xlink:href=\"#m7a58a157ee\" y=\"224.64\"/>\r\n      </g>\r\n     </g>\r\n     <g id=\"text_5\">\r\n      <!-- 25 -->\r\n      <g transform=\"translate(280.32363 239.238438)scale(0.1 -0.1)\">\r\n       <use xlink:href=\"#DejaVuSans-50\"/>\r\n       <use x=\"63.623047\" xlink:href=\"#DejaVuSans-53\"/>\r\n      </g>\r\n     </g>\r\n    </g>\r\n    <g id=\"xtick_6\">\r\n     <g id=\"line2d_6\">\r\n      <g>\r\n       <use style=\"stroke:#000000;stroke-width:0.8;\" x=\"343.050657\" xlink:href=\"#m7a58a157ee\" y=\"224.64\"/>\r\n      </g>\r\n     </g>\r\n     <g id=\"text_6\">\r\n      <!-- 30 -->\r\n      <g transform=\"translate(336.688157 239.238438)scale(0.1 -0.1)\">\r\n       <defs>\r\n        <path d=\"M 40.578125 39.3125 \r\nQ 47.65625 37.796875 51.625 33 \r\nQ 55.609375 28.21875 55.609375 21.1875 \r\nQ 55.609375 10.40625 48.1875 4.484375 \r\nQ 40.765625 -1.421875 27.09375 -1.421875 \r\nQ 22.515625 -1.421875 17.65625 -0.515625 \r\nQ 12.796875 0.390625 7.625 2.203125 \r\nL 7.625 11.71875 \r\nQ 11.71875 9.328125 16.59375 8.109375 \r\nQ 21.484375 6.890625 26.8125 6.890625 \r\nQ 36.078125 6.890625 40.9375 10.546875 \r\nQ 45.796875 14.203125 45.796875 21.1875 \r\nQ 45.796875 27.640625 41.28125 31.265625 \r\nQ 36.765625 34.90625 28.71875 34.90625 \r\nL 20.21875 34.90625 \r\nL 20.21875 43.015625 \r\nL 29.109375 43.015625 \r\nQ 36.375 43.015625 40.234375 45.921875 \r\nQ 44.09375 48.828125 44.09375 54.296875 \r\nQ 44.09375 59.90625 40.109375 62.90625 \r\nQ 36.140625 65.921875 28.71875 65.921875 \r\nQ 24.65625 65.921875 20.015625 65.03125 \r\nQ 15.375 64.15625 9.8125 62.3125 \r\nL 9.8125 71.09375 \r\nQ 15.4375 72.65625 20.34375 73.4375 \r\nQ 25.25 74.21875 29.59375 74.21875 \r\nQ 40.828125 74.21875 47.359375 69.109375 \r\nQ 53.90625 64.015625 53.90625 55.328125 \r\nQ 53.90625 49.265625 50.4375 45.09375 \r\nQ 46.96875 40.921875 40.578125 39.3125 \r\nz\r\n\" id=\"DejaVuSans-51\"/>\r\n       </defs>\r\n       <use xlink:href=\"#DejaVuSans-51\"/>\r\n       <use x=\"63.623047\" xlink:href=\"#DejaVuSans-48\"/>\r\n      </g>\r\n     </g>\r\n    </g>\r\n   </g>\r\n   <g id=\"matplotlib.axis_2\">\r\n    <g id=\"ytick_1\">\r\n     <g id=\"line2d_7\">\r\n      <defs>\r\n       <path d=\"M 0 0 \r\nL -3.5 0 \r\n\" id=\"m6c82123862\" style=\"stroke:#000000;stroke-width:0.8;\"/>\r\n      </defs>\r\n      <g>\r\n       <use style=\"stroke:#000000;stroke-width:0.8;\" x=\"46.0125\" xlink:href=\"#m6c82123862\" y=\"224.64\"/>\r\n      </g>\r\n     </g>\r\n     <g id=\"text_7\">\r\n      <!-- 0 -->\r\n      <g transform=\"translate(32.65 228.439219)scale(0.1 -0.1)\">\r\n       <use xlink:href=\"#DejaVuSans-48\"/>\r\n      </g>\r\n     </g>\r\n    </g>\r\n    <g id=\"ytick_2\">\r\n     <g id=\"line2d_8\">\r\n      <g>\r\n       <use style=\"stroke:#000000;stroke-width:0.8;\" x=\"46.0125\" xlink:href=\"#m6c82123862\" y=\"183.826891\"/>\r\n      </g>\r\n     </g>\r\n     <g id=\"text_8\">\r\n      <!-- 2000 -->\r\n      <g transform=\"translate(13.5625 187.62611)scale(0.1 -0.1)\">\r\n       <use xlink:href=\"#DejaVuSans-50\"/>\r\n       <use x=\"63.623047\" xlink:href=\"#DejaVuSans-48\"/>\r\n       <use x=\"127.246094\" xlink:href=\"#DejaVuSans-48\"/>\r\n       <use x=\"190.869141\" xlink:href=\"#DejaVuSans-48\"/>\r\n      </g>\r\n     </g>\r\n    </g>\r\n    <g id=\"ytick_3\">\r\n     <g id=\"line2d_9\">\r\n      <g>\r\n       <use style=\"stroke:#000000;stroke-width:0.8;\" x=\"46.0125\" xlink:href=\"#m6c82123862\" y=\"143.013782\"/>\r\n      </g>\r\n     </g>\r\n     <g id=\"text_9\">\r\n      <!-- 4000 -->\r\n      <g transform=\"translate(13.5625 146.813001)scale(0.1 -0.1)\">\r\n       <defs>\r\n        <path d=\"M 37.796875 64.3125 \r\nL 12.890625 25.390625 \r\nL 37.796875 25.390625 \r\nz\r\nM 35.203125 72.90625 \r\nL 47.609375 72.90625 \r\nL 47.609375 25.390625 \r\nL 58.015625 25.390625 \r\nL 58.015625 17.1875 \r\nL 47.609375 17.1875 \r\nL 47.609375 0 \r\nL 37.796875 0 \r\nL 37.796875 17.1875 \r\nL 4.890625 17.1875 \r\nL 4.890625 26.703125 \r\nz\r\n\" id=\"DejaVuSans-52\"/>\r\n       </defs>\r\n       <use xlink:href=\"#DejaVuSans-52\"/>\r\n       <use x=\"63.623047\" xlink:href=\"#DejaVuSans-48\"/>\r\n       <use x=\"127.246094\" xlink:href=\"#DejaVuSans-48\"/>\r\n       <use x=\"190.869141\" xlink:href=\"#DejaVuSans-48\"/>\r\n      </g>\r\n     </g>\r\n    </g>\r\n    <g id=\"ytick_4\">\r\n     <g id=\"line2d_10\">\r\n      <g>\r\n       <use style=\"stroke:#000000;stroke-width:0.8;\" x=\"46.0125\" xlink:href=\"#m6c82123862\" y=\"102.200673\"/>\r\n      </g>\r\n     </g>\r\n     <g id=\"text_10\">\r\n      <!-- 6000 -->\r\n      <g transform=\"translate(13.5625 105.999892)scale(0.1 -0.1)\">\r\n       <defs>\r\n        <path d=\"M 33.015625 40.375 \r\nQ 26.375 40.375 22.484375 35.828125 \r\nQ 18.609375 31.296875 18.609375 23.390625 \r\nQ 18.609375 15.53125 22.484375 10.953125 \r\nQ 26.375 6.390625 33.015625 6.390625 \r\nQ 39.65625 6.390625 43.53125 10.953125 \r\nQ 47.40625 15.53125 47.40625 23.390625 \r\nQ 47.40625 31.296875 43.53125 35.828125 \r\nQ 39.65625 40.375 33.015625 40.375 \r\nz\r\nM 52.59375 71.296875 \r\nL 52.59375 62.3125 \r\nQ 48.875 64.0625 45.09375 64.984375 \r\nQ 41.3125 65.921875 37.59375 65.921875 \r\nQ 27.828125 65.921875 22.671875 59.328125 \r\nQ 17.53125 52.734375 16.796875 39.40625 \r\nQ 19.671875 43.65625 24.015625 45.921875 \r\nQ 28.375 48.1875 33.59375 48.1875 \r\nQ 44.578125 48.1875 50.953125 41.515625 \r\nQ 57.328125 34.859375 57.328125 23.390625 \r\nQ 57.328125 12.15625 50.6875 5.359375 \r\nQ 44.046875 -1.421875 33.015625 -1.421875 \r\nQ 20.359375 -1.421875 13.671875 8.265625 \r\nQ 6.984375 17.96875 6.984375 36.375 \r\nQ 6.984375 53.65625 15.1875 63.9375 \r\nQ 23.390625 74.21875 37.203125 74.21875 \r\nQ 40.921875 74.21875 44.703125 73.484375 \r\nQ 48.484375 72.75 52.59375 71.296875 \r\nz\r\n\" id=\"DejaVuSans-54\"/>\r\n       </defs>\r\n       <use xlink:href=\"#DejaVuSans-54\"/>\r\n       <use x=\"63.623047\" xlink:href=\"#DejaVuSans-48\"/>\r\n       <use x=\"127.246094\" xlink:href=\"#DejaVuSans-48\"/>\r\n       <use x=\"190.869141\" xlink:href=\"#DejaVuSans-48\"/>\r\n      </g>\r\n     </g>\r\n    </g>\r\n    <g id=\"ytick_5\">\r\n     <g id=\"line2d_11\">\r\n      <g>\r\n       <use style=\"stroke:#000000;stroke-width:0.8;\" x=\"46.0125\" xlink:href=\"#m6c82123862\" y=\"61.387565\"/>\r\n      </g>\r\n     </g>\r\n     <g id=\"text_11\">\r\n      <!-- 8000 -->\r\n      <g transform=\"translate(13.5625 65.186783)scale(0.1 -0.1)\">\r\n       <defs>\r\n        <path d=\"M 31.78125 34.625 \r\nQ 24.75 34.625 20.71875 30.859375 \r\nQ 16.703125 27.09375 16.703125 20.515625 \r\nQ 16.703125 13.921875 20.71875 10.15625 \r\nQ 24.75 6.390625 31.78125 6.390625 \r\nQ 38.8125 6.390625 42.859375 10.171875 \r\nQ 46.921875 13.96875 46.921875 20.515625 \r\nQ 46.921875 27.09375 42.890625 30.859375 \r\nQ 38.875 34.625 31.78125 34.625 \r\nz\r\nM 21.921875 38.8125 \r\nQ 15.578125 40.375 12.03125 44.71875 \r\nQ 8.5 49.078125 8.5 55.328125 \r\nQ 8.5 64.0625 14.71875 69.140625 \r\nQ 20.953125 74.21875 31.78125 74.21875 \r\nQ 42.671875 74.21875 48.875 69.140625 \r\nQ 55.078125 64.0625 55.078125 55.328125 \r\nQ 55.078125 49.078125 51.53125 44.71875 \r\nQ 48 40.375 41.703125 38.8125 \r\nQ 48.828125 37.15625 52.796875 32.3125 \r\nQ 56.78125 27.484375 56.78125 20.515625 \r\nQ 56.78125 9.90625 50.3125 4.234375 \r\nQ 43.84375 -1.421875 31.78125 -1.421875 \r\nQ 19.734375 -1.421875 13.25 4.234375 \r\nQ 6.78125 9.90625 6.78125 20.515625 \r\nQ 6.78125 27.484375 10.78125 32.3125 \r\nQ 14.796875 37.15625 21.921875 38.8125 \r\nz\r\nM 18.3125 54.390625 \r\nQ 18.3125 48.734375 21.84375 45.5625 \r\nQ 25.390625 42.390625 31.78125 42.390625 \r\nQ 38.140625 42.390625 41.71875 45.5625 \r\nQ 45.3125 48.734375 45.3125 54.390625 \r\nQ 45.3125 60.0625 41.71875 63.234375 \r\nQ 38.140625 66.40625 31.78125 66.40625 \r\nQ 25.390625 66.40625 21.84375 63.234375 \r\nQ 18.3125 60.0625 18.3125 54.390625 \r\nz\r\n\" id=\"DejaVuSans-56\"/>\r\n       </defs>\r\n       <use xlink:href=\"#DejaVuSans-56\"/>\r\n       <use x=\"63.623047\" xlink:href=\"#DejaVuSans-48\"/>\r\n       <use x=\"127.246094\" xlink:href=\"#DejaVuSans-48\"/>\r\n       <use x=\"190.869141\" xlink:href=\"#DejaVuSans-48\"/>\r\n      </g>\r\n     </g>\r\n    </g>\r\n    <g id=\"ytick_6\">\r\n     <g id=\"line2d_12\">\r\n      <g>\r\n       <use style=\"stroke:#000000;stroke-width:0.8;\" x=\"46.0125\" xlink:href=\"#m6c82123862\" y=\"20.574456\"/>\r\n      </g>\r\n     </g>\r\n     <g id=\"text_12\">\r\n      <!-- 10000 -->\r\n      <g transform=\"translate(7.2 24.373675)scale(0.1 -0.1)\">\r\n       <use xlink:href=\"#DejaVuSans-49\"/>\r\n       <use x=\"63.623047\" xlink:href=\"#DejaVuSans-48\"/>\r\n       <use x=\"127.246094\" xlink:href=\"#DejaVuSans-48\"/>\r\n       <use x=\"190.869141\" xlink:href=\"#DejaVuSans-48\"/>\r\n       <use x=\"254.492188\" xlink:href=\"#DejaVuSans-48\"/>\r\n      </g>\r\n     </g>\r\n    </g>\r\n   </g>\r\n   <g id=\"patch_13\">\r\n    <path d=\"M 46.0125 224.64 \r\nL 46.0125 7.2 \r\n\" style=\"fill:none;stroke:#000000;stroke-linecap:square;stroke-linejoin:miter;stroke-width:0.8;\"/>\r\n   </g>\r\n   <g id=\"patch_14\">\r\n    <path d=\"M 380.8125 224.64 \r\nL 380.8125 7.2 \r\n\" style=\"fill:none;stroke:#000000;stroke-linecap:square;stroke-linejoin:miter;stroke-width:0.8;\"/>\r\n   </g>\r\n   <g id=\"patch_15\">\r\n    <path d=\"M 46.0125 224.64 \r\nL 380.8125 224.64 \r\n\" style=\"fill:none;stroke:#000000;stroke-linecap:square;stroke-linejoin:miter;stroke-width:0.8;\"/>\r\n   </g>\r\n   <g id=\"patch_16\">\r\n    <path d=\"M 46.0125 7.2 \r\nL 380.8125 7.2 \r\n\" style=\"fill:none;stroke:#000000;stroke-linecap:square;stroke-linejoin:miter;stroke-width:0.8;\"/>\r\n   </g>\r\n  </g>\r\n </g>\r\n <defs>\r\n  <clipPath id=\"pa731e7d192\">\r\n   <rect height=\"217.44\" width=\"334.8\" x=\"46.0125\" y=\"7.2\"/>\r\n  </clipPath>\r\n </defs>\r\n</svg>\r\n",
      "image/png": "[encoded data removed]"
     },
     "metadata": {
      "needs_background": "light"
     }
    }
   ],
   "source": [
    "plt.hist(dummy['C'])"
   ]
  },
  {
   "cell_type": "code",
   "execution_count": 52,
   "metadata": {},
   "outputs": [
    {
     "output_type": "execute_result",
     "data": {
      "text/plain": [
       "(array([3.6700e+02, 6.3860e+03, 2.3161e+04, 3.2757e+04, 2.3639e+04,\n",
       "        1.0036e+04, 2.9420e+03, 6.0400e+02, 9.0000e+01, 1.8000e+01]),\n",
       " array([ 19.18198695,  27.55158194,  35.92117693,  44.29077192,\n",
       "         52.66036691,  61.0299619 ,  69.39955689,  77.76915188,\n",
       "         86.13874687,  94.50834186, 102.87793685]),\n",
       " <BarContainer object of 10 artists>)"
      ]
     },
     "metadata": {},
     "execution_count": 52
    },
    {
     "output_type": "display_data",
     "data": {
      "text/plain": "<Figure size 432x288 with 1 Axes>",
      "image/svg+xml": "<?xml version=\"1.0\" encoding=\"utf-8\" standalone=\"no\"?>\r\n<!DOCTYPE svg PUBLIC \"-//W3C//DTD SVG 1.1//EN\"\r\n  \"http://www.w3.org/Graphics/SVG/1.1/DTD/svg11.dtd\">\r\n<!-- Created with matplotlib (https://matplotlib.org/) -->\r\n<svg height=\"248.518125pt\" version=\"1.1\" viewBox=\"0 0 388.0125 248.518125\" width=\"388.0125pt\" xmlns=\"http://www.w3.org/2000/svg\" xmlns:xlink=\"http://www.w3.org/1999/xlink\">\r\n <metadata>\r\n  <rdf:RDF xmlns:cc=\"http://creativecommons.org/ns#\" xmlns:dc=\"http://purl.org/dc/elements/1.1/\" xmlns:rdf=\"http://www.w3.org/1999/02/22-rdf-syntax-ns#\">\r\n   <cc:Work>\r\n    <dc:type rdf:resource=\"http://purl.org/dc/dcmitype/StillImage\"/>\r\n    <dc:date>2021-02-02T11:36:36.999070</dc:date>\r\n    <dc:format>image/svg+xml</dc:format>\r\n    <dc:creator>\r\n     <cc:Agent>\r\n      <dc:title>Matplotlib v3.3.3, https://matplotlib.org/</dc:title>\r\n     </cc:Agent>\r\n    </dc:creator>\r\n   </cc:Work>\r\n  </rdf:RDF>\r\n </metadata>\r\n <defs>\r\n  <style type=\"text/css\">*{stroke-linecap:butt;stroke-linejoin:round;}</style>\r\n </defs>\r\n <g id=\"figure_1\">\r\n  <g id=\"patch_1\">\r\n   <path d=\"M 0 248.518125 \r\nL 388.0125 248.518125 \r\nL 388.0125 0 \r\nL 0 0 \r\nz\r\n\" style=\"fill:none;\"/>\r\n  </g>\r\n  <g id=\"axes_1\">\r\n   <g id=\"patch_2\">\r\n    <path d=\"M 46.0125 224.64 \r\nL 380.8125 224.64 \r\nL 380.8125 7.2 \r\nL 46.0125 7.2 \r\nz\r\n\" style=\"fill:#ffffff;\"/>\r\n   </g>\r\n   <g id=\"patch_3\">\r\n    <path clip-path=\"url(#p49d29ddf4f)\" d=\"M 61.230682 224.64 \r\nL 91.667045 224.64 \r\nL 91.667045 222.319871 \r\nL 61.230682 222.319871 \r\nz\r\n\" style=\"fill:#1f77b4;\"/>\r\n   </g>\r\n   <g id=\"patch_4\">\r\n    <path clip-path=\"url(#p49d29ddf4f)\" d=\"M 91.667045 224.64 \r\nL 122.103409 224.64 \r\nL 122.103409 184.268496 \r\nL 91.667045 184.268496 \r\nz\r\n\" style=\"fill:#1f77b4;\"/>\r\n   </g>\r\n   <g id=\"patch_5\">\r\n    <path clip-path=\"url(#p49d29ddf4f)\" d=\"M 122.103409 224.64 \r\nL 152.539773 224.64 \r\nL 152.539773 78.219014 \r\nL 122.103409 78.219014 \r\nz\r\n\" style=\"fill:#1f77b4;\"/>\r\n   </g>\r\n   <g id=\"patch_6\">\r\n    <path clip-path=\"url(#p49d29ddf4f)\" d=\"M 152.539773 224.64 \r\nL 182.976136 224.64 \r\nL 182.976136 17.554286 \r\nL 152.539773 17.554286 \r\nz\r\n\" style=\"fill:#1f77b4;\"/>\r\n   </g>\r\n   <g id=\"patch_7\">\r\n    <path clip-path=\"url(#p49d29ddf4f)\" d=\"M 182.976136 224.64 \r\nL 213.4125 224.64 \r\nL 213.4125 75.197157 \r\nL 182.976136 75.197157 \r\nz\r\n\" style=\"fill:#1f77b4;\"/>\r\n   </g>\r\n   <g id=\"patch_8\">\r\n    <path clip-path=\"url(#p49d29ddf4f)\" d=\"M 213.4125 224.64 \r\nL 243.848864 224.64 \r\nL 243.848864 161.193646 \r\nL 213.4125 161.193646 \r\nz\r\n\" style=\"fill:#1f77b4;\"/>\r\n   </g>\r\n   <g id=\"patch_9\">\r\n    <path clip-path=\"url(#p49d29ddf4f)\" d=\"M 243.848864 224.64 \r\nL 274.285227 224.64 \r\nL 274.285227 206.041039 \r\nL 243.848864 206.041039 \r\nz\r\n\" style=\"fill:#1f77b4;\"/>\r\n   </g>\r\n   <g id=\"patch_10\">\r\n    <path clip-path=\"url(#p49d29ddf4f)\" d=\"M 274.285227 224.64 \r\nL 304.721591 224.64 \r\nL 304.721591 220.821586 \r\nL 274.285227 220.821586 \r\nz\r\n\" style=\"fill:#1f77b4;\"/>\r\n   </g>\r\n   <g id=\"patch_11\">\r\n    <path clip-path=\"url(#p49d29ddf4f)\" d=\"M 304.721591 224.64 \r\nL 335.157955 224.64 \r\nL 335.157955 224.071031 \r\nL 304.721591 224.071031 \r\nz\r\n\" style=\"fill:#1f77b4;\"/>\r\n   </g>\r\n   <g id=\"patch_12\">\r\n    <path clip-path=\"url(#p49d29ddf4f)\" d=\"M 335.157955 224.64 \r\nL 365.594318 224.64 \r\nL 365.594318 224.526206 \r\nL 335.157955 224.526206 \r\nz\r\n\" style=\"fill:#1f77b4;\"/>\r\n   </g>\r\n   <g id=\"matplotlib.axis_1\">\r\n    <g id=\"xtick_1\">\r\n     <g id=\"line2d_1\">\r\n      <defs>\r\n       <path d=\"M 0 0 \r\nL 0 3.5 \r\n\" id=\"m70f7006d7c\" style=\"stroke:#000000;stroke-width:0.8;\"/>\r\n      </defs>\r\n      <g>\r\n       <use style=\"stroke:#000000;stroke-width:0.8;\" x=\"64.205419\" xlink:href=\"#m70f7006d7c\" y=\"224.64\"/>\r\n      </g>\r\n     </g>\r\n     <g id=\"text_1\">\r\n      <!-- 20 -->\r\n      <g transform=\"translate(57.842919 239.238437)scale(0.1 -0.1)\">\r\n       <defs>\r\n        <path d=\"M 19.1875 8.296875 \r\nL 53.609375 8.296875 \r\nL 53.609375 0 \r\nL 7.328125 0 \r\nL 7.328125 8.296875 \r\nQ 12.9375 14.109375 22.625 23.890625 \r\nQ 32.328125 33.6875 34.8125 36.53125 \r\nQ 39.546875 41.84375 41.421875 45.53125 \r\nQ 43.3125 49.21875 43.3125 52.78125 \r\nQ 43.3125 58.59375 39.234375 62.25 \r\nQ 35.15625 65.921875 28.609375 65.921875 \r\nQ 23.96875 65.921875 18.8125 64.3125 \r\nQ 13.671875 62.703125 7.8125 59.421875 \r\nL 7.8125 69.390625 \r\nQ 13.765625 71.78125 18.9375 73 \r\nQ 24.125 74.21875 28.421875 74.21875 \r\nQ 39.75 74.21875 46.484375 68.546875 \r\nQ 53.21875 62.890625 53.21875 53.421875 \r\nQ 53.21875 48.921875 51.53125 44.890625 \r\nQ 49.859375 40.875 45.40625 35.40625 \r\nQ 44.1875 33.984375 37.640625 27.21875 \r\nQ 31.109375 20.453125 19.1875 8.296875 \r\nz\r\n\" id=\"DejaVuSans-50\"/>\r\n        <path d=\"M 31.78125 66.40625 \r\nQ 24.171875 66.40625 20.328125 58.90625 \r\nQ 16.5 51.421875 16.5 36.375 \r\nQ 16.5 21.390625 20.328125 13.890625 \r\nQ 24.171875 6.390625 31.78125 6.390625 \r\nQ 39.453125 6.390625 43.28125 13.890625 \r\nQ 47.125 21.390625 47.125 36.375 \r\nQ 47.125 51.421875 43.28125 58.90625 \r\nQ 39.453125 66.40625 31.78125 66.40625 \r\nz\r\nM 31.78125 74.21875 \r\nQ 44.046875 74.21875 50.515625 64.515625 \r\nQ 56.984375 54.828125 56.984375 36.375 \r\nQ 56.984375 17.96875 50.515625 8.265625 \r\nQ 44.046875 -1.421875 31.78125 -1.421875 \r\nQ 19.53125 -1.421875 13.0625 8.265625 \r\nQ 6.59375 17.96875 6.59375 36.375 \r\nQ 6.59375 54.828125 13.0625 64.515625 \r\nQ 19.53125 74.21875 31.78125 74.21875 \r\nz\r\n\" id=\"DejaVuSans-48\"/>\r\n       </defs>\r\n       <use xlink:href=\"#DejaVuSans-50\"/>\r\n       <use x=\"63.623047\" xlink:href=\"#DejaVuSans-48\"/>\r\n      </g>\r\n     </g>\r\n    </g>\r\n    <g id=\"xtick_2\">\r\n     <g id=\"line2d_2\">\r\n      <g>\r\n       <use style=\"stroke:#000000;stroke-width:0.8;\" x=\"136.936211\" xlink:href=\"#m70f7006d7c\" y=\"224.64\"/>\r\n      </g>\r\n     </g>\r\n     <g id=\"text_2\">\r\n      <!-- 40 -->\r\n      <g transform=\"translate(130.573711 239.238437)scale(0.1 -0.1)\">\r\n       <defs>\r\n        <path d=\"M 37.796875 64.3125 \r\nL 12.890625 25.390625 \r\nL 37.796875 25.390625 \r\nz\r\nM 35.203125 72.90625 \r\nL 47.609375 72.90625 \r\nL 47.609375 25.390625 \r\nL 58.015625 25.390625 \r\nL 58.015625 17.1875 \r\nL 47.609375 17.1875 \r\nL 47.609375 0 \r\nL 37.796875 0 \r\nL 37.796875 17.1875 \r\nL 4.890625 17.1875 \r\nL 4.890625 26.703125 \r\nz\r\n\" id=\"DejaVuSans-52\"/>\r\n       </defs>\r\n       <use xlink:href=\"#DejaVuSans-52\"/>\r\n       <use x=\"63.623047\" xlink:href=\"#DejaVuSans-48\"/>\r\n      </g>\r\n     </g>\r\n    </g>\r\n    <g id=\"xtick_3\">\r\n     <g id=\"line2d_3\">\r\n      <g>\r\n       <use style=\"stroke:#000000;stroke-width:0.8;\" x=\"209.667003\" xlink:href=\"#m70f7006d7c\" y=\"224.64\"/>\r\n      </g>\r\n     </g>\r\n     <g id=\"text_3\">\r\n      <!-- 60 -->\r\n      <g transform=\"translate(203.304503 239.238437)scale(0.1 -0.1)\">\r\n       <defs>\r\n        <path d=\"M 33.015625 40.375 \r\nQ 26.375 40.375 22.484375 35.828125 \r\nQ 18.609375 31.296875 18.609375 23.390625 \r\nQ 18.609375 15.53125 22.484375 10.953125 \r\nQ 26.375 6.390625 33.015625 6.390625 \r\nQ 39.65625 6.390625 43.53125 10.953125 \r\nQ 47.40625 15.53125 47.40625 23.390625 \r\nQ 47.40625 31.296875 43.53125 35.828125 \r\nQ 39.65625 40.375 33.015625 40.375 \r\nz\r\nM 52.59375 71.296875 \r\nL 52.59375 62.3125 \r\nQ 48.875 64.0625 45.09375 64.984375 \r\nQ 41.3125 65.921875 37.59375 65.921875 \r\nQ 27.828125 65.921875 22.671875 59.328125 \r\nQ 17.53125 52.734375 16.796875 39.40625 \r\nQ 19.671875 43.65625 24.015625 45.921875 \r\nQ 28.375 48.1875 33.59375 48.1875 \r\nQ 44.578125 48.1875 50.953125 41.515625 \r\nQ 57.328125 34.859375 57.328125 23.390625 \r\nQ 57.328125 12.15625 50.6875 5.359375 \r\nQ 44.046875 -1.421875 33.015625 -1.421875 \r\nQ 20.359375 -1.421875 13.671875 8.265625 \r\nQ 6.984375 17.96875 6.984375 36.375 \r\nQ 6.984375 53.65625 15.1875 63.9375 \r\nQ 23.390625 74.21875 37.203125 74.21875 \r\nQ 40.921875 74.21875 44.703125 73.484375 \r\nQ 48.484375 72.75 52.59375 71.296875 \r\nz\r\n\" id=\"DejaVuSans-54\"/>\r\n       </defs>\r\n       <use xlink:href=\"#DejaVuSans-54\"/>\r\n       <use x=\"63.623047\" xlink:href=\"#DejaVuSans-48\"/>\r\n      </g>\r\n     </g>\r\n    </g>\r\n    <g id=\"xtick_4\">\r\n     <g id=\"line2d_4\">\r\n      <g>\r\n       <use style=\"stroke:#000000;stroke-width:0.8;\" x=\"282.397795\" xlink:href=\"#m70f7006d7c\" y=\"224.64\"/>\r\n      </g>\r\n     </g>\r\n     <g id=\"text_4\">\r\n      <!-- 80 -->\r\n      <g transform=\"translate(276.035295 239.238437)scale(0.1 -0.1)\">\r\n       <defs>\r\n        <path d=\"M 31.78125 34.625 \r\nQ 24.75 34.625 20.71875 30.859375 \r\nQ 16.703125 27.09375 16.703125 20.515625 \r\nQ 16.703125 13.921875 20.71875 10.15625 \r\nQ 24.75 6.390625 31.78125 6.390625 \r\nQ 38.8125 6.390625 42.859375 10.171875 \r\nQ 46.921875 13.96875 46.921875 20.515625 \r\nQ 46.921875 27.09375 42.890625 30.859375 \r\nQ 38.875 34.625 31.78125 34.625 \r\nz\r\nM 21.921875 38.8125 \r\nQ 15.578125 40.375 12.03125 44.71875 \r\nQ 8.5 49.078125 8.5 55.328125 \r\nQ 8.5 64.0625 14.71875 69.140625 \r\nQ 20.953125 74.21875 31.78125 74.21875 \r\nQ 42.671875 74.21875 48.875 69.140625 \r\nQ 55.078125 64.0625 55.078125 55.328125 \r\nQ 55.078125 49.078125 51.53125 44.71875 \r\nQ 48 40.375 41.703125 38.8125 \r\nQ 48.828125 37.15625 52.796875 32.3125 \r\nQ 56.78125 27.484375 56.78125 20.515625 \r\nQ 56.78125 9.90625 50.3125 4.234375 \r\nQ 43.84375 -1.421875 31.78125 -1.421875 \r\nQ 19.734375 -1.421875 13.25 4.234375 \r\nQ 6.78125 9.90625 6.78125 20.515625 \r\nQ 6.78125 27.484375 10.78125 32.3125 \r\nQ 14.796875 37.15625 21.921875 38.8125 \r\nz\r\nM 18.3125 54.390625 \r\nQ 18.3125 48.734375 21.84375 45.5625 \r\nQ 25.390625 42.390625 31.78125 42.390625 \r\nQ 38.140625 42.390625 41.71875 45.5625 \r\nQ 45.3125 48.734375 45.3125 54.390625 \r\nQ 45.3125 60.0625 41.71875 63.234375 \r\nQ 38.140625 66.40625 31.78125 66.40625 \r\nQ 25.390625 66.40625 21.84375 63.234375 \r\nQ 18.3125 60.0625 18.3125 54.390625 \r\nz\r\n\" id=\"DejaVuSans-56\"/>\r\n       </defs>\r\n       <use xlink:href=\"#DejaVuSans-56\"/>\r\n       <use x=\"63.623047\" xlink:href=\"#DejaVuSans-48\"/>\r\n      </g>\r\n     </g>\r\n    </g>\r\n    <g id=\"xtick_5\">\r\n     <g id=\"line2d_5\">\r\n      <g>\r\n       <use style=\"stroke:#000000;stroke-width:0.8;\" x=\"355.128587\" xlink:href=\"#m70f7006d7c\" y=\"224.64\"/>\r\n      </g>\r\n     </g>\r\n     <g id=\"text_5\">\r\n      <!-- 100 -->\r\n      <g transform=\"translate(345.584837 239.238437)scale(0.1 -0.1)\">\r\n       <defs>\r\n        <path d=\"M 12.40625 8.296875 \r\nL 28.515625 8.296875 \r\nL 28.515625 63.921875 \r\nL 10.984375 60.40625 \r\nL 10.984375 69.390625 \r\nL 28.421875 72.90625 \r\nL 38.28125 72.90625 \r\nL 38.28125 8.296875 \r\nL 54.390625 8.296875 \r\nL 54.390625 0 \r\nL 12.40625 0 \r\nz\r\n\" id=\"DejaVuSans-49\"/>\r\n       </defs>\r\n       <use xlink:href=\"#DejaVuSans-49\"/>\r\n       <use x=\"63.623047\" xlink:href=\"#DejaVuSans-48\"/>\r\n       <use x=\"127.246094\" xlink:href=\"#DejaVuSans-48\"/>\r\n      </g>\r\n     </g>\r\n    </g>\r\n   </g>\r\n   <g id=\"matplotlib.axis_2\">\r\n    <g id=\"ytick_1\">\r\n     <g id=\"line2d_6\">\r\n      <defs>\r\n       <path d=\"M 0 0 \r\nL -3.5 0 \r\n\" id=\"m340b2c1415\" style=\"stroke:#000000;stroke-width:0.8;\"/>\r\n      </defs>\r\n      <g>\r\n       <use style=\"stroke:#000000;stroke-width:0.8;\" x=\"46.0125\" xlink:href=\"#m340b2c1415\" y=\"224.64\"/>\r\n      </g>\r\n     </g>\r\n     <g id=\"text_6\">\r\n      <!-- 0 -->\r\n      <g transform=\"translate(32.65 228.439219)scale(0.1 -0.1)\">\r\n       <use xlink:href=\"#DejaVuSans-48\"/>\r\n      </g>\r\n     </g>\r\n    </g>\r\n    <g id=\"ytick_2\">\r\n     <g id=\"line2d_7\">\r\n      <g>\r\n       <use style=\"stroke:#000000;stroke-width:0.8;\" x=\"46.0125\" xlink:href=\"#m340b2c1415\" y=\"193.030617\"/>\r\n      </g>\r\n     </g>\r\n     <g id=\"text_7\">\r\n      <!-- 5000 -->\r\n      <g transform=\"translate(13.5625 196.829835)scale(0.1 -0.1)\">\r\n       <defs>\r\n        <path d=\"M 10.796875 72.90625 \r\nL 49.515625 72.90625 \r\nL 49.515625 64.59375 \r\nL 19.828125 64.59375 \r\nL 19.828125 46.734375 \r\nQ 21.96875 47.46875 24.109375 47.828125 \r\nQ 26.265625 48.1875 28.421875 48.1875 \r\nQ 40.625 48.1875 47.75 41.5 \r\nQ 54.890625 34.8125 54.890625 23.390625 \r\nQ 54.890625 11.625 47.5625 5.09375 \r\nQ 40.234375 -1.421875 26.90625 -1.421875 \r\nQ 22.3125 -1.421875 17.546875 -0.640625 \r\nQ 12.796875 0.140625 7.71875 1.703125 \r\nL 7.71875 11.625 \r\nQ 12.109375 9.234375 16.796875 8.0625 \r\nQ 21.484375 6.890625 26.703125 6.890625 \r\nQ 35.15625 6.890625 40.078125 11.328125 \r\nQ 45.015625 15.765625 45.015625 23.390625 \r\nQ 45.015625 31 40.078125 35.4375 \r\nQ 35.15625 39.890625 26.703125 39.890625 \r\nQ 22.75 39.890625 18.8125 39.015625 \r\nQ 14.890625 38.140625 10.796875 36.28125 \r\nz\r\n\" id=\"DejaVuSans-53\"/>\r\n       </defs>\r\n       <use xlink:href=\"#DejaVuSans-53\"/>\r\n       <use x=\"63.623047\" xlink:href=\"#DejaVuSans-48\"/>\r\n       <use x=\"127.246094\" xlink:href=\"#DejaVuSans-48\"/>\r\n       <use x=\"190.869141\" xlink:href=\"#DejaVuSans-48\"/>\r\n      </g>\r\n     </g>\r\n    </g>\r\n    <g id=\"ytick_3\">\r\n     <g id=\"line2d_8\">\r\n      <g>\r\n       <use style=\"stroke:#000000;stroke-width:0.8;\" x=\"46.0125\" xlink:href=\"#m340b2c1415\" y=\"161.421233\"/>\r\n      </g>\r\n     </g>\r\n     <g id=\"text_8\">\r\n      <!-- 10000 -->\r\n      <g transform=\"translate(7.2 165.220452)scale(0.1 -0.1)\">\r\n       <use xlink:href=\"#DejaVuSans-49\"/>\r\n       <use x=\"63.623047\" xlink:href=\"#DejaVuSans-48\"/>\r\n       <use x=\"127.246094\" xlink:href=\"#DejaVuSans-48\"/>\r\n       <use x=\"190.869141\" xlink:href=\"#DejaVuSans-48\"/>\r\n       <use x=\"254.492188\" xlink:href=\"#DejaVuSans-48\"/>\r\n      </g>\r\n     </g>\r\n    </g>\r\n    <g id=\"ytick_4\">\r\n     <g id=\"line2d_9\">\r\n      <g>\r\n       <use style=\"stroke:#000000;stroke-width:0.8;\" x=\"46.0125\" xlink:href=\"#m340b2c1415\" y=\"129.81185\"/>\r\n      </g>\r\n     </g>\r\n     <g id=\"text_9\">\r\n      <!-- 15000 -->\r\n      <g transform=\"translate(7.2 133.611069)scale(0.1 -0.1)\">\r\n       <use xlink:href=\"#DejaVuSans-49\"/>\r\n       <use x=\"63.623047\" xlink:href=\"#DejaVuSans-53\"/>\r\n       <use x=\"127.246094\" xlink:href=\"#DejaVuSans-48\"/>\r\n       <use x=\"190.869141\" xlink:href=\"#DejaVuSans-48\"/>\r\n       <use x=\"254.492188\" xlink:href=\"#DejaVuSans-48\"/>\r\n      </g>\r\n     </g>\r\n    </g>\r\n    <g id=\"ytick_5\">\r\n     <g id=\"line2d_10\">\r\n      <g>\r\n       <use style=\"stroke:#000000;stroke-width:0.8;\" x=\"46.0125\" xlink:href=\"#m340b2c1415\" y=\"98.202466\"/>\r\n      </g>\r\n     </g>\r\n     <g id=\"text_10\">\r\n      <!-- 20000 -->\r\n      <g transform=\"translate(7.2 102.001685)scale(0.1 -0.1)\">\r\n       <use xlink:href=\"#DejaVuSans-50\"/>\r\n       <use x=\"63.623047\" xlink:href=\"#DejaVuSans-48\"/>\r\n       <use x=\"127.246094\" xlink:href=\"#DejaVuSans-48\"/>\r\n       <use x=\"190.869141\" xlink:href=\"#DejaVuSans-48\"/>\r\n       <use x=\"254.492188\" xlink:href=\"#DejaVuSans-48\"/>\r\n      </g>\r\n     </g>\r\n    </g>\r\n    <g id=\"ytick_6\">\r\n     <g id=\"line2d_11\">\r\n      <g>\r\n       <use style=\"stroke:#000000;stroke-width:0.8;\" x=\"46.0125\" xlink:href=\"#m340b2c1415\" y=\"66.593083\"/>\r\n      </g>\r\n     </g>\r\n     <g id=\"text_11\">\r\n      <!-- 25000 -->\r\n      <g transform=\"translate(7.2 70.392302)scale(0.1 -0.1)\">\r\n       <use xlink:href=\"#DejaVuSans-50\"/>\r\n       <use x=\"63.623047\" xlink:href=\"#DejaVuSans-53\"/>\r\n       <use x=\"127.246094\" xlink:href=\"#DejaVuSans-48\"/>\r\n       <use x=\"190.869141\" xlink:href=\"#DejaVuSans-48\"/>\r\n       <use x=\"254.492188\" xlink:href=\"#DejaVuSans-48\"/>\r\n      </g>\r\n     </g>\r\n    </g>\r\n    <g id=\"ytick_7\">\r\n     <g id=\"line2d_12\">\r\n      <g>\r\n       <use style=\"stroke:#000000;stroke-width:0.8;\" x=\"46.0125\" xlink:href=\"#m340b2c1415\" y=\"34.9837\"/>\r\n      </g>\r\n     </g>\r\n     <g id=\"text_12\">\r\n      <!-- 30000 -->\r\n      <g transform=\"translate(7.2 38.782918)scale(0.1 -0.1)\">\r\n       <defs>\r\n        <path d=\"M 40.578125 39.3125 \r\nQ 47.65625 37.796875 51.625 33 \r\nQ 55.609375 28.21875 55.609375 21.1875 \r\nQ 55.609375 10.40625 48.1875 4.484375 \r\nQ 40.765625 -1.421875 27.09375 -1.421875 \r\nQ 22.515625 -1.421875 17.65625 -0.515625 \r\nQ 12.796875 0.390625 7.625 2.203125 \r\nL 7.625 11.71875 \r\nQ 11.71875 9.328125 16.59375 8.109375 \r\nQ 21.484375 6.890625 26.8125 6.890625 \r\nQ 36.078125 6.890625 40.9375 10.546875 \r\nQ 45.796875 14.203125 45.796875 21.1875 \r\nQ 45.796875 27.640625 41.28125 31.265625 \r\nQ 36.765625 34.90625 28.71875 34.90625 \r\nL 20.21875 34.90625 \r\nL 20.21875 43.015625 \r\nL 29.109375 43.015625 \r\nQ 36.375 43.015625 40.234375 45.921875 \r\nQ 44.09375 48.828125 44.09375 54.296875 \r\nQ 44.09375 59.90625 40.109375 62.90625 \r\nQ 36.140625 65.921875 28.71875 65.921875 \r\nQ 24.65625 65.921875 20.015625 65.03125 \r\nQ 15.375 64.15625 9.8125 62.3125 \r\nL 9.8125 71.09375 \r\nQ 15.4375 72.65625 20.34375 73.4375 \r\nQ 25.25 74.21875 29.59375 74.21875 \r\nQ 40.828125 74.21875 47.359375 69.109375 \r\nQ 53.90625 64.015625 53.90625 55.328125 \r\nQ 53.90625 49.265625 50.4375 45.09375 \r\nQ 46.96875 40.921875 40.578125 39.3125 \r\nz\r\n\" id=\"DejaVuSans-51\"/>\r\n       </defs>\r\n       <use xlink:href=\"#DejaVuSans-51\"/>\r\n       <use x=\"63.623047\" xlink:href=\"#DejaVuSans-48\"/>\r\n       <use x=\"127.246094\" xlink:href=\"#DejaVuSans-48\"/>\r\n       <use x=\"190.869141\" xlink:href=\"#DejaVuSans-48\"/>\r\n       <use x=\"254.492188\" xlink:href=\"#DejaVuSans-48\"/>\r\n      </g>\r\n     </g>\r\n    </g>\r\n   </g>\r\n   <g id=\"patch_13\">\r\n    <path d=\"M 46.0125 224.64 \r\nL 46.0125 7.2 \r\n\" style=\"fill:none;stroke:#000000;stroke-linecap:square;stroke-linejoin:miter;stroke-width:0.8;\"/>\r\n   </g>\r\n   <g id=\"patch_14\">\r\n    <path d=\"M 380.8125 224.64 \r\nL 380.8125 7.2 \r\n\" style=\"fill:none;stroke:#000000;stroke-linecap:square;stroke-linejoin:miter;stroke-width:0.8;\"/>\r\n   </g>\r\n   <g id=\"patch_15\">\r\n    <path d=\"M 46.0125 224.64 \r\nL 380.8125 224.64 \r\n\" style=\"fill:none;stroke:#000000;stroke-linecap:square;stroke-linejoin:miter;stroke-width:0.8;\"/>\r\n   </g>\r\n   <g id=\"patch_16\">\r\n    <path d=\"M 46.0125 7.2 \r\nL 380.8125 7.2 \r\n\" style=\"fill:none;stroke:#000000;stroke-linecap:square;stroke-linejoin:miter;stroke-width:0.8;\"/>\r\n   </g>\r\n  </g>\r\n </g>\r\n <defs>\r\n  <clipPath id=\"p49d29ddf4f\">\r\n   <rect height=\"217.44\" width=\"334.8\" x=\"46.0125\" y=\"7.2\"/>\r\n  </clipPath>\r\n </defs>\r\n</svg>\r\n",
      "image/png": "[encoded data removed]"
     },
     "metadata": {
      "needs_background": "light"
     }
    }
   ],
   "source": [
    "plt.hist(dummy['D'])"
   ]
  },
  {
   "cell_type": "code",
   "execution_count": 53,
   "metadata": {},
   "outputs": [
    {
     "output_type": "execute_result",
     "data": {
      "text/plain": [
       "  State  Account Length  Area Code     Phone Int'l Plan VMail Plan  \\\n",
       "0    KS             128        415  382-4657         no        yes   \n",
       "1    OH             107        415  371-7191         no        yes   \n",
       "2    NJ             137        415  358-1921         no         no   \n",
       "3    OH              84        408  375-9999        yes         no   \n",
       "4    OK              75        415  330-6626        yes         no   \n",
       "\n",
       "   VMail Message  Day Mins  Day Calls  Day Charge  ...  Eve Calls  Eve Charge  \\\n",
       "0             25     265.1        110       45.07  ...         99       16.78   \n",
       "1             26     161.6        123       27.47  ...        103       16.62   \n",
       "2              0     243.4        114       41.38  ...        110       10.30   \n",
       "3              0     299.4         71       50.90  ...         88        5.26   \n",
       "4              0     166.7        113       28.34  ...        122       12.61   \n",
       "\n",
       "   Night Mins  Night Calls  Night Charge  Intl Mins  Intl Calls  Intl Charge  \\\n",
       "0       244.7           91         11.01       10.0           3         2.70   \n",
       "1       254.4          103         11.45       13.7           3         3.70   \n",
       "2       162.6          104          7.32       12.2           5         3.29   \n",
       "3       196.9           89          8.86        6.6           7         1.78   \n",
       "4       186.9          121          8.41       10.1           3         2.73   \n",
       "\n",
       "   CustServ Calls  Churn?  \n",
       "0               1  False.  \n",
       "1               1  False.  \n",
       "2               0  False.  \n",
       "3               2  False.  \n",
       "4               3  False.  \n",
       "\n",
       "[5 rows x 21 columns]"
      ],
      "text/html": "<div>\n<style scoped>\n    .dataframe tbody tr th:only-of-type {\n        vertical-align: middle;\n    }\n\n    .dataframe tbody tr th {\n        vertical-align: top;\n    }\n\n    .dataframe thead th {\n        text-align: right;\n    }\n</style>\n<table border=\"1\" class=\"dataframe\">\n  <thead>\n    <tr style=\"text-align: right;\">\n      <th></th>\n      <th>State</th>\n      <th>Account Length</th>\n      <th>Area Code</th>\n      <th>Phone</th>\n      <th>Int'l Plan</th>\n      <th>VMail Plan</th>\n      <th>VMail Message</th>\n      <th>Day Mins</th>\n      <th>Day Calls</th>\n      <th>Day Charge</th>\n      <th>...</th>\n      <th>Eve Calls</th>\n      <th>Eve Charge</th>\n      <th>Night Mins</th>\n      <th>Night Calls</th>\n      <th>Night Charge</th>\n      <th>Intl Mins</th>\n      <th>Intl Calls</th>\n      <th>Intl Charge</th>\n      <th>CustServ Calls</th>\n      <th>Churn?</th>\n    </tr>\n  </thead>\n  <tbody>\n    <tr>\n      <th>0</th>\n      <td>KS</td>\n      <td>128</td>\n      <td>415</td>\n      <td>382-4657</td>\n      <td>no</td>\n      <td>yes</td>\n      <td>25</td>\n      <td>265.1</td>\n      <td>110</td>\n      <td>45.07</td>\n      <td>...</td>\n      <td>99</td>\n      <td>16.78</td>\n      <td>244.7</td>\n      <td>91</td>\n      <td>11.01</td>\n      <td>10.0</td>\n      <td>3</td>\n      <td>2.70</td>\n      <td>1</td>\n      <td>False.</td>\n    </tr>\n    <tr>\n      <th>1</th>\n      <td>OH</td>\n      <td>107</td>\n      <td>415</td>\n      <td>371-7191</td>\n      <td>no</td>\n      <td>yes</td>\n      <td>26</td>\n      <td>161.6</td>\n      <td>123</td>\n      <td>27.47</td>\n      <td>...</td>\n      <td>103</td>\n      <td>16.62</td>\n      <td>254.4</td>\n      <td>103</td>\n      <td>11.45</td>\n      <td>13.7</td>\n      <td>3</td>\n      <td>3.70</td>\n      <td>1</td>\n      <td>False.</td>\n    </tr>\n    <tr>\n      <th>2</th>\n      <td>NJ</td>\n      <td>137</td>\n      <td>415</td>\n      <td>358-1921</td>\n      <td>no</td>\n      <td>no</td>\n      <td>0</td>\n      <td>243.4</td>\n      <td>114</td>\n      <td>41.38</td>\n      <td>...</td>\n      <td>110</td>\n      <td>10.30</td>\n      <td>162.6</td>\n      <td>104</td>\n      <td>7.32</td>\n      <td>12.2</td>\n      <td>5</td>\n      <td>3.29</td>\n      <td>0</td>\n      <td>False.</td>\n    </tr>\n    <tr>\n      <th>3</th>\n      <td>OH</td>\n      <td>84</td>\n      <td>408</td>\n      <td>375-9999</td>\n      <td>yes</td>\n      <td>no</td>\n      <td>0</td>\n      <td>299.4</td>\n      <td>71</td>\n      <td>50.90</td>\n      <td>...</td>\n      <td>88</td>\n      <td>5.26</td>\n      <td>196.9</td>\n      <td>89</td>\n      <td>8.86</td>\n      <td>6.6</td>\n      <td>7</td>\n      <td>1.78</td>\n      <td>2</td>\n      <td>False.</td>\n    </tr>\n    <tr>\n      <th>4</th>\n      <td>OK</td>\n      <td>75</td>\n      <td>415</td>\n      <td>330-6626</td>\n      <td>yes</td>\n      <td>no</td>\n      <td>0</td>\n      <td>166.7</td>\n      <td>113</td>\n      <td>28.34</td>\n      <td>...</td>\n      <td>122</td>\n      <td>12.61</td>\n      <td>186.9</td>\n      <td>121</td>\n      <td>8.41</td>\n      <td>10.1</td>\n      <td>3</td>\n      <td>2.73</td>\n      <td>3</td>\n      <td>False.</td>\n    </tr>\n  </tbody>\n</table>\n<p>5 rows × 21 columns</p>\n</div>"
     },
     "metadata": {},
     "execution_count": 53
    }
   ],
   "source": [
    "data.head()"
   ]
  },
  {
   "source": [
    "# Agragación de datos por categoría"
   ],
   "cell_type": "markdown",
   "metadata": {}
  },
  {
   "cell_type": "code",
   "execution_count": 54,
   "metadata": {},
   "outputs": [],
   "source": [
    "gender = ['Male', 'Female']\n",
    "income = ['Poor', 'Middle class', 'Rich']\n",
    "length = 10000\n",
    "\n",
    "dummy = {}\n",
    "dummy['Gender'] = []\n",
    "dummy['Economic Status'] = []\n",
    "for i in range(length):\n",
    "    dummy['Gender'].append(np.random.choice(gender))\n",
    "    dummy['Economic Status'].append(np.random.choice(income))\n",
    "\n",
    "dummy['Height'] = 160 + 25 * np.random.randn(length)\n",
    "dummy['Weigth'] = 65 + 25 * np.random.randn(length)\n",
    "dummy['Age'] = 30 + 12 * np.random.randn(length)\n",
    "dummy['Income'] = 18000 + 3500 * np.random.randn(length)"
   ]
  },
  {
   "cell_type": "code",
   "execution_count": 55,
   "metadata": {},
   "outputs": [
    {
     "output_type": "execute_result",
     "data": {
      "text/plain": [
       "   Gender Economic Status      Height     Weigth        Age        Income\n",
       "0  Female    Middle class  159.159829  76.161417  35.901438  19242.695388\n",
       "1    Male            Rich  116.101714  70.431684  54.614530  17132.234895\n",
       "2  Female            Rich  166.577126  28.932007  -3.637084  20943.404568\n",
       "3    Male            Poor  185.712529  43.546864  47.116698  14653.613795\n",
       "4    Male            Rich  211.906718  64.791417  33.662894  16918.452124"
      ],
      "text/html": "<div>\n<style scoped>\n    .dataframe tbody tr th:only-of-type {\n        vertical-align: middle;\n    }\n\n    .dataframe tbody tr th {\n        vertical-align: top;\n    }\n\n    .dataframe thead th {\n        text-align: right;\n    }\n</style>\n<table border=\"1\" class=\"dataframe\">\n  <thead>\n    <tr style=\"text-align: right;\">\n      <th></th>\n      <th>Gender</th>\n      <th>Economic Status</th>\n      <th>Height</th>\n      <th>Weigth</th>\n      <th>Age</th>\n      <th>Income</th>\n    </tr>\n  </thead>\n  <tbody>\n    <tr>\n      <th>0</th>\n      <td>Female</td>\n      <td>Middle class</td>\n      <td>159.159829</td>\n      <td>76.161417</td>\n      <td>35.901438</td>\n      <td>19242.695388</td>\n    </tr>\n    <tr>\n      <th>1</th>\n      <td>Male</td>\n      <td>Rich</td>\n      <td>116.101714</td>\n      <td>70.431684</td>\n      <td>54.614530</td>\n      <td>17132.234895</td>\n    </tr>\n    <tr>\n      <th>2</th>\n      <td>Female</td>\n      <td>Rich</td>\n      <td>166.577126</td>\n      <td>28.932007</td>\n      <td>-3.637084</td>\n      <td>20943.404568</td>\n    </tr>\n    <tr>\n      <th>3</th>\n      <td>Male</td>\n      <td>Poor</td>\n      <td>185.712529</td>\n      <td>43.546864</td>\n      <td>47.116698</td>\n      <td>14653.613795</td>\n    </tr>\n    <tr>\n      <th>4</th>\n      <td>Male</td>\n      <td>Rich</td>\n      <td>211.906718</td>\n      <td>64.791417</td>\n      <td>33.662894</td>\n      <td>16918.452124</td>\n    </tr>\n  </tbody>\n</table>\n</div>"
     },
     "metadata": {},
     "execution_count": 55
    }
   ],
   "source": [
    "data = pd.DataFrame(dummy)\n",
    "data.head()"
   ]
  },
  {
   "source": [
    "### Agrupación de datos"
   ],
   "cell_type": "markdown",
   "metadata": {}
  },
  {
   "cell_type": "code",
   "execution_count": 56,
   "metadata": {},
   "outputs": [
    {
     "output_type": "execute_result",
     "data": {
      "text/plain": [
       "{'Female': [0, 2, 5, 7, 13, 14, 17, 18, 19, 20, 21, 23, 24, 25, 28, 29, 30, 31, 32, 33, 34, 35, 36, 37, 40, 41, 42, 44, 45, 46, 47, 48, 50, 51, 53, 54, 55, 56, 57, 59, 61, 62, 63, 64, 65, 67, 68, 72, 75, 77, 81, 82, 85, 87, 88, 91, 94, 95, 99, 100, 103, 105, 108, 111, 112, 113, 114, 115, 118, 121, 123, 124, 128, 129, 135, 136, 138, 139, 140, 141, 145, 146, 147, 149, 150, 151, 152, 155, 158, 159, 160, 161, 162, 165, 168, 170, 171, 179, 180, 182, ...], 'Male': [1, 3, 4, 6, 8, 9, 10, 11, 12, 15, 16, 22, 26, 27, 38, 39, 43, 49, 52, 58, 60, 66, 69, 70, 71, 73, 74, 76, 78, 79, 80, 83, 84, 86, 89, 90, 92, 93, 96, 97, 98, 101, 102, 104, 106, 107, 109, 110, 116, 117, 119, 120, 122, 125, 126, 127, 130, 131, 132, 133, 134, 137, 142, 143, 144, 148, 153, 154, 156, 157, 163, 164, 166, 167, 169, 172, 173, 174, 175, 176, 177, 178, 181, 183, 184, 185, 186, 188, 189, 192, 193, 195, 197, 199, 202, 203, 207, 210, 212, 213, ...]}"
      ]
     },
     "metadata": {},
     "execution_count": 56
    }
   ],
   "source": [
    "grouped_gender = data.groupby('Gender')\n",
    "grouped_gender.groups"
   ]
  },
  {
   "cell_type": "code",
   "execution_count": 57,
   "metadata": {},
   "outputs": [
    {
     "output_type": "stream",
     "name": "stdout",
     "text": [
      "Female\n      Gender Economic Status      Height      Weigth        Age        Income\n0     Female    Middle class  159.159829   76.161417  35.901438  19242.695388\n2     Female            Rich  166.577126   28.932007  -3.637084  20943.404568\n5     Female            Poor  135.549625   50.668597  65.694614  13636.146504\n7     Female            Rich  168.994981   83.410256  39.294316  18316.261516\n13    Female            Poor  149.123156   64.704239  30.942274  21279.430207\n...      ...             ...         ...         ...        ...           ...\n9983  Female    Middle class  147.192473   50.273333  25.327151  17919.497445\n9985  Female            Poor  157.625836   97.416563  34.924587  11665.819130\n9988  Female            Rich  149.498418   21.582819  34.291638  17746.464820\n9989  Female    Middle class  194.353265  118.487376  20.181155  12136.201579\n9995  Female    Middle class  171.340666   24.999187  41.622319  22424.428973\n\n[4982 rows x 6 columns]\nMale\n     Gender Economic Status      Height      Weigth        Age        Income\n1      Male            Rich  116.101714   70.431684  54.614530  17132.234895\n3      Male            Poor  185.712529   43.546864  47.116698  14653.613795\n4      Male            Rich  211.906718   64.791417  33.662894  16918.452124\n6      Male    Middle class  149.548370  104.898354   8.974338  18449.833968\n8      Male            Poor  163.071173   81.162770  47.344134  14860.524242\n...     ...             ...         ...         ...        ...           ...\n9994   Male            Poor  176.348245   94.477672  29.069391  14838.385795\n9996   Male    Middle class  165.252451   61.705029  17.286849  20462.172762\n9997   Male            Poor  161.241584   84.257084  22.195951  16892.013633\n9998   Male            Rich  190.882939   63.370772   2.472855  17928.199852\n9999   Male    Middle class  121.428118   81.672000  39.173951  23351.852862\n\n[5018 rows x 6 columns]\n"
     ]
    }
   ],
   "source": [
    "for name, group in grouped_gender:\n",
    "    print(name)\n",
    "    print(group)"
   ]
  },
  {
   "cell_type": "code",
   "execution_count": 58,
   "metadata": {},
   "outputs": [
    {
     "output_type": "execute_result",
     "data": {
      "text/plain": [
       "      Gender Economic Status      Height      Weigth        Age        Income\n",
       "0     Female    Middle class  159.159829   76.161417  35.901438  19242.695388\n",
       "2     Female            Rich  166.577126   28.932007  -3.637084  20943.404568\n",
       "5     Female            Poor  135.549625   50.668597  65.694614  13636.146504\n",
       "7     Female            Rich  168.994981   83.410256  39.294316  18316.261516\n",
       "13    Female            Poor  149.123156   64.704239  30.942274  21279.430207\n",
       "...      ...             ...         ...         ...        ...           ...\n",
       "9983  Female    Middle class  147.192473   50.273333  25.327151  17919.497445\n",
       "9985  Female            Poor  157.625836   97.416563  34.924587  11665.819130\n",
       "9988  Female            Rich  149.498418   21.582819  34.291638  17746.464820\n",
       "9989  Female    Middle class  194.353265  118.487376  20.181155  12136.201579\n",
       "9995  Female    Middle class  171.340666   24.999187  41.622319  22424.428973\n",
       "\n",
       "[4982 rows x 6 columns]"
      ],
      "text/html": "<div>\n<style scoped>\n    .dataframe tbody tr th:only-of-type {\n        vertical-align: middle;\n    }\n\n    .dataframe tbody tr th {\n        vertical-align: top;\n    }\n\n    .dataframe thead th {\n        text-align: right;\n    }\n</style>\n<table border=\"1\" class=\"dataframe\">\n  <thead>\n    <tr style=\"text-align: right;\">\n      <th></th>\n      <th>Gender</th>\n      <th>Economic Status</th>\n      <th>Height</th>\n      <th>Weigth</th>\n      <th>Age</th>\n      <th>Income</th>\n    </tr>\n  </thead>\n  <tbody>\n    <tr>\n      <th>0</th>\n      <td>Female</td>\n      <td>Middle class</td>\n      <td>159.159829</td>\n      <td>76.161417</td>\n      <td>35.901438</td>\n      <td>19242.695388</td>\n    </tr>\n    <tr>\n      <th>2</th>\n      <td>Female</td>\n      <td>Rich</td>\n      <td>166.577126</td>\n      <td>28.932007</td>\n      <td>-3.637084</td>\n      <td>20943.404568</td>\n    </tr>\n    <tr>\n      <th>5</th>\n      <td>Female</td>\n      <td>Poor</td>\n      <td>135.549625</td>\n      <td>50.668597</td>\n      <td>65.694614</td>\n      <td>13636.146504</td>\n    </tr>\n    <tr>\n      <th>7</th>\n      <td>Female</td>\n      <td>Rich</td>\n      <td>168.994981</td>\n      <td>83.410256</td>\n      <td>39.294316</td>\n      <td>18316.261516</td>\n    </tr>\n    <tr>\n      <th>13</th>\n      <td>Female</td>\n      <td>Poor</td>\n      <td>149.123156</td>\n      <td>64.704239</td>\n      <td>30.942274</td>\n      <td>21279.430207</td>\n    </tr>\n    <tr>\n      <th>...</th>\n      <td>...</td>\n      <td>...</td>\n      <td>...</td>\n      <td>...</td>\n      <td>...</td>\n      <td>...</td>\n    </tr>\n    <tr>\n      <th>9983</th>\n      <td>Female</td>\n      <td>Middle class</td>\n      <td>147.192473</td>\n      <td>50.273333</td>\n      <td>25.327151</td>\n      <td>17919.497445</td>\n    </tr>\n    <tr>\n      <th>9985</th>\n      <td>Female</td>\n      <td>Poor</td>\n      <td>157.625836</td>\n      <td>97.416563</td>\n      <td>34.924587</td>\n      <td>11665.819130</td>\n    </tr>\n    <tr>\n      <th>9988</th>\n      <td>Female</td>\n      <td>Rich</td>\n      <td>149.498418</td>\n      <td>21.582819</td>\n      <td>34.291638</td>\n      <td>17746.464820</td>\n    </tr>\n    <tr>\n      <th>9989</th>\n      <td>Female</td>\n      <td>Middle class</td>\n      <td>194.353265</td>\n      <td>118.487376</td>\n      <td>20.181155</td>\n      <td>12136.201579</td>\n    </tr>\n    <tr>\n      <th>9995</th>\n      <td>Female</td>\n      <td>Middle class</td>\n      <td>171.340666</td>\n      <td>24.999187</td>\n      <td>41.622319</td>\n      <td>22424.428973</td>\n    </tr>\n  </tbody>\n</table>\n<p>4982 rows × 6 columns</p>\n</div>"
     },
     "metadata": {},
     "execution_count": 58
    }
   ],
   "source": [
    "grouped_gender.get_group('Female')"
   ]
  },
  {
   "cell_type": "code",
   "execution_count": 59,
   "metadata": {},
   "outputs": [
    {
     "output_type": "execute_result",
     "data": {
      "text/plain": [
       "{('Female', 'Middle class'): [0, 17, 21, 24, 29, 31, 32, 34, 36, 40, 41, 46, 50, 53, 54, 64, 67, 81, 112, 113, 118, 121, 123, 124, 135, 141, 146, 151, 152, 158, 159, 160, 161, 170, 179, 209, 220, 225, 226, 231, 233, 237, 238, 243, 244, 249, 250, 252, 255, 260, 261, 273, 277, 292, 299, 301, 302, 318, 324, 330, 338, 342, 343, 344, 347, 349, 355, 360, 361, 363, 366, 369, 386, 387, 393, 400, 402, 408, 424, 425, 426, 427, 429, 432, 437, 442, 443, 444, 446, 451, 458, 466, 469, 478, 481, 487, 489, 493, 500, 501, ...], ('Female', 'Poor'): [5, 13, 19, 25, 30, 33, 45, 47, 48, 51, 55, 61, 62, 63, 72, 82, 91, 99, 100, 103, 111, 129, 140, 155, 165, 168, 171, 187, 190, 191, 200, 205, 211, 222, 236, 240, 256, 257, 262, 266, 267, 268, 271, 293, 297, 298, 311, 314, 329, 334, 339, 340, 346, 356, 372, 377, 384, 398, 399, 410, 420, 430, 439, 449, 452, 464, 465, 467, 471, 472, 486, 491, 496, 502, 505, 506, 513, 515, 517, 518, 537, 553, 559, 569, 579, 586, 592, 593, 608, 630, 647, 657, 659, 663, 668, 669, 670, 677, 684, 693, ...], ('Female', 'Rich'): [2, 7, 14, 18, 20, 23, 28, 35, 37, 42, 44, 56, 57, 59, 65, 68, 75, 77, 85, 87, 88, 94, 95, 105, 108, 114, 115, 128, 136, 138, 139, 145, 147, 149, 150, 162, 180, 182, 194, 196, 198, 201, 204, 206, 208, 214, 215, 217, 219, 221, 232, 234, 242, 245, 254, 258, 263, 270, 272, 278, 279, 281, 284, 286, 287, 289, 291, 294, 296, 304, 305, 307, 310, 319, 321, 322, 327, 337, 352, 357, 365, 370, 378, 383, 389, 397, 401, 403, 418, 421, 423, 431, 447, 448, 455, 456, 459, 468, 470, 473, ...], ('Male', 'Middle class'): [6, 12, 27, 39, 43, 70, 71, 102, 104, 109, 116, 117, 125, 127, 133, 134, 137, 143, 148, 153, 156, 164, 166, 175, 176, 181, 186, 188, 193, 195, 197, 210, 229, 239, 246, 247, 248, 264, 265, 274, 280, 290, 303, 306, 308, 313, 317, 320, 325, 328, 333, 335, 350, 351, 353, 354, 367, 373, 374, 375, 382, 390, 391, 392, 396, 404, 405, 406, 407, 411, 412, 416, 428, 434, 440, 462, 463, 474, 476, 477, 479, 488, 490, 495, 509, 520, 535, 541, 542, 549, 552, 576, 577, 578, 599, 601, 605, 612, 613, 614, ...], ('Male', 'Poor'): [3, 8, 11, 15, 16, 22, 26, 38, 49, 58, 60, 78, 79, 83, 86, 90, 92, 119, 120, 122, 126, 131, 132, 142, 167, 169, 177, 184, 185, 202, 207, 213, 223, 227, 228, 235, 241, 253, 283, 309, 323, 326, 331, 345, 348, 358, 359, 364, 368, 376, 381, 395, 414, 417, 433, 435, 438, 454, 457, 460, 475, 484, 497, 498, 510, 516, 522, 525, 528, 530, 532, 536, 539, 543, 545, 555, 556, 561, 564, 589, 595, 596, 597, 610, 616, 619, 620, 623, 624, 634, 636, 637, 642, 649, 676, 678, 685, 687, 695, 697, ...], ('Male', 'Rich'): [1, 4, 9, 10, 52, 66, 69, 73, 74, 76, 80, 84, 89, 93, 96, 97, 98, 101, 106, 107, 110, 130, 144, 154, 157, 163, 172, 173, 174, 178, 183, 189, 192, 199, 203, 212, 216, 218, 224, 230, 251, 259, 269, 275, 276, 282, 285, 288, 295, 300, 312, 315, 316, 332, 336, 341, 362, 371, 379, 380, 385, 388, 394, 409, 413, 415, 419, 422, 436, 441, 445, 450, 453, 461, 480, 482, 494, 507, 508, 519, 521, 523, 524, 550, 560, 566, 575, 580, 585, 604, 606, 618, 627, 646, 650, 652, 667, 675, 692, 698, ...]}"
      ]
     },
     "metadata": {},
     "execution_count": 59
    }
   ],
   "source": [
    "gender_economic_group = data.groupby(['Gender', 'Economic Status'])\n",
    "gender_economic_group.groups"
   ]
  },
  {
   "cell_type": "code",
   "execution_count": 60,
   "metadata": {},
   "outputs": [
    {
     "output_type": "stream",
     "name": "stdout",
     "text": [
      "('Female', 'Middle class')\n      Gender Economic Status      Height      Weigth        Age        Income\n0     Female    Middle class  159.159829   76.161417  35.901438  19242.695388\n17    Female    Middle class  136.598746   80.170973  37.293160  15864.866553\n21    Female    Middle class  148.912131   87.913900  38.215906  19501.290920\n24    Female    Middle class  154.381565   39.834877  41.045324  16404.402657\n29    Female    Middle class  150.534502   51.918762  37.473881  12022.358484\n...      ...             ...         ...         ...        ...           ...\n9961  Female    Middle class  150.433641   88.761453  34.988931  11592.515146\n9976  Female    Middle class  188.708393   81.811594   9.773399  18263.953783\n9983  Female    Middle class  147.192473   50.273333  25.327151  17919.497445\n9989  Female    Middle class  194.353265  118.487376  20.181155  12136.201579\n9995  Female    Middle class  171.340666   24.999187  41.622319  22424.428973\n\n[1679 rows x 6 columns]\n('Female', 'Poor')\n      Gender Economic Status      Height     Weigth        Age        Income\n5     Female            Poor  135.549625  50.668597  65.694614  13636.146504\n13    Female            Poor  149.123156  64.704239  30.942274  21279.430207\n19    Female            Poor  147.663276  72.011705  32.980268  17086.451656\n25    Female            Poor  184.148170  60.602996  32.447617  17775.705150\n30    Female            Poor  140.709483  78.054415  64.794194  15016.556521\n...      ...             ...         ...        ...        ...           ...\n9949  Female            Poor  123.544771  -4.750753  37.745382  12788.305963\n9953  Female            Poor  144.774890  38.157721  41.210857  19437.825816\n9958  Female            Poor  206.819839  27.487017  25.687524  21622.033396\n9963  Female            Poor  165.783321  47.258466  34.503921  18253.401976\n9985  Female            Poor  157.625836  97.416563  34.924587  11665.819130\n\n[1636 rows x 6 columns]\n('Female', 'Rich')\n      Gender Economic Status      Height     Weigth        Age        Income\n2     Female            Rich  166.577126  28.932007  -3.637084  20943.404568\n7     Female            Rich  168.994981  83.410256  39.294316  18316.261516\n14    Female            Rich  152.361245  55.555084  40.350609  14578.351211\n18    Female            Rich  141.270491  62.942114  34.876201  16043.189458\n20    Female            Rich  140.078471  65.313471  35.220721  19260.122624\n...      ...             ...         ...        ...        ...           ...\n9965  Female            Rich  154.625717  50.773404  40.424559  21437.848302\n9969  Female            Rich  163.244836  97.553194  42.208102  20995.019537\n9971  Female            Rich  150.987849  73.589171  18.597918  18029.140531\n9979  Female            Rich  160.623212   8.929536  29.994878  14938.034736\n9988  Female            Rich  149.498418  21.582819  34.291638  17746.464820\n\n[1667 rows x 6 columns]\n('Male', 'Middle class')\n     Gender Economic Status      Height      Weigth        Age        Income\n6      Male    Middle class  149.548370  104.898354   8.974338  18449.833968\n12     Male    Middle class  205.096033   69.446094  46.458232  11603.442101\n27     Male    Middle class  146.339290   66.856783  32.821538  13006.774409\n39     Male    Middle class   96.080504   49.979548  29.624876  18636.793904\n43     Male    Middle class  184.661445   89.997931  43.260545  20602.815647\n...     ...             ...         ...         ...        ...           ...\n9984   Male    Middle class  114.401434   81.555642  35.693898  17062.252055\n9990   Male    Middle class  187.588535   88.133051  39.453909  13115.729581\n9991   Male    Middle class  178.147785   57.932514  26.151581  11662.560975\n9996   Male    Middle class  165.252451   61.705029  17.286849  20462.172762\n9999   Male    Middle class  121.428118   81.672000  39.173951  23351.852862\n\n[1675 rows x 6 columns]\n('Male', 'Poor')\n     Gender Economic Status      Height     Weigth        Age        Income\n3      Male            Poor  185.712529  43.546864  47.116698  14653.613795\n8      Male            Poor  163.071173  81.162770  47.344134  14860.524242\n11     Male            Poor  168.014328  66.818203  39.809721  16639.473082\n15     Male            Poor  153.472372  74.294646   2.802332  20282.658483\n16     Male            Poor  147.351665  73.441751  -0.086909  19037.547716\n...     ...             ...         ...        ...        ...           ...\n9982   Male            Poor  149.663011  87.940836  46.159497  19080.875104\n9986   Male            Poor  140.119793  37.033783  29.204878  16583.690229\n9992   Male            Poor  106.052042  52.425185  14.598630  17712.795698\n9994   Male            Poor  176.348245  94.477672  29.069391  14838.385795\n9997   Male            Poor  161.241584  84.257084  22.195951  16892.013633\n\n[1728 rows x 6 columns]\n('Male', 'Rich')\n     Gender Economic Status      Height      Weigth        Age        Income\n1      Male            Rich  116.101714   70.431684  54.614530  17132.234895\n4      Male            Rich  211.906718   64.791417  33.662894  16918.452124\n9      Male            Rich  223.061190   66.801026  39.536581  21779.382323\n10     Male            Rich  151.100674   75.078138  26.180056  21114.335046\n52     Male            Rich  163.497026   59.027919  45.047122  21958.787292\n...     ...             ...         ...         ...        ...           ...\n9974   Male            Rich  197.492625   79.166340  42.875026  17800.950571\n9978   Male            Rich  145.098777  106.108035  55.060567  17305.013297\n9987   Male            Rich  169.529169   66.218135  30.967255  20962.203008\n9993   Male            Rich  188.701145   67.719522  27.636564  16098.537083\n9998   Male            Rich  190.882939   63.370772   2.472855  17928.199852\n\n[1615 rows x 6 columns]\n"
     ]
    }
   ],
   "source": [
    "for gender_status, group in gender_economic_group:\n",
    "    print(gender_status)\n",
    "    print(group)"
   ]
  },
  {
   "source": [
    "## Operaciones sobre datos agrupados"
   ],
   "cell_type": "markdown",
   "metadata": {}
  },
  {
   "cell_type": "code",
   "execution_count": 61,
   "metadata": {},
   "outputs": [
    {
     "output_type": "execute_result",
     "data": {
      "text/plain": [
       "                               Height         Weigth           Age  \\\n",
       "Gender Economic Status                                               \n",
       "Female Middle class     267104.505974  108763.742229  50679.234080   \n",
       "       Poor             260754.626230  105930.542072  49131.928941   \n",
       "       Rich             265335.029157  106759.487266  50245.893383   \n",
       "Male   Middle class     268465.903789  109026.304091  50533.092363   \n",
       "       Poor             275350.269183  111328.449413  51947.940564   \n",
       "       Rich             259757.370339  104505.071521  48111.506986   \n",
       "\n",
       "                              Income  \n",
       "Gender Economic Status                \n",
       "Female Middle class     3.015373e+07  \n",
       "       Poor             2.945541e+07  \n",
       "       Rich             3.008959e+07  \n",
       "Male   Middle class     3.012231e+07  \n",
       "       Poor             3.092534e+07  \n",
       "       Rich             2.892346e+07  "
      ],
      "text/html": "<div>\n<style scoped>\n    .dataframe tbody tr th:only-of-type {\n        vertical-align: middle;\n    }\n\n    .dataframe tbody tr th {\n        vertical-align: top;\n    }\n\n    .dataframe thead th {\n        text-align: right;\n    }\n</style>\n<table border=\"1\" class=\"dataframe\">\n  <thead>\n    <tr style=\"text-align: right;\">\n      <th></th>\n      <th></th>\n      <th>Height</th>\n      <th>Weigth</th>\n      <th>Age</th>\n      <th>Income</th>\n    </tr>\n    <tr>\n      <th>Gender</th>\n      <th>Economic Status</th>\n      <th></th>\n      <th></th>\n      <th></th>\n      <th></th>\n    </tr>\n  </thead>\n  <tbody>\n    <tr>\n      <th rowspan=\"3\" valign=\"top\">Female</th>\n      <th>Middle class</th>\n      <td>267104.505974</td>\n      <td>108763.742229</td>\n      <td>50679.234080</td>\n      <td>3.015373e+07</td>\n    </tr>\n    <tr>\n      <th>Poor</th>\n      <td>260754.626230</td>\n      <td>105930.542072</td>\n      <td>49131.928941</td>\n      <td>2.945541e+07</td>\n    </tr>\n    <tr>\n      <th>Rich</th>\n      <td>265335.029157</td>\n      <td>106759.487266</td>\n      <td>50245.893383</td>\n      <td>3.008959e+07</td>\n    </tr>\n    <tr>\n      <th rowspan=\"3\" valign=\"top\">Male</th>\n      <th>Middle class</th>\n      <td>268465.903789</td>\n      <td>109026.304091</td>\n      <td>50533.092363</td>\n      <td>3.012231e+07</td>\n    </tr>\n    <tr>\n      <th>Poor</th>\n      <td>275350.269183</td>\n      <td>111328.449413</td>\n      <td>51947.940564</td>\n      <td>3.092534e+07</td>\n    </tr>\n    <tr>\n      <th>Rich</th>\n      <td>259757.370339</td>\n      <td>104505.071521</td>\n      <td>48111.506986</td>\n      <td>2.892346e+07</td>\n    </tr>\n  </tbody>\n</table>\n</div>"
     },
     "metadata": {},
     "execution_count": 61
    }
   ],
   "source": [
    "gender_economic_group.sum()"
   ]
  },
  {
   "cell_type": "code",
   "execution_count": 62,
   "metadata": {},
   "outputs": [
    {
     "output_type": "execute_result",
     "data": {
      "text/plain": [
       "                        Height                                                \\\n",
       "                         count        mean        std        min         25%   \n",
       "Gender Economic Status                                                         \n",
       "Female Middle class     1679.0  159.085471  24.647792  45.683546  142.411886   \n",
       "       Poor             1636.0  159.385468  24.765620  73.984468  143.529745   \n",
       "       Rich             1667.0  159.169184  25.698945  78.570581  142.001786   \n",
       "Male   Middle class     1675.0  160.278152  24.686328  79.427483  143.373716   \n",
       "       Poor             1728.0  159.346221  24.805373  81.255243  142.846015   \n",
       "       Rich             1615.0  160.840477  24.924109  77.172773  143.554867   \n",
       "\n",
       "                                                            Weigth             \\\n",
       "                               50%         75%         max   count       mean   \n",
       "Gender Economic Status                                                          \n",
       "Female Middle class     159.354472  174.682010  234.987509  1679.0  64.778882   \n",
       "       Poor             159.247695  176.310109  251.754835  1636.0  64.749720   \n",
       "       Rich             159.025439  175.865739  240.430188  1667.0  64.042884   \n",
       "Male   Middle class     159.985642  177.678262  237.050722  1675.0  65.090331   \n",
       "       Poor             159.121134  176.199221  245.490524  1728.0  64.426186   \n",
       "       Rich             161.197784  177.686237  235.531144  1615.0  64.709023   \n",
       "\n",
       "                        ...        Age             Income                \\\n",
       "                        ...        75%        max   count          mean   \n",
       "Gender Economic Status  ...                                               \n",
       "Female Middle class     ...  38.413036  73.082494  1679.0  17959.337891   \n",
       "       Poor             ...  37.988752  78.052117  1636.0  18004.529479   \n",
       "       Rich             ...  38.076087  66.719728  1667.0  18050.141436   \n",
       "Male   Middle class     ...  37.895607  71.551694  1675.0  17983.469736   \n",
       "       Poor             ...  38.398091  70.533734  1728.0  17896.609675   \n",
       "       Rich             ...  37.610955  74.275010  1615.0  17909.265903   \n",
       "\n",
       "                                                                              \\\n",
       "                                std          min           25%           50%   \n",
       "Gender Economic Status                                                         \n",
       "Female Middle class     3487.889238  5613.921847  15568.858447  17916.095275   \n",
       "       Poor             3421.548004  5778.933978  15682.958453  18070.282492   \n",
       "       Rich             3561.846976  6311.134020  15589.584813  17972.511026   \n",
       "Male   Middle class     3419.388155  5185.856618  15694.996386  18048.115040   \n",
       "       Poor             3544.431612  5456.383428  15325.134252  17894.942304   \n",
       "       Rich             3460.442179  7234.585179  15423.821328  17829.089055   \n",
       "\n",
       "                                                    \n",
       "                                 75%           max  \n",
       "Gender Economic Status                              \n",
       "Female Middle class     20355.003700  30030.842282  \n",
       "       Poor             20343.060358  30279.572511  \n",
       "       Rich             20484.838839  28535.999585  \n",
       "Male   Middle class     20264.865342  29407.547598  \n",
       "       Poor             20359.536075  30250.492887  \n",
       "       Rich             20218.915256  30164.458145  \n",
       "\n",
       "[6 rows x 32 columns]"
      ],
      "text/html": "<div>\n<style scoped>\n    .dataframe tbody tr th:only-of-type {\n        vertical-align: middle;\n    }\n\n    .dataframe tbody tr th {\n        vertical-align: top;\n    }\n\n    .dataframe thead tr th {\n        text-align: left;\n    }\n\n    .dataframe thead tr:last-of-type th {\n        text-align: right;\n    }\n</style>\n<table border=\"1\" class=\"dataframe\">\n  <thead>\n    <tr>\n      <th></th>\n      <th></th>\n      <th colspan=\"8\" halign=\"left\">Height</th>\n      <th colspan=\"2\" halign=\"left\">Weigth</th>\n      <th>...</th>\n      <th colspan=\"2\" halign=\"left\">Age</th>\n      <th colspan=\"8\" halign=\"left\">Income</th>\n    </tr>\n    <tr>\n      <th></th>\n      <th></th>\n      <th>count</th>\n      <th>mean</th>\n      <th>std</th>\n      <th>min</th>\n      <th>25%</th>\n      <th>50%</th>\n      <th>75%</th>\n      <th>max</th>\n      <th>count</th>\n      <th>mean</th>\n      <th>...</th>\n      <th>75%</th>\n      <th>max</th>\n      <th>count</th>\n      <th>mean</th>\n      <th>std</th>\n      <th>min</th>\n      <th>25%</th>\n      <th>50%</th>\n      <th>75%</th>\n      <th>max</th>\n    </tr>\n    <tr>\n      <th>Gender</th>\n      <th>Economic Status</th>\n      <th></th>\n      <th></th>\n      <th></th>\n      <th></th>\n      <th></th>\n      <th></th>\n      <th></th>\n      <th></th>\n      <th></th>\n      <th></th>\n      <th></th>\n      <th></th>\n      <th></th>\n      <th></th>\n      <th></th>\n      <th></th>\n      <th></th>\n      <th></th>\n      <th></th>\n      <th></th>\n      <th></th>\n    </tr>\n  </thead>\n  <tbody>\n    <tr>\n      <th rowspan=\"3\" valign=\"top\">Female</th>\n      <th>Middle class</th>\n      <td>1679.0</td>\n      <td>159.085471</td>\n      <td>24.647792</td>\n      <td>45.683546</td>\n      <td>142.411886</td>\n      <td>159.354472</td>\n      <td>174.682010</td>\n      <td>234.987509</td>\n      <td>1679.0</td>\n      <td>64.778882</td>\n      <td>...</td>\n      <td>38.413036</td>\n      <td>73.082494</td>\n      <td>1679.0</td>\n      <td>17959.337891</td>\n      <td>3487.889238</td>\n      <td>5613.921847</td>\n      <td>15568.858447</td>\n      <td>17916.095275</td>\n      <td>20355.003700</td>\n      <td>30030.842282</td>\n    </tr>\n    <tr>\n      <th>Poor</th>\n      <td>1636.0</td>\n      <td>159.385468</td>\n      <td>24.765620</td>\n      <td>73.984468</td>\n      <td>143.529745</td>\n      <td>159.247695</td>\n      <td>176.310109</td>\n      <td>251.754835</td>\n      <td>1636.0</td>\n      <td>64.749720</td>\n      <td>...</td>\n      <td>37.988752</td>\n      <td>78.052117</td>\n      <td>1636.0</td>\n      <td>18004.529479</td>\n      <td>3421.548004</td>\n      <td>5778.933978</td>\n      <td>15682.958453</td>\n      <td>18070.282492</td>\n      <td>20343.060358</td>\n      <td>30279.572511</td>\n    </tr>\n    <tr>\n      <th>Rich</th>\n      <td>1667.0</td>\n      <td>159.169184</td>\n      <td>25.698945</td>\n      <td>78.570581</td>\n      <td>142.001786</td>\n      <td>159.025439</td>\n      <td>175.865739</td>\n      <td>240.430188</td>\n      <td>1667.0</td>\n      <td>64.042884</td>\n      <td>...</td>\n      <td>38.076087</td>\n      <td>66.719728</td>\n      <td>1667.0</td>\n      <td>18050.141436</td>\n      <td>3561.846976</td>\n      <td>6311.134020</td>\n      <td>15589.584813</td>\n      <td>17972.511026</td>\n      <td>20484.838839</td>\n      <td>28535.999585</td>\n    </tr>\n    <tr>\n      <th rowspan=\"3\" valign=\"top\">Male</th>\n      <th>Middle class</th>\n      <td>1675.0</td>\n      <td>160.278152</td>\n      <td>24.686328</td>\n      <td>79.427483</td>\n      <td>143.373716</td>\n      <td>159.985642</td>\n      <td>177.678262</td>\n      <td>237.050722</td>\n      <td>1675.0</td>\n      <td>65.090331</td>\n      <td>...</td>\n      <td>37.895607</td>\n      <td>71.551694</td>\n      <td>1675.0</td>\n      <td>17983.469736</td>\n      <td>3419.388155</td>\n      <td>5185.856618</td>\n      <td>15694.996386</td>\n      <td>18048.115040</td>\n      <td>20264.865342</td>\n      <td>29407.547598</td>\n    </tr>\n    <tr>\n      <th>Poor</th>\n      <td>1728.0</td>\n      <td>159.346221</td>\n      <td>24.805373</td>\n      <td>81.255243</td>\n      <td>142.846015</td>\n      <td>159.121134</td>\n      <td>176.199221</td>\n      <td>245.490524</td>\n      <td>1728.0</td>\n      <td>64.426186</td>\n      <td>...</td>\n      <td>38.398091</td>\n      <td>70.533734</td>\n      <td>1728.0</td>\n      <td>17896.609675</td>\n      <td>3544.431612</td>\n      <td>5456.383428</td>\n      <td>15325.134252</td>\n      <td>17894.942304</td>\n      <td>20359.536075</td>\n      <td>30250.492887</td>\n    </tr>\n    <tr>\n      <th>Rich</th>\n      <td>1615.0</td>\n      <td>160.840477</td>\n      <td>24.924109</td>\n      <td>77.172773</td>\n      <td>143.554867</td>\n      <td>161.197784</td>\n      <td>177.686237</td>\n      <td>235.531144</td>\n      <td>1615.0</td>\n      <td>64.709023</td>\n      <td>...</td>\n      <td>37.610955</td>\n      <td>74.275010</td>\n      <td>1615.0</td>\n      <td>17909.265903</td>\n      <td>3460.442179</td>\n      <td>7234.585179</td>\n      <td>15423.821328</td>\n      <td>17829.089055</td>\n      <td>20218.915256</td>\n      <td>30164.458145</td>\n    </tr>\n  </tbody>\n</table>\n<p>6 rows × 32 columns</p>\n</div>"
     },
     "metadata": {},
     "execution_count": 62
    }
   ],
   "source": [
    "    gender_economic_group.describe()"
   ]
  },
  {
   "cell_type": "code",
   "execution_count": 63,
   "metadata": {},
   "outputs": [
    {
     "output_type": "execute_result",
     "data": {
      "text/plain": [
       "Gender  Economic Status\n",
       "Female  Middle class       1679\n",
       "        Poor               1636\n",
       "        Rich               1667\n",
       "Male    Middle class       1675\n",
       "        Poor               1728\n",
       "        Rich               1615\n",
       "dtype: int64"
      ]
     },
     "metadata": {},
     "execution_count": 63
    }
   ],
   "source": [
    "gender_economic_group.size()"
   ]
  },
  {
   "cell_type": "code",
   "execution_count": 64,
   "metadata": {},
   "outputs": [
    {
     "output_type": "execute_result",
     "data": {
      "text/plain": [
       "                              Income        Age     Height\n",
       "Gender Economic Status                                    \n",
       "Female Middle class     3.015373e+07  30.184178  24.647792\n",
       "       Poor             2.945541e+07  30.031741  24.765620\n",
       "       Rich             3.008959e+07  30.141508  25.698945\n",
       "Male   Middle class     3.012231e+07  30.169010  24.686328\n",
       "       Poor             3.092534e+07  30.062466  24.805373\n",
       "       Rich             2.892346e+07  29.790407  24.924109"
      ],
      "text/html": "<div>\n<style scoped>\n    .dataframe tbody tr th:only-of-type {\n        vertical-align: middle;\n    }\n\n    .dataframe tbody tr th {\n        vertical-align: top;\n    }\n\n    .dataframe thead th {\n        text-align: right;\n    }\n</style>\n<table border=\"1\" class=\"dataframe\">\n  <thead>\n    <tr style=\"text-align: right;\">\n      <th></th>\n      <th></th>\n      <th>Income</th>\n      <th>Age</th>\n      <th>Height</th>\n    </tr>\n    <tr>\n      <th>Gender</th>\n      <th>Economic Status</th>\n      <th></th>\n      <th></th>\n      <th></th>\n    </tr>\n  </thead>\n  <tbody>\n    <tr>\n      <th rowspan=\"3\" valign=\"top\">Female</th>\n      <th>Middle class</th>\n      <td>3.015373e+07</td>\n      <td>30.184178</td>\n      <td>24.647792</td>\n    </tr>\n    <tr>\n      <th>Poor</th>\n      <td>2.945541e+07</td>\n      <td>30.031741</td>\n      <td>24.765620</td>\n    </tr>\n    <tr>\n      <th>Rich</th>\n      <td>3.008959e+07</td>\n      <td>30.141508</td>\n      <td>25.698945</td>\n    </tr>\n    <tr>\n      <th rowspan=\"3\" valign=\"top\">Male</th>\n      <th>Middle class</th>\n      <td>3.012231e+07</td>\n      <td>30.169010</td>\n      <td>24.686328</td>\n    </tr>\n    <tr>\n      <th>Poor</th>\n      <td>3.092534e+07</td>\n      <td>30.062466</td>\n      <td>24.805373</td>\n    </tr>\n    <tr>\n      <th>Rich</th>\n      <td>2.892346e+07</td>\n      <td>29.790407</td>\n      <td>24.924109</td>\n    </tr>\n  </tbody>\n</table>\n</div>"
     },
     "metadata": {},
     "execution_count": 64
    }
   ],
   "source": [
    "gender_economic_group.aggregate(\n",
    "    {\n",
    "        'Income' : np.sum,\n",
    "        'Age' : np.mean,\n",
    "        'Height' : np.std\n",
    "    }\n",
    ")"
   ]
  },
  {
   "cell_type": "code",
   "execution_count": 65,
   "metadata": {},
   "outputs": [
    {
     "output_type": "execute_result",
     "data": {
      "text/plain": [
       "                              Age    Height\n",
       "Gender Economic Status                     \n",
       "Female Middle class     30.184178  6.456273\n",
       "       Poor             30.031741  6.437723\n",
       "       Rich             30.141508  6.195466\n",
       "Male   Middle class     30.169010  6.494527\n",
       "       Poor             30.062466  6.425719\n",
       "       Rich             29.790407  6.455208"
      ],
      "text/html": "<div>\n<style scoped>\n    .dataframe tbody tr th:only-of-type {\n        vertical-align: middle;\n    }\n\n    .dataframe tbody tr th {\n        vertical-align: top;\n    }\n\n    .dataframe thead th {\n        text-align: right;\n    }\n</style>\n<table border=\"1\" class=\"dataframe\">\n  <thead>\n    <tr style=\"text-align: right;\">\n      <th></th>\n      <th></th>\n      <th>Age</th>\n      <th>Height</th>\n    </tr>\n    <tr>\n      <th>Gender</th>\n      <th>Economic Status</th>\n      <th></th>\n      <th></th>\n    </tr>\n  </thead>\n  <tbody>\n    <tr>\n      <th rowspan=\"3\" valign=\"top\">Female</th>\n      <th>Middle class</th>\n      <td>30.184178</td>\n      <td>6.456273</td>\n    </tr>\n    <tr>\n      <th>Poor</th>\n      <td>30.031741</td>\n      <td>6.437723</td>\n    </tr>\n    <tr>\n      <th>Rich</th>\n      <td>30.141508</td>\n      <td>6.195466</td>\n    </tr>\n    <tr>\n      <th rowspan=\"3\" valign=\"top\">Male</th>\n      <th>Middle class</th>\n      <td>30.169010</td>\n      <td>6.494527</td>\n    </tr>\n    <tr>\n      <th>Poor</th>\n      <td>30.062466</td>\n      <td>6.425719</td>\n    </tr>\n    <tr>\n      <th>Rich</th>\n      <td>29.790407</td>\n      <td>6.455208</td>\n    </tr>\n  </tbody>\n</table>\n</div>"
     },
     "metadata": {},
     "execution_count": 65
    }
   ],
   "source": [
    "gender_economic_group.aggregate(\n",
    "    {\n",
    "        'Age' : np.mean,\n",
    "        'Height' : lambda height : np.mean(height) / np.std(height) \n",
    "    }\n",
    ")"
   ]
  },
  {
   "cell_type": "code",
   "execution_count": 66,
   "metadata": {},
   "outputs": [
    {
     "output_type": "execute_result",
     "data": {
      "text/plain": [
       "                               Height                                Weigth  \\\n",
       "                                  sum        mean        std            sum   \n",
       "Gender Economic Status                                                        \n",
       "Female Middle class     267104.505974  159.085471  24.647792  108763.742229   \n",
       "       Poor             260754.626230  159.385468  24.765620  105930.542072   \n",
       "       Rich             265335.029157  159.169184  25.698945  106759.487266   \n",
       "Male   Middle class     268465.903789  160.278152  24.686328  109026.304091   \n",
       "       Poor             275350.269183  159.346221  24.805373  111328.449413   \n",
       "       Rich             259757.370339  160.840477  24.924109  104505.071521   \n",
       "\n",
       "                                                       Age             \\\n",
       "                             mean        std           sum       mean   \n",
       "Gender Economic Status                                                  \n",
       "Female Middle class     64.778882  25.395566  50679.234080  30.184178   \n",
       "       Poor             64.749720  24.674147  49131.928941  30.031741   \n",
       "       Rich             64.042884  25.798172  50245.893383  30.141508   \n",
       "Male   Middle class     65.090331  24.510301  50533.092363  30.169010   \n",
       "       Poor             64.426186  25.419265  51947.940564  30.062466   \n",
       "       Rich             64.709023  24.536494  48111.506986  29.790407   \n",
       "\n",
       "                                         Income                             \n",
       "                              std           sum          mean          std  \n",
       "Gender Economic Status                                                      \n",
       "Female Middle class     12.314473  3.015373e+07  17959.337891  3487.889238  \n",
       "       Poor             12.138256  2.945541e+07  18004.529479  3421.548004  \n",
       "       Rich             11.731443  3.008959e+07  18050.141436  3561.846976  \n",
       "Male   Middle class     12.019694  3.012231e+07  17983.469736  3419.388155  \n",
       "       Poor             12.018720  3.092534e+07  17896.609675  3544.431612  \n",
       "       Rich             11.606097  2.892346e+07  17909.265903  3460.442179  "
      ],
      "text/html": "<div>\n<style scoped>\n    .dataframe tbody tr th:only-of-type {\n        vertical-align: middle;\n    }\n\n    .dataframe tbody tr th {\n        vertical-align: top;\n    }\n\n    .dataframe thead tr th {\n        text-align: left;\n    }\n\n    .dataframe thead tr:last-of-type th {\n        text-align: right;\n    }\n</style>\n<table border=\"1\" class=\"dataframe\">\n  <thead>\n    <tr>\n      <th></th>\n      <th></th>\n      <th colspan=\"3\" halign=\"left\">Height</th>\n      <th colspan=\"3\" halign=\"left\">Weigth</th>\n      <th colspan=\"3\" halign=\"left\">Age</th>\n      <th colspan=\"3\" halign=\"left\">Income</th>\n    </tr>\n    <tr>\n      <th></th>\n      <th></th>\n      <th>sum</th>\n      <th>mean</th>\n      <th>std</th>\n      <th>sum</th>\n      <th>mean</th>\n      <th>std</th>\n      <th>sum</th>\n      <th>mean</th>\n      <th>std</th>\n      <th>sum</th>\n      <th>mean</th>\n      <th>std</th>\n    </tr>\n    <tr>\n      <th>Gender</th>\n      <th>Economic Status</th>\n      <th></th>\n      <th></th>\n      <th></th>\n      <th></th>\n      <th></th>\n      <th></th>\n      <th></th>\n      <th></th>\n      <th></th>\n      <th></th>\n      <th></th>\n      <th></th>\n    </tr>\n  </thead>\n  <tbody>\n    <tr>\n      <th rowspan=\"3\" valign=\"top\">Female</th>\n      <th>Middle class</th>\n      <td>267104.505974</td>\n      <td>159.085471</td>\n      <td>24.647792</td>\n      <td>108763.742229</td>\n      <td>64.778882</td>\n      <td>25.395566</td>\n      <td>50679.234080</td>\n      <td>30.184178</td>\n      <td>12.314473</td>\n      <td>3.015373e+07</td>\n      <td>17959.337891</td>\n      <td>3487.889238</td>\n    </tr>\n    <tr>\n      <th>Poor</th>\n      <td>260754.626230</td>\n      <td>159.385468</td>\n      <td>24.765620</td>\n      <td>105930.542072</td>\n      <td>64.749720</td>\n      <td>24.674147</td>\n      <td>49131.928941</td>\n      <td>30.031741</td>\n      <td>12.138256</td>\n      <td>2.945541e+07</td>\n      <td>18004.529479</td>\n      <td>3421.548004</td>\n    </tr>\n    <tr>\n      <th>Rich</th>\n      <td>265335.029157</td>\n      <td>159.169184</td>\n      <td>25.698945</td>\n      <td>106759.487266</td>\n      <td>64.042884</td>\n      <td>25.798172</td>\n      <td>50245.893383</td>\n      <td>30.141508</td>\n      <td>11.731443</td>\n      <td>3.008959e+07</td>\n      <td>18050.141436</td>\n      <td>3561.846976</td>\n    </tr>\n    <tr>\n      <th rowspan=\"3\" valign=\"top\">Male</th>\n      <th>Middle class</th>\n      <td>268465.903789</td>\n      <td>160.278152</td>\n      <td>24.686328</td>\n      <td>109026.304091</td>\n      <td>65.090331</td>\n      <td>24.510301</td>\n      <td>50533.092363</td>\n      <td>30.169010</td>\n      <td>12.019694</td>\n      <td>3.012231e+07</td>\n      <td>17983.469736</td>\n      <td>3419.388155</td>\n    </tr>\n    <tr>\n      <th>Poor</th>\n      <td>275350.269183</td>\n      <td>159.346221</td>\n      <td>24.805373</td>\n      <td>111328.449413</td>\n      <td>64.426186</td>\n      <td>25.419265</td>\n      <td>51947.940564</td>\n      <td>30.062466</td>\n      <td>12.018720</td>\n      <td>3.092534e+07</td>\n      <td>17896.609675</td>\n      <td>3544.431612</td>\n    </tr>\n    <tr>\n      <th>Rich</th>\n      <td>259757.370339</td>\n      <td>160.840477</td>\n      <td>24.924109</td>\n      <td>104505.071521</td>\n      <td>64.709023</td>\n      <td>24.536494</td>\n      <td>48111.506986</td>\n      <td>29.790407</td>\n      <td>11.606097</td>\n      <td>2.892346e+07</td>\n      <td>17909.265903</td>\n      <td>3460.442179</td>\n    </tr>\n  </tbody>\n</table>\n</div>"
     },
     "metadata": {},
     "execution_count": 66
    }
   ],
   "source": [
    "gender_economic_group.aggregate([np.sum, np.mean, np.std])"
   ]
  },
  {
   "source": [
    "## Filtrado de datos"
   ],
   "cell_type": "markdown",
   "metadata": {}
  },
  {
   "cell_type": "code",
   "execution_count": 67,
   "metadata": {},
   "outputs": [
    {
     "output_type": "execute_result",
     "data": {
      "text/plain": [
       "0       35.901438\n",
       "1       54.614530\n",
       "2       -3.637084\n",
       "3       47.116698\n",
       "4       33.662894\n",
       "          ...    \n",
       "9995    41.622319\n",
       "9996    17.286849\n",
       "9997    22.195951\n",
       "9998     2.472855\n",
       "9999    39.173951\n",
       "Name: Age, Length: 10000, dtype: float64"
      ]
     },
     "metadata": {},
     "execution_count": 67
    }
   ],
   "source": [
    "gender_economic_group['Age'].filter(lambda x: x.sum() > 400)"
   ]
  },
  {
   "cell_type": "code",
   "execution_count": 68,
   "metadata": {},
   "outputs": [
    {
     "output_type": "execute_result",
     "data": {
      "text/plain": [
       "                               Height         Weigth           Age  \\\n",
       "Gender Economic Status                                               \n",
       "Female Middle class     267104.505974  108763.742229  50679.234080   \n",
       "       Poor             260754.626230  105930.542072  49131.928941   \n",
       "       Rich             265335.029157  106759.487266  50245.893383   \n",
       "Male   Middle class     268465.903789  109026.304091  50533.092363   \n",
       "       Poor             275350.269183  111328.449413  51947.940564   \n",
       "       Rich             259757.370339  104505.071521  48111.506986   \n",
       "\n",
       "                              Income  \n",
       "Gender Economic Status                \n",
       "Female Middle class     3.015373e+07  \n",
       "       Poor             2.945541e+07  \n",
       "       Rich             3.008959e+07  \n",
       "Male   Middle class     3.012231e+07  \n",
       "       Poor             3.092534e+07  \n",
       "       Rich             2.892346e+07  "
      ],
      "text/html": "<div>\n<style scoped>\n    .dataframe tbody tr th:only-of-type {\n        vertical-align: middle;\n    }\n\n    .dataframe tbody tr th {\n        vertical-align: top;\n    }\n\n    .dataframe thead th {\n        text-align: right;\n    }\n</style>\n<table border=\"1\" class=\"dataframe\">\n  <thead>\n    <tr style=\"text-align: right;\">\n      <th></th>\n      <th></th>\n      <th>Height</th>\n      <th>Weigth</th>\n      <th>Age</th>\n      <th>Income</th>\n    </tr>\n    <tr>\n      <th>Gender</th>\n      <th>Economic Status</th>\n      <th></th>\n      <th></th>\n      <th></th>\n      <th></th>\n    </tr>\n  </thead>\n  <tbody>\n    <tr>\n      <th rowspan=\"3\" valign=\"top\">Female</th>\n      <th>Middle class</th>\n      <td>267104.505974</td>\n      <td>108763.742229</td>\n      <td>50679.234080</td>\n      <td>3.015373e+07</td>\n    </tr>\n    <tr>\n      <th>Poor</th>\n      <td>260754.626230</td>\n      <td>105930.542072</td>\n      <td>49131.928941</td>\n      <td>2.945541e+07</td>\n    </tr>\n    <tr>\n      <th>Rich</th>\n      <td>265335.029157</td>\n      <td>106759.487266</td>\n      <td>50245.893383</td>\n      <td>3.008959e+07</td>\n    </tr>\n    <tr>\n      <th rowspan=\"3\" valign=\"top\">Male</th>\n      <th>Middle class</th>\n      <td>268465.903789</td>\n      <td>109026.304091</td>\n      <td>50533.092363</td>\n      <td>3.012231e+07</td>\n    </tr>\n    <tr>\n      <th>Poor</th>\n      <td>275350.269183</td>\n      <td>111328.449413</td>\n      <td>51947.940564</td>\n      <td>3.092534e+07</td>\n    </tr>\n    <tr>\n      <th>Rich</th>\n      <td>259757.370339</td>\n      <td>104505.071521</td>\n      <td>48111.506986</td>\n      <td>2.892346e+07</td>\n    </tr>\n  </tbody>\n</table>\n</div>"
     },
     "metadata": {},
     "execution_count": 68
    }
   ],
   "source": [
    "gender_economic_group.sum()"
   ]
  },
  {
   "source": [
    "## Transformación de variables"
   ],
   "cell_type": "markdown",
   "metadata": {}
  },
  {
   "cell_type": "code",
   "execution_count": 69,
   "metadata": {},
   "outputs": [],
   "source": [
    "zscore = lambda x: (x - x.mean() / x.std())"
   ]
  },
  {
   "cell_type": "code",
   "execution_count": 70,
   "metadata": {},
   "outputs": [
    {
     "output_type": "execute_result",
     "data": {
      "text/plain": [
       "          Height     Weigth        Age        Income\n",
       "0     152.705479  73.610623  33.450324  19237.546332\n",
       "1     109.648505  67.794428  52.047741  17127.059468\n",
       "2     160.383518  26.449549  -6.206376  20938.336932\n",
       "3     179.288670  41.012323  44.615394  14648.564577\n",
       "4     205.453509  62.154161  31.096104  16913.276697\n",
       "...          ...        ...        ...           ...\n",
       "9995  164.886316  22.448392  39.171205  22419.279917\n",
       "9996  158.759863  59.049398  14.776884  20456.913497\n",
       "9997  154.817725  81.722543  19.694647  16886.964415\n",
       "9998  184.429730  60.733516  -0.093935  17923.024425\n",
       "9999  114.935530  79.016368  36.663986  23346.593597\n",
       "\n",
       "[10000 rows x 4 columns]"
      ],
      "text/html": "<div>\n<style scoped>\n    .dataframe tbody tr th:only-of-type {\n        vertical-align: middle;\n    }\n\n    .dataframe tbody tr th {\n        vertical-align: top;\n    }\n\n    .dataframe thead th {\n        text-align: right;\n    }\n</style>\n<table border=\"1\" class=\"dataframe\">\n  <thead>\n    <tr style=\"text-align: right;\">\n      <th></th>\n      <th>Height</th>\n      <th>Weigth</th>\n      <th>Age</th>\n      <th>Income</th>\n    </tr>\n  </thead>\n  <tbody>\n    <tr>\n      <th>0</th>\n      <td>152.705479</td>\n      <td>73.610623</td>\n      <td>33.450324</td>\n      <td>19237.546332</td>\n    </tr>\n    <tr>\n      <th>1</th>\n      <td>109.648505</td>\n      <td>67.794428</td>\n      <td>52.047741</td>\n      <td>17127.059468</td>\n    </tr>\n    <tr>\n      <th>2</th>\n      <td>160.383518</td>\n      <td>26.449549</td>\n      <td>-6.206376</td>\n      <td>20938.336932</td>\n    </tr>\n    <tr>\n      <th>3</th>\n      <td>179.288670</td>\n      <td>41.012323</td>\n      <td>44.615394</td>\n      <td>14648.564577</td>\n    </tr>\n    <tr>\n      <th>4</th>\n      <td>205.453509</td>\n      <td>62.154161</td>\n      <td>31.096104</td>\n      <td>16913.276697</td>\n    </tr>\n    <tr>\n      <th>...</th>\n      <td>...</td>\n      <td>...</td>\n      <td>...</td>\n      <td>...</td>\n    </tr>\n    <tr>\n      <th>9995</th>\n      <td>164.886316</td>\n      <td>22.448392</td>\n      <td>39.171205</td>\n      <td>22419.279917</td>\n    </tr>\n    <tr>\n      <th>9996</th>\n      <td>158.759863</td>\n      <td>59.049398</td>\n      <td>14.776884</td>\n      <td>20456.913497</td>\n    </tr>\n    <tr>\n      <th>9997</th>\n      <td>154.817725</td>\n      <td>81.722543</td>\n      <td>19.694647</td>\n      <td>16886.964415</td>\n    </tr>\n    <tr>\n      <th>9998</th>\n      <td>184.429730</td>\n      <td>60.733516</td>\n      <td>-0.093935</td>\n      <td>17923.024425</td>\n    </tr>\n    <tr>\n      <th>9999</th>\n      <td>114.935530</td>\n      <td>79.016368</td>\n      <td>36.663986</td>\n      <td>23346.593597</td>\n    </tr>\n  </tbody>\n</table>\n<p>10000 rows × 4 columns</p>\n</div>"
     },
     "metadata": {},
     "execution_count": 70
    }
   ],
   "source": [
    "gender_economic_group.transform(zscore)"
   ]
  },
  {
   "cell_type": "code",
   "execution_count": 71,
   "metadata": {},
   "outputs": [
    {
     "output_type": "execute_result",
     "data": {
      "text/plain": [
       "(array([  18.,  135.,  571., 1765., 2894., 2756., 1400.,  392.,   62.,\n",
       "           7.]),\n",
       " array([-17.93472741,  -8.58345697,   0.76781346,  10.11908389,\n",
       "         19.47035433,  28.82162476,  38.17289519,  47.52416563,\n",
       "         56.87543606,  66.22670649,  75.57797693]),\n",
       " <BarContainer object of 10 artists>)"
      ]
     },
     "metadata": {},
     "execution_count": 71
    },
    {
     "output_type": "display_data",
     "data": {
      "text/plain": "<Figure size 432x288 with 1 Axes>",
      "image/svg+xml": "<?xml version=\"1.0\" encoding=\"utf-8\" standalone=\"no\"?>\r\n<!DOCTYPE svg PUBLIC \"-//W3C//DTD SVG 1.1//EN\"\r\n  \"http://www.w3.org/Graphics/SVG/1.1/DTD/svg11.dtd\">\r\n<!-- Created with matplotlib (https://matplotlib.org/) -->\r\n<svg height=\"249.548091pt\" version=\"1.1\" viewBox=\"0 0 387.187047 249.548091\" width=\"387.187047pt\" xmlns=\"http://www.w3.org/2000/svg\" xmlns:xlink=\"http://www.w3.org/1999/xlink\">\r\n <metadata>\r\n  <rdf:RDF xmlns:cc=\"http://creativecommons.org/ns#\" xmlns:dc=\"http://purl.org/dc/elements/1.1/\" xmlns:rdf=\"http://www.w3.org/1999/02/22-rdf-syntax-ns#\">\r\n   <cc:Work>\r\n    <dc:type rdf:resource=\"http://purl.org/dc/dcmitype/StillImage\"/>\r\n    <dc:date>2021-02-02T11:36:38.900691</dc:date>\r\n    <dc:format>image/svg+xml</dc:format>\r\n    <dc:creator>\r\n     <cc:Agent>\r\n      <dc:title>Matplotlib v3.3.3, https://matplotlib.org/</dc:title>\r\n     </cc:Agent>\r\n    </dc:creator>\r\n   </cc:Work>\r\n  </rdf:RDF>\r\n </metadata>\r\n <defs>\r\n  <style type=\"text/css\">*{stroke-linecap:butt;stroke-linejoin:round;}</style>\r\n </defs>\r\n <g id=\"figure_1\">\r\n  <g id=\"patch_1\">\r\n   <path d=\"M -0 249.548091 \r\nL 387.187047 249.548091 \r\nL 387.187047 0 \r\nL -0 0 \r\nz\r\n\" style=\"fill:none;\"/>\r\n  </g>\r\n  <g id=\"axes_1\">\r\n   <g id=\"patch_2\">\r\n    <path d=\"M 39.65 225.669966 \r\nL 374.45 225.669966 \r\nL 374.45 8.229966 \r\nL 39.65 8.229966 \r\nz\r\n\" style=\"fill:#ffffff;\"/>\r\n   </g>\r\n   <g id=\"patch_3\">\r\n    <path clip-path=\"url(#pb7e1f54f3c)\" d=\"M 54.868182 225.669966 \r\nL 85.304545 225.669966 \r\nL 85.304545 224.381942 \r\nL 54.868182 224.381942 \r\nz\r\n\" style=\"fill:#1f77b4;\"/>\r\n   </g>\r\n   <g id=\"patch_4\">\r\n    <path clip-path=\"url(#pb7e1f54f3c)\" d=\"M 85.304545 225.669966 \r\nL 115.740909 225.669966 \r\nL 115.740909 216.009782 \r\nL 85.304545 216.009782 \r\nz\r\n\" style=\"fill:#1f77b4;\"/>\r\n   </g>\r\n   <g id=\"patch_5\">\r\n    <path clip-path=\"url(#pb7e1f54f3c)\" d=\"M 115.740909 225.669966 \r\nL 146.177273 225.669966 \r\nL 146.177273 184.810967 \r\nL 115.740909 184.810967 \r\nz\r\n\" style=\"fill:#1f77b4;\"/>\r\n   </g>\r\n   <g id=\"patch_6\">\r\n    <path clip-path=\"url(#pb7e1f54f3c)\" d=\"M 146.177273 225.669966 \r\nL 176.613636 225.669966 \r\nL 176.613636 99.37201 \r\nL 146.177273 99.37201 \r\nz\r\n\" style=\"fill:#1f77b4;\"/>\r\n   </g>\r\n   <g id=\"patch_7\">\r\n    <path clip-path=\"url(#pb7e1f54f3c)\" d=\"M 176.613636 225.669966 \r\nL 207.05 225.669966 \r\nL 207.05 18.584252 \r\nL 176.613636 18.584252 \r\nz\r\n\" style=\"fill:#1f77b4;\"/>\r\n   </g>\r\n   <g id=\"patch_8\">\r\n    <path clip-path=\"url(#pb7e1f54f3c)\" d=\"M 207.05 225.669966 \r\nL 237.486364 225.669966 \r\nL 237.486364 28.459106 \r\nL 207.05 28.459106 \r\nz\r\n\" style=\"fill:#1f77b4;\"/>\r\n   </g>\r\n   <g id=\"patch_9\">\r\n    <path clip-path=\"url(#pb7e1f54f3c)\" d=\"M 237.486364 225.669966 \r\nL 267.922727 225.669966 \r\nL 267.922727 125.490284 \r\nL 237.486364 125.490284 \r\nz\r\n\" style=\"fill:#1f77b4;\"/>\r\n   </g>\r\n   <g id=\"patch_10\">\r\n    <path clip-path=\"url(#pb7e1f54f3c)\" d=\"M 267.922727 225.669966 \r\nL 298.359091 225.669966 \r\nL 298.359091 197.619655 \r\nL 267.922727 197.619655 \r\nz\r\n\" style=\"fill:#1f77b4;\"/>\r\n   </g>\r\n   <g id=\"patch_11\">\r\n    <path clip-path=\"url(#pb7e1f54f3c)\" d=\"M 298.359091 225.669966 \r\nL 328.795455 225.669966 \r\nL 328.795455 221.233437 \r\nL 298.359091 221.233437 \r\nz\r\n\" style=\"fill:#1f77b4;\"/>\r\n   </g>\r\n   <g id=\"patch_12\">\r\n    <path clip-path=\"url(#pb7e1f54f3c)\" d=\"M 328.795455 225.669966 \r\nL 359.231818 225.669966 \r\nL 359.231818 225.169068 \r\nL 328.795455 225.169068 \r\nz\r\n\" style=\"fill:#1f77b4;\"/>\r\n   </g>\r\n   <g id=\"matplotlib.axis_1\">\r\n    <g id=\"xtick_1\">\r\n     <g id=\"line2d_1\">\r\n      <defs>\r\n       <path d=\"M 0 0 \r\nL 0 3.5 \r\n\" id=\"med62ecc838\" style=\"stroke:#000000;stroke-width:0.8;\"/>\r\n      </defs>\r\n      <g>\r\n       <use style=\"stroke:#000000;stroke-width:0.8;\" x=\"48.146166\" xlink:href=\"#med62ecc838\" y=\"225.669966\"/>\r\n      </g>\r\n     </g>\r\n     <g id=\"text_1\">\r\n      <!-- −20 -->\r\n      <g transform=\"translate(37.593822 240.268404)scale(0.1 -0.1)\">\r\n       <defs>\r\n        <path d=\"M 10.59375 35.5 \r\nL 73.1875 35.5 \r\nL 73.1875 27.203125 \r\nL 10.59375 27.203125 \r\nz\r\n\" id=\"DejaVuSans-8722\"/>\r\n        <path d=\"M 19.1875 8.296875 \r\nL 53.609375 8.296875 \r\nL 53.609375 0 \r\nL 7.328125 0 \r\nL 7.328125 8.296875 \r\nQ 12.9375 14.109375 22.625 23.890625 \r\nQ 32.328125 33.6875 34.8125 36.53125 \r\nQ 39.546875 41.84375 41.421875 45.53125 \r\nQ 43.3125 49.21875 43.3125 52.78125 \r\nQ 43.3125 58.59375 39.234375 62.25 \r\nQ 35.15625 65.921875 28.609375 65.921875 \r\nQ 23.96875 65.921875 18.8125 64.3125 \r\nQ 13.671875 62.703125 7.8125 59.421875 \r\nL 7.8125 69.390625 \r\nQ 13.765625 71.78125 18.9375 73 \r\nQ 24.125 74.21875 28.421875 74.21875 \r\nQ 39.75 74.21875 46.484375 68.546875 \r\nQ 53.21875 62.890625 53.21875 53.421875 \r\nQ 53.21875 48.921875 51.53125 44.890625 \r\nQ 49.859375 40.875 45.40625 35.40625 \r\nQ 44.1875 33.984375 37.640625 27.21875 \r\nQ 31.109375 20.453125 19.1875 8.296875 \r\nz\r\n\" id=\"DejaVuSans-50\"/>\r\n        <path d=\"M 31.78125 66.40625 \r\nQ 24.171875 66.40625 20.328125 58.90625 \r\nQ 16.5 51.421875 16.5 36.375 \r\nQ 16.5 21.390625 20.328125 13.890625 \r\nQ 24.171875 6.390625 31.78125 6.390625 \r\nQ 39.453125 6.390625 43.28125 13.890625 \r\nQ 47.125 21.390625 47.125 36.375 \r\nQ 47.125 51.421875 43.28125 58.90625 \r\nQ 39.453125 66.40625 31.78125 66.40625 \r\nz\r\nM 31.78125 74.21875 \r\nQ 44.046875 74.21875 50.515625 64.515625 \r\nQ 56.984375 54.828125 56.984375 36.375 \r\nQ 56.984375 17.96875 50.515625 8.265625 \r\nQ 44.046875 -1.421875 31.78125 -1.421875 \r\nQ 19.53125 -1.421875 13.0625 8.265625 \r\nQ 6.59375 17.96875 6.59375 36.375 \r\nQ 6.59375 54.828125 13.0625 64.515625 \r\nQ 19.53125 74.21875 31.78125 74.21875 \r\nz\r\n\" id=\"DejaVuSans-48\"/>\r\n       </defs>\r\n       <use xlink:href=\"#DejaVuSans-8722\"/>\r\n       <use x=\"83.789062\" xlink:href=\"#DejaVuSans-50\"/>\r\n       <use x=\"147.412109\" xlink:href=\"#DejaVuSans-48\"/>\r\n      </g>\r\n     </g>\r\n    </g>\r\n    <g id=\"xtick_2\">\r\n     <g id=\"line2d_2\">\r\n      <g>\r\n       <use style=\"stroke:#000000;stroke-width:0.8;\" x=\"113.241842\" xlink:href=\"#med62ecc838\" y=\"225.669966\"/>\r\n      </g>\r\n     </g>\r\n     <g id=\"text_2\">\r\n      <!-- 0 -->\r\n      <g transform=\"translate(110.060592 240.268404)scale(0.1 -0.1)\">\r\n       <use xlink:href=\"#DejaVuSans-48\"/>\r\n      </g>\r\n     </g>\r\n    </g>\r\n    <g id=\"xtick_3\">\r\n     <g id=\"line2d_3\">\r\n      <g>\r\n       <use style=\"stroke:#000000;stroke-width:0.8;\" x=\"178.337519\" xlink:href=\"#med62ecc838\" y=\"225.669966\"/>\r\n      </g>\r\n     </g>\r\n     <g id=\"text_3\">\r\n      <!-- 20 -->\r\n      <g transform=\"translate(171.975019 240.268404)scale(0.1 -0.1)\">\r\n       <use xlink:href=\"#DejaVuSans-50\"/>\r\n       <use x=\"63.623047\" xlink:href=\"#DejaVuSans-48\"/>\r\n      </g>\r\n     </g>\r\n    </g>\r\n    <g id=\"xtick_4\">\r\n     <g id=\"line2d_4\">\r\n      <g>\r\n       <use style=\"stroke:#000000;stroke-width:0.8;\" x=\"243.433195\" xlink:href=\"#med62ecc838\" y=\"225.669966\"/>\r\n      </g>\r\n     </g>\r\n     <g id=\"text_4\">\r\n      <!-- 40 -->\r\n      <g transform=\"translate(237.070695 240.268404)scale(0.1 -0.1)\">\r\n       <defs>\r\n        <path d=\"M 37.796875 64.3125 \r\nL 12.890625 25.390625 \r\nL 37.796875 25.390625 \r\nz\r\nM 35.203125 72.90625 \r\nL 47.609375 72.90625 \r\nL 47.609375 25.390625 \r\nL 58.015625 25.390625 \r\nL 58.015625 17.1875 \r\nL 47.609375 17.1875 \r\nL 47.609375 0 \r\nL 37.796875 0 \r\nL 37.796875 17.1875 \r\nL 4.890625 17.1875 \r\nL 4.890625 26.703125 \r\nz\r\n\" id=\"DejaVuSans-52\"/>\r\n       </defs>\r\n       <use xlink:href=\"#DejaVuSans-52\"/>\r\n       <use x=\"63.623047\" xlink:href=\"#DejaVuSans-48\"/>\r\n      </g>\r\n     </g>\r\n    </g>\r\n    <g id=\"xtick_5\">\r\n     <g id=\"line2d_5\">\r\n      <g>\r\n       <use style=\"stroke:#000000;stroke-width:0.8;\" x=\"308.528871\" xlink:href=\"#med62ecc838\" y=\"225.669966\"/>\r\n      </g>\r\n     </g>\r\n     <g id=\"text_5\">\r\n      <!-- 60 -->\r\n      <g transform=\"translate(302.166371 240.268404)scale(0.1 -0.1)\">\r\n       <defs>\r\n        <path d=\"M 33.015625 40.375 \r\nQ 26.375 40.375 22.484375 35.828125 \r\nQ 18.609375 31.296875 18.609375 23.390625 \r\nQ 18.609375 15.53125 22.484375 10.953125 \r\nQ 26.375 6.390625 33.015625 6.390625 \r\nQ 39.65625 6.390625 43.53125 10.953125 \r\nQ 47.40625 15.53125 47.40625 23.390625 \r\nQ 47.40625 31.296875 43.53125 35.828125 \r\nQ 39.65625 40.375 33.015625 40.375 \r\nz\r\nM 52.59375 71.296875 \r\nL 52.59375 62.3125 \r\nQ 48.875 64.0625 45.09375 64.984375 \r\nQ 41.3125 65.921875 37.59375 65.921875 \r\nQ 27.828125 65.921875 22.671875 59.328125 \r\nQ 17.53125 52.734375 16.796875 39.40625 \r\nQ 19.671875 43.65625 24.015625 45.921875 \r\nQ 28.375 48.1875 33.59375 48.1875 \r\nQ 44.578125 48.1875 50.953125 41.515625 \r\nQ 57.328125 34.859375 57.328125 23.390625 \r\nQ 57.328125 12.15625 50.6875 5.359375 \r\nQ 44.046875 -1.421875 33.015625 -1.421875 \r\nQ 20.359375 -1.421875 13.671875 8.265625 \r\nQ 6.984375 17.96875 6.984375 36.375 \r\nQ 6.984375 53.65625 15.1875 63.9375 \r\nQ 23.390625 74.21875 37.203125 74.21875 \r\nQ 40.921875 74.21875 44.703125 73.484375 \r\nQ 48.484375 72.75 52.59375 71.296875 \r\nz\r\n\" id=\"DejaVuSans-54\"/>\r\n       </defs>\r\n       <use xlink:href=\"#DejaVuSans-54\"/>\r\n       <use x=\"63.623047\" xlink:href=\"#DejaVuSans-48\"/>\r\n      </g>\r\n     </g>\r\n    </g>\r\n    <g id=\"xtick_6\">\r\n     <g id=\"line2d_6\">\r\n      <g>\r\n       <use style=\"stroke:#000000;stroke-width:0.8;\" x=\"373.624547\" xlink:href=\"#med62ecc838\" y=\"225.669966\"/>\r\n      </g>\r\n     </g>\r\n     <g id=\"text_6\">\r\n      <!-- 80 -->\r\n      <g transform=\"translate(367.262047 240.268404)scale(0.1 -0.1)\">\r\n       <defs>\r\n        <path d=\"M 31.78125 34.625 \r\nQ 24.75 34.625 20.71875 30.859375 \r\nQ 16.703125 27.09375 16.703125 20.515625 \r\nQ 16.703125 13.921875 20.71875 10.15625 \r\nQ 24.75 6.390625 31.78125 6.390625 \r\nQ 38.8125 6.390625 42.859375 10.171875 \r\nQ 46.921875 13.96875 46.921875 20.515625 \r\nQ 46.921875 27.09375 42.890625 30.859375 \r\nQ 38.875 34.625 31.78125 34.625 \r\nz\r\nM 21.921875 38.8125 \r\nQ 15.578125 40.375 12.03125 44.71875 \r\nQ 8.5 49.078125 8.5 55.328125 \r\nQ 8.5 64.0625 14.71875 69.140625 \r\nQ 20.953125 74.21875 31.78125 74.21875 \r\nQ 42.671875 74.21875 48.875 69.140625 \r\nQ 55.078125 64.0625 55.078125 55.328125 \r\nQ 55.078125 49.078125 51.53125 44.71875 \r\nQ 48 40.375 41.703125 38.8125 \r\nQ 48.828125 37.15625 52.796875 32.3125 \r\nQ 56.78125 27.484375 56.78125 20.515625 \r\nQ 56.78125 9.90625 50.3125 4.234375 \r\nQ 43.84375 -1.421875 31.78125 -1.421875 \r\nQ 19.734375 -1.421875 13.25 4.234375 \r\nQ 6.78125 9.90625 6.78125 20.515625 \r\nQ 6.78125 27.484375 10.78125 32.3125 \r\nQ 14.796875 37.15625 21.921875 38.8125 \r\nz\r\nM 18.3125 54.390625 \r\nQ 18.3125 48.734375 21.84375 45.5625 \r\nQ 25.390625 42.390625 31.78125 42.390625 \r\nQ 38.140625 42.390625 41.71875 45.5625 \r\nQ 45.3125 48.734375 45.3125 54.390625 \r\nQ 45.3125 60.0625 41.71875 63.234375 \r\nQ 38.140625 66.40625 31.78125 66.40625 \r\nQ 25.390625 66.40625 21.84375 63.234375 \r\nQ 18.3125 60.0625 18.3125 54.390625 \r\nz\r\n\" id=\"DejaVuSans-56\"/>\r\n       </defs>\r\n       <use xlink:href=\"#DejaVuSans-56\"/>\r\n       <use x=\"63.623047\" xlink:href=\"#DejaVuSans-48\"/>\r\n      </g>\r\n     </g>\r\n    </g>\r\n   </g>\r\n   <g id=\"matplotlib.axis_2\">\r\n    <g id=\"ytick_1\">\r\n     <g id=\"line2d_7\">\r\n      <defs>\r\n       <path d=\"M 0 0 \r\nL -3.5 0 \r\n\" id=\"mb208d7b901\" style=\"stroke:#000000;stroke-width:0.8;\"/>\r\n      </defs>\r\n      <g>\r\n       <use style=\"stroke:#000000;stroke-width:0.8;\" x=\"39.65\" xlink:href=\"#mb208d7b901\" y=\"225.669966\"/>\r\n      </g>\r\n     </g>\r\n     <g id=\"text_7\">\r\n      <!-- 0 -->\r\n      <g transform=\"translate(26.2875 229.469185)scale(0.1 -0.1)\">\r\n       <use xlink:href=\"#DejaVuSans-48\"/>\r\n      </g>\r\n     </g>\r\n    </g>\r\n    <g id=\"ytick_2\">\r\n     <g id=\"line2d_8\">\r\n      <g>\r\n       <use style=\"stroke:#000000;stroke-width:0.8;\" x=\"39.65\" xlink:href=\"#mb208d7b901\" y=\"189.891508\"/>\r\n      </g>\r\n     </g>\r\n     <g id=\"text_8\">\r\n      <!-- 500 -->\r\n      <g transform=\"translate(13.5625 193.690727)scale(0.1 -0.1)\">\r\n       <defs>\r\n        <path d=\"M 10.796875 72.90625 \r\nL 49.515625 72.90625 \r\nL 49.515625 64.59375 \r\nL 19.828125 64.59375 \r\nL 19.828125 46.734375 \r\nQ 21.96875 47.46875 24.109375 47.828125 \r\nQ 26.265625 48.1875 28.421875 48.1875 \r\nQ 40.625 48.1875 47.75 41.5 \r\nQ 54.890625 34.8125 54.890625 23.390625 \r\nQ 54.890625 11.625 47.5625 5.09375 \r\nQ 40.234375 -1.421875 26.90625 -1.421875 \r\nQ 22.3125 -1.421875 17.546875 -0.640625 \r\nQ 12.796875 0.140625 7.71875 1.703125 \r\nL 7.71875 11.625 \r\nQ 12.109375 9.234375 16.796875 8.0625 \r\nQ 21.484375 6.890625 26.703125 6.890625 \r\nQ 35.15625 6.890625 40.078125 11.328125 \r\nQ 45.015625 15.765625 45.015625 23.390625 \r\nQ 45.015625 31 40.078125 35.4375 \r\nQ 35.15625 39.890625 26.703125 39.890625 \r\nQ 22.75 39.890625 18.8125 39.015625 \r\nQ 14.890625 38.140625 10.796875 36.28125 \r\nz\r\n\" id=\"DejaVuSans-53\"/>\r\n       </defs>\r\n       <use xlink:href=\"#DejaVuSans-53\"/>\r\n       <use x=\"63.623047\" xlink:href=\"#DejaVuSans-48\"/>\r\n       <use x=\"127.246094\" xlink:href=\"#DejaVuSans-48\"/>\r\n      </g>\r\n     </g>\r\n    </g>\r\n    <g id=\"ytick_3\">\r\n     <g id=\"line2d_9\">\r\n      <g>\r\n       <use style=\"stroke:#000000;stroke-width:0.8;\" x=\"39.65\" xlink:href=\"#mb208d7b901\" y=\"154.11305\"/>\r\n      </g>\r\n     </g>\r\n     <g id=\"text_9\">\r\n      <!-- 1000 -->\r\n      <g transform=\"translate(7.2 157.912269)scale(0.1 -0.1)\">\r\n       <defs>\r\n        <path d=\"M 12.40625 8.296875 \r\nL 28.515625 8.296875 \r\nL 28.515625 63.921875 \r\nL 10.984375 60.40625 \r\nL 10.984375 69.390625 \r\nL 28.421875 72.90625 \r\nL 38.28125 72.90625 \r\nL 38.28125 8.296875 \r\nL 54.390625 8.296875 \r\nL 54.390625 0 \r\nL 12.40625 0 \r\nz\r\n\" id=\"DejaVuSans-49\"/>\r\n       </defs>\r\n       <use xlink:href=\"#DejaVuSans-49\"/>\r\n       <use x=\"63.623047\" xlink:href=\"#DejaVuSans-48\"/>\r\n       <use x=\"127.246094\" xlink:href=\"#DejaVuSans-48\"/>\r\n       <use x=\"190.869141\" xlink:href=\"#DejaVuSans-48\"/>\r\n      </g>\r\n     </g>\r\n    </g>\r\n    <g id=\"ytick_4\">\r\n     <g id=\"line2d_10\">\r\n      <g>\r\n       <use style=\"stroke:#000000;stroke-width:0.8;\" x=\"39.65\" xlink:href=\"#mb208d7b901\" y=\"118.334592\"/>\r\n      </g>\r\n     </g>\r\n     <g id=\"text_10\">\r\n      <!-- 1500 -->\r\n      <g transform=\"translate(7.2 122.133811)scale(0.1 -0.1)\">\r\n       <use xlink:href=\"#DejaVuSans-49\"/>\r\n       <use x=\"63.623047\" xlink:href=\"#DejaVuSans-53\"/>\r\n       <use x=\"127.246094\" xlink:href=\"#DejaVuSans-48\"/>\r\n       <use x=\"190.869141\" xlink:href=\"#DejaVuSans-48\"/>\r\n      </g>\r\n     </g>\r\n    </g>\r\n    <g id=\"ytick_5\">\r\n     <g id=\"line2d_11\">\r\n      <g>\r\n       <use style=\"stroke:#000000;stroke-width:0.8;\" x=\"39.65\" xlink:href=\"#mb208d7b901\" y=\"82.556135\"/>\r\n      </g>\r\n     </g>\r\n     <g id=\"text_11\">\r\n      <!-- 2000 -->\r\n      <g transform=\"translate(7.2 86.355353)scale(0.1 -0.1)\">\r\n       <use xlink:href=\"#DejaVuSans-50\"/>\r\n       <use x=\"63.623047\" xlink:href=\"#DejaVuSans-48\"/>\r\n       <use x=\"127.246094\" xlink:href=\"#DejaVuSans-48\"/>\r\n       <use x=\"190.869141\" xlink:href=\"#DejaVuSans-48\"/>\r\n      </g>\r\n     </g>\r\n    </g>\r\n    <g id=\"ytick_6\">\r\n     <g id=\"line2d_12\">\r\n      <g>\r\n       <use style=\"stroke:#000000;stroke-width:0.8;\" x=\"39.65\" xlink:href=\"#mb208d7b901\" y=\"46.777677\"/>\r\n      </g>\r\n     </g>\r\n     <g id=\"text_12\">\r\n      <!-- 2500 -->\r\n      <g transform=\"translate(7.2 50.576895)scale(0.1 -0.1)\">\r\n       <use xlink:href=\"#DejaVuSans-50\"/>\r\n       <use x=\"63.623047\" xlink:href=\"#DejaVuSans-53\"/>\r\n       <use x=\"127.246094\" xlink:href=\"#DejaVuSans-48\"/>\r\n       <use x=\"190.869141\" xlink:href=\"#DejaVuSans-48\"/>\r\n      </g>\r\n     </g>\r\n    </g>\r\n    <g id=\"ytick_7\">\r\n     <g id=\"line2d_13\">\r\n      <g>\r\n       <use style=\"stroke:#000000;stroke-width:0.8;\" x=\"39.65\" xlink:href=\"#mb208d7b901\" y=\"10.999219\"/>\r\n      </g>\r\n     </g>\r\n     <g id=\"text_13\">\r\n      <!-- 3000 -->\r\n      <g transform=\"translate(7.2 14.798437)scale(0.1 -0.1)\">\r\n       <defs>\r\n        <path d=\"M 40.578125 39.3125 \r\nQ 47.65625 37.796875 51.625 33 \r\nQ 55.609375 28.21875 55.609375 21.1875 \r\nQ 55.609375 10.40625 48.1875 4.484375 \r\nQ 40.765625 -1.421875 27.09375 -1.421875 \r\nQ 22.515625 -1.421875 17.65625 -0.515625 \r\nQ 12.796875 0.390625 7.625 2.203125 \r\nL 7.625 11.71875 \r\nQ 11.71875 9.328125 16.59375 8.109375 \r\nQ 21.484375 6.890625 26.8125 6.890625 \r\nQ 36.078125 6.890625 40.9375 10.546875 \r\nQ 45.796875 14.203125 45.796875 21.1875 \r\nQ 45.796875 27.640625 41.28125 31.265625 \r\nQ 36.765625 34.90625 28.71875 34.90625 \r\nL 20.21875 34.90625 \r\nL 20.21875 43.015625 \r\nL 29.109375 43.015625 \r\nQ 36.375 43.015625 40.234375 45.921875 \r\nQ 44.09375 48.828125 44.09375 54.296875 \r\nQ 44.09375 59.90625 40.109375 62.90625 \r\nQ 36.140625 65.921875 28.71875 65.921875 \r\nQ 24.65625 65.921875 20.015625 65.03125 \r\nQ 15.375 64.15625 9.8125 62.3125 \r\nL 9.8125 71.09375 \r\nQ 15.4375 72.65625 20.34375 73.4375 \r\nQ 25.25 74.21875 29.59375 74.21875 \r\nQ 40.828125 74.21875 47.359375 69.109375 \r\nQ 53.90625 64.015625 53.90625 55.328125 \r\nQ 53.90625 49.265625 50.4375 45.09375 \r\nQ 46.96875 40.921875 40.578125 39.3125 \r\nz\r\n\" id=\"DejaVuSans-51\"/>\r\n       </defs>\r\n       <use xlink:href=\"#DejaVuSans-51\"/>\r\n       <use x=\"63.623047\" xlink:href=\"#DejaVuSans-48\"/>\r\n       <use x=\"127.246094\" xlink:href=\"#DejaVuSans-48\"/>\r\n       <use x=\"190.869141\" xlink:href=\"#DejaVuSans-48\"/>\r\n      </g>\r\n     </g>\r\n    </g>\r\n   </g>\r\n   <g id=\"patch_13\">\r\n    <path d=\"M 39.65 225.669966 \r\nL 39.65 8.229966 \r\n\" style=\"fill:none;stroke:#000000;stroke-linecap:square;stroke-linejoin:miter;stroke-width:0.8;\"/>\r\n   </g>\r\n   <g id=\"patch_14\">\r\n    <path d=\"M 374.45 225.669966 \r\nL 374.45 8.229966 \r\n\" style=\"fill:none;stroke:#000000;stroke-linecap:square;stroke-linejoin:miter;stroke-width:0.8;\"/>\r\n   </g>\r\n   <g id=\"patch_15\">\r\n    <path d=\"M 39.65 225.669966 \r\nL 374.45 225.669966 \r\n\" style=\"fill:none;stroke:#000000;stroke-linecap:square;stroke-linejoin:miter;stroke-width:0.8;\"/>\r\n   </g>\r\n   <g id=\"patch_16\">\r\n    <path d=\"M 39.65 8.229966 \r\nL 374.45 8.229966 \r\n\" style=\"fill:none;stroke:#000000;stroke-linecap:square;stroke-linejoin:miter;stroke-width:0.8;\"/>\r\n   </g>\r\n  </g>\r\n </g>\r\n <defs>\r\n  <clipPath id=\"pb7e1f54f3c\">\r\n   <rect height=\"217.44\" width=\"334.8\" x=\"39.65\" y=\"8.229966\"/>\r\n  </clipPath>\r\n </defs>\r\n</svg>\r\n",
      "image/png": "[encoded data removed]"
     },
     "metadata": {
      "needs_background": "light"
     }
    }
   ],
   "source": [
    "plt.hist(gender_economic_group.transform(zscore)['Age'])"
   ]
  },
  {
   "cell_type": "code",
   "execution_count": 72,
   "metadata": {},
   "outputs": [],
   "source": [
    "fill_na_mean = lambda x: x.fillna(x.mean())"
   ]
  },
  {
   "cell_type": "code",
   "execution_count": 73,
   "metadata": {},
   "outputs": [
    {
     "output_type": "execute_result",
     "data": {
      "text/plain": [
       "          Height     Weigth        Age        Income\n",
       "0     159.159829  76.161417  35.901438  19242.695388\n",
       "1     116.101714  70.431684  54.614530  17132.234895\n",
       "2     166.577126  28.932007  -3.637084  20943.404568\n",
       "3     185.712529  43.546864  47.116698  14653.613795\n",
       "4     211.906718  64.791417  33.662894  16918.452124\n",
       "...          ...        ...        ...           ...\n",
       "9995  171.340666  24.999187  41.622319  22424.428973\n",
       "9996  165.252451  61.705029  17.286849  20462.172762\n",
       "9997  161.241584  84.257084  22.195951  16892.013633\n",
       "9998  190.882939  63.370772   2.472855  17928.199852\n",
       "9999  121.428118  81.672000  39.173951  23351.852862\n",
       "\n",
       "[10000 rows x 4 columns]"
      ],
      "text/html": "<div>\n<style scoped>\n    .dataframe tbody tr th:only-of-type {\n        vertical-align: middle;\n    }\n\n    .dataframe tbody tr th {\n        vertical-align: top;\n    }\n\n    .dataframe thead th {\n        text-align: right;\n    }\n</style>\n<table border=\"1\" class=\"dataframe\">\n  <thead>\n    <tr style=\"text-align: right;\">\n      <th></th>\n      <th>Height</th>\n      <th>Weigth</th>\n      <th>Age</th>\n      <th>Income</th>\n    </tr>\n  </thead>\n  <tbody>\n    <tr>\n      <th>0</th>\n      <td>159.159829</td>\n      <td>76.161417</td>\n      <td>35.901438</td>\n      <td>19242.695388</td>\n    </tr>\n    <tr>\n      <th>1</th>\n      <td>116.101714</td>\n      <td>70.431684</td>\n      <td>54.614530</td>\n      <td>17132.234895</td>\n    </tr>\n    <tr>\n      <th>2</th>\n      <td>166.577126</td>\n      <td>28.932007</td>\n      <td>-3.637084</td>\n      <td>20943.404568</td>\n    </tr>\n    <tr>\n      <th>3</th>\n      <td>185.712529</td>\n      <td>43.546864</td>\n      <td>47.116698</td>\n      <td>14653.613795</td>\n    </tr>\n    <tr>\n      <th>4</th>\n      <td>211.906718</td>\n      <td>64.791417</td>\n      <td>33.662894</td>\n      <td>16918.452124</td>\n    </tr>\n    <tr>\n      <th>...</th>\n      <td>...</td>\n      <td>...</td>\n      <td>...</td>\n      <td>...</td>\n    </tr>\n    <tr>\n      <th>9995</th>\n      <td>171.340666</td>\n      <td>24.999187</td>\n      <td>41.622319</td>\n      <td>22424.428973</td>\n    </tr>\n    <tr>\n      <th>9996</th>\n      <td>165.252451</td>\n      <td>61.705029</td>\n      <td>17.286849</td>\n      <td>20462.172762</td>\n    </tr>\n    <tr>\n      <th>9997</th>\n      <td>161.241584</td>\n      <td>84.257084</td>\n      <td>22.195951</td>\n      <td>16892.013633</td>\n    </tr>\n    <tr>\n      <th>9998</th>\n      <td>190.882939</td>\n      <td>63.370772</td>\n      <td>2.472855</td>\n      <td>17928.199852</td>\n    </tr>\n    <tr>\n      <th>9999</th>\n      <td>121.428118</td>\n      <td>81.672000</td>\n      <td>39.173951</td>\n      <td>23351.852862</td>\n    </tr>\n  </tbody>\n</table>\n<p>10000 rows × 4 columns</p>\n</div>"
     },
     "metadata": {},
     "execution_count": 73
    }
   ],
   "source": [
    "gender_economic_group.transform(fill_na_mean)"
   ]
  },
  {
   "source": [
    "## Operaciones diversas"
   ],
   "cell_type": "markdown",
   "metadata": {}
  },
  {
   "cell_type": "code",
   "execution_count": 74,
   "metadata": {},
   "outputs": [
    {
     "output_type": "execute_result",
     "data": {
      "text/plain": [
       "   Gender Economic Status      Height      Weigth        Age        Income\n",
       "0  Female    Middle class  159.159829   76.161417  35.901438  19242.695388\n",
       "1    Male            Rich  116.101714   70.431684  54.614530  17132.234895\n",
       "2  Female            Rich  166.577126   28.932007  -3.637084  20943.404568\n",
       "3    Male            Poor  185.712529   43.546864  47.116698  14653.613795\n",
       "5  Female            Poor  135.549625   50.668597  65.694614  13636.146504\n",
       "6    Male    Middle class  149.548370  104.898354   8.974338  18449.833968"
      ],
      "text/html": "<div>\n<style scoped>\n    .dataframe tbody tr th:only-of-type {\n        vertical-align: middle;\n    }\n\n    .dataframe tbody tr th {\n        vertical-align: top;\n    }\n\n    .dataframe thead th {\n        text-align: right;\n    }\n</style>\n<table border=\"1\" class=\"dataframe\">\n  <thead>\n    <tr style=\"text-align: right;\">\n      <th></th>\n      <th>Gender</th>\n      <th>Economic Status</th>\n      <th>Height</th>\n      <th>Weigth</th>\n      <th>Age</th>\n      <th>Income</th>\n    </tr>\n  </thead>\n  <tbody>\n    <tr>\n      <th>0</th>\n      <td>Female</td>\n      <td>Middle class</td>\n      <td>159.159829</td>\n      <td>76.161417</td>\n      <td>35.901438</td>\n      <td>19242.695388</td>\n    </tr>\n    <tr>\n      <th>1</th>\n      <td>Male</td>\n      <td>Rich</td>\n      <td>116.101714</td>\n      <td>70.431684</td>\n      <td>54.614530</td>\n      <td>17132.234895</td>\n    </tr>\n    <tr>\n      <th>2</th>\n      <td>Female</td>\n      <td>Rich</td>\n      <td>166.577126</td>\n      <td>28.932007</td>\n      <td>-3.637084</td>\n      <td>20943.404568</td>\n    </tr>\n    <tr>\n      <th>3</th>\n      <td>Male</td>\n      <td>Poor</td>\n      <td>185.712529</td>\n      <td>43.546864</td>\n      <td>47.116698</td>\n      <td>14653.613795</td>\n    </tr>\n    <tr>\n      <th>5</th>\n      <td>Female</td>\n      <td>Poor</td>\n      <td>135.549625</td>\n      <td>50.668597</td>\n      <td>65.694614</td>\n      <td>13636.146504</td>\n    </tr>\n    <tr>\n      <th>6</th>\n      <td>Male</td>\n      <td>Middle class</td>\n      <td>149.548370</td>\n      <td>104.898354</td>\n      <td>8.974338</td>\n      <td>18449.833968</td>\n    </tr>\n  </tbody>\n</table>\n</div>"
     },
     "metadata": {},
     "execution_count": 74
    }
   ],
   "source": [
    "    gender_economic_group.head(1)"
   ]
  },
  {
   "cell_type": "code",
   "execution_count": 75,
   "metadata": {},
   "outputs": [
    {
     "output_type": "execute_result",
     "data": {
      "text/plain": [
       "                            Height      Weigth        Age        Income\n",
       "Gender Economic Status                                                 \n",
       "Female Middle class     180.664979   61.873761  24.936401  19097.839524\n",
       "       Poor             219.243849  101.234765  29.113265  11424.175396\n",
       "       Rich             169.814031   67.944734  28.582080  18185.672536\n",
       "Male   Middle class     145.753729   78.804104  30.349007  18524.400417\n",
       "       Poor             140.877989   72.303088  35.854024  19601.358159\n",
       "       Rich             190.522700   65.323256   4.064315  15151.553109"
      ],
      "text/html": "<div>\n<style scoped>\n    .dataframe tbody tr th:only-of-type {\n        vertical-align: middle;\n    }\n\n    .dataframe tbody tr th {\n        vertical-align: top;\n    }\n\n    .dataframe thead th {\n        text-align: right;\n    }\n</style>\n<table border=\"1\" class=\"dataframe\">\n  <thead>\n    <tr style=\"text-align: right;\">\n      <th></th>\n      <th></th>\n      <th>Height</th>\n      <th>Weigth</th>\n      <th>Age</th>\n      <th>Income</th>\n    </tr>\n    <tr>\n      <th>Gender</th>\n      <th>Economic Status</th>\n      <th></th>\n      <th></th>\n      <th></th>\n      <th></th>\n    </tr>\n  </thead>\n  <tbody>\n    <tr>\n      <th rowspan=\"3\" valign=\"top\">Female</th>\n      <th>Middle class</th>\n      <td>180.664979</td>\n      <td>61.873761</td>\n      <td>24.936401</td>\n      <td>19097.839524</td>\n    </tr>\n    <tr>\n      <th>Poor</th>\n      <td>219.243849</td>\n      <td>101.234765</td>\n      <td>29.113265</td>\n      <td>11424.175396</td>\n    </tr>\n    <tr>\n      <th>Rich</th>\n      <td>169.814031</td>\n      <td>67.944734</td>\n      <td>28.582080</td>\n      <td>18185.672536</td>\n    </tr>\n    <tr>\n      <th rowspan=\"3\" valign=\"top\">Male</th>\n      <th>Middle class</th>\n      <td>145.753729</td>\n      <td>78.804104</td>\n      <td>30.349007</td>\n      <td>18524.400417</td>\n    </tr>\n    <tr>\n      <th>Poor</th>\n      <td>140.877989</td>\n      <td>72.303088</td>\n      <td>35.854024</td>\n      <td>19601.358159</td>\n    </tr>\n    <tr>\n      <th>Rich</th>\n      <td>190.522700</td>\n      <td>65.323256</td>\n      <td>4.064315</td>\n      <td>15151.553109</td>\n    </tr>\n  </tbody>\n</table>\n</div>"
     },
     "metadata": {},
     "execution_count": 75
    }
   ],
   "source": [
    "gender_economic_group.nth(5)"
   ]
  },
  {
   "cell_type": "code",
   "execution_count": 78,
   "metadata": {},
   "outputs": [
    {
     "output_type": "execute_result",
     "data": {
      "text/plain": [
       "      Gender Economic Status      Height     Weigth        Age        Income\n",
       "6721  Female    Middle class  106.753882  63.750814 -15.483613  14823.051842\n",
       "3123  Female    Middle class  198.970102  85.456404 -14.510708  16138.706107\n",
       "9833  Female            Poor  173.876417  62.192157 -11.945088  17496.817836\n",
       "3020  Female            Poor  172.692488  87.029120 -11.510052  16878.258491\n",
       "9482    Male            Poor  192.943659  45.735221 -10.750124  20608.024401\n",
       "1269  Female    Middle class  156.357974  45.163676 -10.633133  20718.032968\n",
       "6666    Male    Middle class  162.179818  20.873460 -10.396452  18962.813691\n",
       "9275  Female    Middle class  140.817325  68.075292  -9.505143  23378.319414\n",
       "895     Male            Poor  170.595460  52.938165  -8.822094  15812.472252\n",
       "6131  Female            Rich  180.540882  65.297945  -8.274101  16828.389404"
      ],
      "text/html": "<div>\n<style scoped>\n    .dataframe tbody tr th:only-of-type {\n        vertical-align: middle;\n    }\n\n    .dataframe tbody tr th {\n        vertical-align: top;\n    }\n\n    .dataframe thead th {\n        text-align: right;\n    }\n</style>\n<table border=\"1\" class=\"dataframe\">\n  <thead>\n    <tr style=\"text-align: right;\">\n      <th></th>\n      <th>Gender</th>\n      <th>Economic Status</th>\n      <th>Height</th>\n      <th>Weigth</th>\n      <th>Age</th>\n      <th>Income</th>\n    </tr>\n  </thead>\n  <tbody>\n    <tr>\n      <th>6721</th>\n      <td>Female</td>\n      <td>Middle class</td>\n      <td>106.753882</td>\n      <td>63.750814</td>\n      <td>-15.483613</td>\n      <td>14823.051842</td>\n    </tr>\n    <tr>\n      <th>3123</th>\n      <td>Female</td>\n      <td>Middle class</td>\n      <td>198.970102</td>\n      <td>85.456404</td>\n      <td>-14.510708</td>\n      <td>16138.706107</td>\n    </tr>\n    <tr>\n      <th>9833</th>\n      <td>Female</td>\n      <td>Poor</td>\n      <td>173.876417</td>\n      <td>62.192157</td>\n      <td>-11.945088</td>\n      <td>17496.817836</td>\n    </tr>\n    <tr>\n      <th>3020</th>\n      <td>Female</td>\n      <td>Poor</td>\n      <td>172.692488</td>\n      <td>87.029120</td>\n      <td>-11.510052</td>\n      <td>16878.258491</td>\n    </tr>\n    <tr>\n      <th>9482</th>\n      <td>Male</td>\n      <td>Poor</td>\n      <td>192.943659</td>\n      <td>45.735221</td>\n      <td>-10.750124</td>\n      <td>20608.024401</td>\n    </tr>\n    <tr>\n      <th>1269</th>\n      <td>Female</td>\n      <td>Middle class</td>\n      <td>156.357974</td>\n      <td>45.163676</td>\n      <td>-10.633133</td>\n      <td>20718.032968</td>\n    </tr>\n    <tr>\n      <th>6666</th>\n      <td>Male</td>\n      <td>Middle class</td>\n      <td>162.179818</td>\n      <td>20.873460</td>\n      <td>-10.396452</td>\n      <td>18962.813691</td>\n    </tr>\n    <tr>\n      <th>9275</th>\n      <td>Female</td>\n      <td>Middle class</td>\n      <td>140.817325</td>\n      <td>68.075292</td>\n      <td>-9.505143</td>\n      <td>23378.319414</td>\n    </tr>\n    <tr>\n      <th>895</th>\n      <td>Male</td>\n      <td>Poor</td>\n      <td>170.595460</td>\n      <td>52.938165</td>\n      <td>-8.822094</td>\n      <td>15812.472252</td>\n    </tr>\n    <tr>\n      <th>6131</th>\n      <td>Female</td>\n      <td>Rich</td>\n      <td>180.540882</td>\n      <td>65.297945</td>\n      <td>-8.274101</td>\n      <td>16828.389404</td>\n    </tr>\n  </tbody>\n</table>\n</div>"
     },
     "metadata": {},
     "execution_count": 78
    }
   ],
   "source": [
    "sorted_data = data.sort_values(['Age', 'Income'])\n",
    "sorted_data.head(10)"
   ]
  },
  {
   "cell_type": "code",
   "execution_count": 80,
   "metadata": {},
   "outputs": [
    {
     "output_type": "execute_result",
     "data": {
      "text/plain": [
       "      Gender Economic Status      Height     Weigth        Age        Income\n",
       "6721  Female    Middle class  106.753882  63.750814 -15.483613  14823.051842\n",
       "9482    Male            Poor  192.943659  45.735221 -10.750124  20608.024401"
      ],
      "text/html": "<div>\n<style scoped>\n    .dataframe tbody tr th:only-of-type {\n        vertical-align: middle;\n    }\n\n    .dataframe tbody tr th {\n        vertical-align: top;\n    }\n\n    .dataframe thead th {\n        text-align: right;\n    }\n</style>\n<table border=\"1\" class=\"dataframe\">\n  <thead>\n    <tr style=\"text-align: right;\">\n      <th></th>\n      <th>Gender</th>\n      <th>Economic Status</th>\n      <th>Height</th>\n      <th>Weigth</th>\n      <th>Age</th>\n      <th>Income</th>\n    </tr>\n  </thead>\n  <tbody>\n    <tr>\n      <th>6721</th>\n      <td>Female</td>\n      <td>Middle class</td>\n      <td>106.753882</td>\n      <td>63.750814</td>\n      <td>-15.483613</td>\n      <td>14823.051842</td>\n    </tr>\n    <tr>\n      <th>9482</th>\n      <td>Male</td>\n      <td>Poor</td>\n      <td>192.943659</td>\n      <td>45.735221</td>\n      <td>-10.750124</td>\n      <td>20608.024401</td>\n    </tr>\n  </tbody>\n</table>\n</div>"
     },
     "metadata": {},
     "execution_count": 80
    }
   ],
   "source": [
    "age_grouped = sorted_data.groupby(['Gender'])\n",
    "age_grouped.head(1)"
   ]
  },
  {
   "cell_type": "code",
   "execution_count": 81,
   "metadata": {},
   "outputs": [
    {
     "output_type": "execute_result",
     "data": {
      "text/plain": [
       "      Gender Economic Status      Height     Weigth        Age        Income\n",
       "1491    Male            Rich  161.610818  33.056397  74.275010  16471.774586\n",
       "5763  Female            Poor  148.742225  77.192628  78.052117  15683.510664"
      ],
      "text/html": "<div>\n<style scoped>\n    .dataframe tbody tr th:only-of-type {\n        vertical-align: middle;\n    }\n\n    .dataframe tbody tr th {\n        vertical-align: top;\n    }\n\n    .dataframe thead th {\n        text-align: right;\n    }\n</style>\n<table border=\"1\" class=\"dataframe\">\n  <thead>\n    <tr style=\"text-align: right;\">\n      <th></th>\n      <th>Gender</th>\n      <th>Economic Status</th>\n      <th>Height</th>\n      <th>Weigth</th>\n      <th>Age</th>\n      <th>Income</th>\n    </tr>\n  </thead>\n  <tbody>\n    <tr>\n      <th>1491</th>\n      <td>Male</td>\n      <td>Rich</td>\n      <td>161.610818</td>\n      <td>33.056397</td>\n      <td>74.275010</td>\n      <td>16471.774586</td>\n    </tr>\n    <tr>\n      <th>5763</th>\n      <td>Female</td>\n      <td>Poor</td>\n      <td>148.742225</td>\n      <td>77.192628</td>\n      <td>78.052117</td>\n      <td>15683.510664</td>\n    </tr>\n  </tbody>\n</table>\n</div>"
     },
     "metadata": {},
     "execution_count": 81
    }
   ],
   "source": [
    "age_grouped.tail(1)"
   ]
  },
  {
   "cell_type": "code",
   "execution_count": null,
   "metadata": {},
   "outputs": [],
   "source": []
  }
 ]
}